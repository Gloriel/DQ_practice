{
 "cells": [
  {
   "cell_type": "code",
   "execution_count": null,
   "metadata": {},
   "outputs": [],
   "source": [
    "import numpy as np\n",
    "x = np.array([10, 20, 30])\n",
    "length = len(x)\n",
    "x = np.array([10, 20, 30])\n",
    "x0 = x[0]\n",
    "x2 = x[2]\n",
    "x[1] = 42\n",
    "x = np.array([9, 1, 5, 6, 2, 0, 4, 3, 8, 7])\n",
    "first_half = x[0:5]\n",
    "last_8 = x[2:]\n",
    "middle = x[1:9]\n",
    "x = np.array([9, 1, 5, 6, 2, 0, 4, 3, 8, 7])\n",
    "even = x[::2]\n",
    "odd = x[1::2]\n",
    "mul_3 = x[::3]\n",
    "every_2 = x[3:9:2]\n",
    "x = np.array([1, 0, 0, 0, 1])\n",
    "y = x[1:4]\n",
    "z = y.copy()\n",
    "\n",
    "z[0] = 9\n",
    "print(x, y, z)\n",
    "\n",
    "y[1] = 7\n",
    "print(x, y, z)"
   ]
  },
  {
   "cell_type": "code",
   "execution_count": null,
   "metadata": {},
   "outputs": [],
   "source": [
    "x = np.array([9, 1, 5, 6, 2, 0, 4, 3, 8, 7])\n",
    "second_to_last = x[-2]\n",
    "reversed_x = x[::-1]\n",
    "first_5_reversed = x[4::-1]\n",
    "last_5_reversed = x[:4:-1]\n",
    "my_2d_array = np.array([\n",
    "    [1, 4, 7],\n",
    "    [2, 5, 8],\n",
    "    [3, 6, 9]\n",
    "])\n",
    "my_2d_array[1, 1] = 42\n",
    "array2d = np.array([\n",
    "    [1, 2, 3, 4, 5],\n",
    "    [6, 7, 8, 9, 10],\n",
    "    [11, 12, 13, 14, 15]\n",
    "])\n",
    "x = array2d[:,3:] # Get all rows, get cols starting at col 3\n",
    "y = array2d[::2,:] # Get all even rows, get all cols\n",
    "z = array2d[::2,::2] # Get all even rows, get all even cols"
   ]
  },
  {
   "cell_type": "code",
   "execution_count": null,
   "metadata": {},
   "outputs": [],
   "source": [
    "array2d = np.array([\n",
    "    [0, 0, 0, 0, 0],\n",
    "    [0, 0, 0, 0, 0],\n",
    "    [0, 0, 0, 0, 0],\n",
    "    [0, 0, 0, 0, 0],\n",
    "])\n",
    "array2d[:,0:2] = 1\n",
    "array2d[2:,:] = 2\n",
    "array2d[0:3,1:4] = 3"
   ]
  },
  {
   "cell_type": "code",
   "execution_count": null,
   "metadata": {},
   "outputs": [],
   "source": [
    "people_data = np.array([\n",
    "    [27, 67, 1.65],\n",
    "    [35, 81, 1.84],\n",
    "    [29, 55, 1.60],\n",
    "    [41, 73, 1.79]\n",
    "])\n",
    "anna_row = people_data[2,:]\n",
    "bob_age_height = people_data[3,::2]\n",
    "ages_col = people_data[:,0]\n",
    "weight_dexter_bob = people_data[1::2,1]"
   ]
  },
  {
   "cell_type": "code",
   "execution_count": null,
   "metadata": {},
   "outputs": [],
   "source": [
    "table = np.array([\n",
    "    [ 1,  2,  3,  4,  5],\n",
    "    [ 6,  7,  8,  9, 10],\n",
    "    [11, 12, 13, 14, 15],\n",
    "    [16, 17, 18, 19, 20]\n",
    "])\n",
    "col = table[0:4,1]\n",
    "row = table[2,0:5]\n",
    "center = table[1:3,1:4]\n",
    "\n",
    "# Alternative answer (using default values)\n",
    "col = table[:,1]\n",
    "row = table[2,:]\n",
    "center = table[1:-1,1:-1]"
   ]
  },
  {
   "cell_type": "code",
   "execution_count": null,
   "metadata": {},
   "outputs": [],
   "source": [
    "def add_list_values(list1, list2):\n",
    "    result = []\n",
    "    N = len(list1)\n",
    "    for i in range(N):\n",
    "        result.append(list1[i] + list2[i])\n",
    "    return result"
   ]
  },
  {
   "cell_type": "code",
   "execution_count": null,
   "metadata": {},
   "outputs": [],
   "source": [
    "import time\n",
    "import random\n",
    "random.seed(0)\n",
    "\n",
    "# Generate test lists\n",
    "list1 = [random.randint(0, 1000) for _ in range(100000)]\n",
    "list2 = [random.randint(0, 1000) for _ in range(100000)]\n",
    "\n",
    "# Measure the execution time of adding lists\n",
    "start = time.time()\n",
    "add_list_values(list1, list2)\n",
    "end = time.time()\n",
    "time_list = end - start\n",
    "\n",
    "# Write your code below\n",
    "# Create ndarrays from the lists\n",
    "x1 = np.array(list1)\n",
    "x2 = np.array(list2)\n",
    "\n",
    "# Measure the execution time of adding ndarrays\n",
    "start = time.time()\n",
    "x3 = x1 + x2\n",
    "end = time.time()\n",
    "time_array = end - start\n",
    "\n",
    "# Compute the execution time ratio\n",
    "ratio = time_list / time_array\n",
    "print(ratio)"
   ]
  },
  {
   "cell_type": "code",
   "execution_count": null,
   "metadata": {},
   "outputs": [],
   "source": [
    "people_data = np.array([\n",
    "    [27, 67, 1.65],\n",
    "    [35, 81, 1.84],\n",
    "    [29, 55, 1.60],\n",
    "    [41, 73, 1.79]\n",
    "])\n",
    "w = people_data[:,1]\n",
    "h = people_data[:,2]\n",
    "BMI = w / (h * h)"
   ]
  },
  {
   "cell_type": "code",
   "execution_count": null,
   "metadata": {},
   "outputs": [],
   "source": [
    "total_scores = np.array([\n",
    " [ 98, 155],\n",
    " [142,  98],\n",
    " [140, 143],\n",
    " [102, 172]\n",
    "])\n",
    "scores_game1 = total_scores[:,0]\n",
    "scores_game2 = total_scores[:,1]\n",
    "\n",
    "min_game1 = scores_game1.min()\n",
    "max_game1 = scores_game1.max()\n",
    "\n",
    "min_game2 = scores_game2.min()\n",
    "max_game2 = scores_game2.max()"
   ]
  },
  {
   "cell_type": "code",
   "execution_count": null,
   "metadata": {},
   "outputs": [],
   "source": [
    "total_scores = np.array([\n",
    " [ 98, 155],\n",
    " [142,  98],\n",
    " [140, 143],\n",
    " [102, 172]\n",
    "])\n",
    "max_game_scores = total_scores.max(axis=0)\n",
    "min_game_scores = total_scores.min(axis=0)\n",
    "max_people_scores = total_scores.max(axis=1)\n",
    "min_people_scores = total_scores.min(axis=1)"
   ]
  },
  {
   "cell_type": "code",
   "execution_count": null,
   "metadata": {},
   "outputs": [],
   "source": [
    "total_scores = np.array([\n",
    " [ 98, 155],\n",
    " [142,  98],\n",
    " [140, 143],\n",
    " [102, 172]\n",
    "])\n",
    "total_people_score = total_scores.sum(axis=1)\n",
    "max_score = total_people_score.max()"
   ]
  },
  {
   "cell_type": "code",
   "execution_count": null,
   "metadata": {},
   "outputs": [],
   "source": [
    "import numpy as np\n",
    "x = np.array([\n",
    " [7., 9., 2., 2.],\n",
    " [3., 2., 6., 4.],\n",
    " [5., 6., 5., 7.]\n",
    "])\n",
    "ones = np.ones(x.shape)\n",
    "x -= ones"
   ]
  },
  {
   "cell_type": "code",
   "execution_count": null,
   "metadata": {},
   "outputs": [],
   "source": [
    "x = np.array([3, 2, 4, 5])\n",
    "r = 1 / x"
   ]
  },
  {
   "cell_type": "code",
   "execution_count": null,
   "metadata": {},
   "outputs": [],
   "source": [
    "x = np.array([\n",
    "    [4, 2, 1, 5],\n",
    "    [6, 7, 3, 8]\n",
    "])\n",
    "y = np.array([\n",
    "    [1],\n",
    "    [2]\n",
    "])\n",
    "z = x + y\n",
    "print(z)"
   ]
  },
  {
   "cell_type": "code",
   "execution_count": null,
   "metadata": {},
   "outputs": [],
   "source": [
    "x = np.array([\n",
    "    [4, 2, 1, 5],\n",
    "    [6, 7, 3, 8]\n",
    "])\n",
    "y = np.array([1, 2, 3, 4])\n",
    "z = x + y"
   ]
  },
  {
   "cell_type": "code",
   "execution_count": null,
   "metadata": {},
   "outputs": [],
   "source": [
    "x = np.array([\n",
    "    [1],\n",
    "    [2],\n",
    "    [3]\n",
    "])\n",
    "y = np.array([1, 2, 3])\n",
    "z = x + y"
   ]
  },
  {
   "cell_type": "code",
   "execution_count": null,
   "metadata": {},
   "outputs": [],
   "source": [
    "dice1 = np.array([1, 2, 3, 4, 5, 6])\n",
    "dice2 = np.array([\n",
    "    [1],\n",
    "    [2],\n",
    "    [3],\n",
    "    [4],\n",
    "    [5],\n",
    "    [6]\n",
    "])\n",
    "dice_sums = dice1 + dice2"
   ]
  },
  {
   "cell_type": "code",
   "execution_count": null,
   "metadata": {},
   "outputs": [],
   "source": [
    "x = np.array([1, 2, 3, 4])\n",
    "y = np.array([\n",
    "    [1], \n",
    "    [2], \n",
    "    [3], \n",
    "    [4]\n",
    "])\n",
    "shape_x = x.shape\n",
    "shape_y = y.shape\n",
    "print(shape_x, shape_y)\n",
    "\n",
    "# Step 1.\n",
    "# Add 1's to the left of shape of x until it becomes 2-dimensional\n",
    "shape_x_step1 = (1, 4)\n",
    "shape_y_step1 = (4, 1)\n",
    "\n",
    "# Step 2.\n",
    "# We got a 1 and a 4 in the first position. Make the 1 into a 4.\n",
    "shape_x_step2 = (4, 4)\n",
    "\n",
    "# We got a 1 and a 4 in the second position. Make the 1 into a 4.\n",
    "shape_y_step2 = (4, 4)\n",
    "\n",
    "# Step 3.\n",
    "# Both have the same shape, so they can be added.\n",
    "error = False"
   ]
  },
  {
   "cell_type": "code",
   "execution_count": null,
   "metadata": {},
   "outputs": [],
   "source": [
    "dice1 = np.array([i for i in range(1, 7)])\n",
    "dice2 = dice1.reshape((6, 1))\n",
    "dice_sums = dice1 + dice2"
   ]
  },
  {
   "cell_type": "code",
   "execution_count": null,
   "metadata": {},
   "outputs": [],
   "source": [
    "cell_numbers = np.array([i for i in range(1, 37)])\n",
    "numbering_by_row = cell_numbers.reshape((6, 6))\n",
    "numbering_by_col = cell_numbers.reshape((6, 6), order='F')"
   ]
  },
  {
   "cell_type": "code",
   "execution_count": null,
   "metadata": {},
   "outputs": [],
   "source": [
    "import numpy as np\n",
    "x = np.array([\n",
    "    [44, 70, 49,  2, 19],\n",
    "    [62, 68, 64, 18, 12],\n",
    "    [91, 90, 63, 98, 69],\n",
    "    [22,  9, 98, 16, 58],\n",
    "    [47, 92, 39,  8, 19],\n",
    "    [ 1, 41,  3, 15, 71],\n",
    "    [92, 18, 37, 42,  5]\n",
    "])\n",
    "first_four = x[:4,:]\n",
    "last_column = x[:,-1]"
   ]
  },
  {
   "cell_type": "code",
   "execution_count": null,
   "metadata": {},
   "outputs": [],
   "source": [
    "import numpy as np\n",
    "sars = np.genfromtxt('sars.csv', delimiter=',')\n",
    "first_five = sars[:5,:]\n",
    "\n",
    "# Alternative answer\n",
    "sars = np.genfromtxt('sars.csv', delimiter=',')\n",
    "first_five = sars[:5]\n",
    "print(first_five)"
   ]
  },
  {
   "cell_type": "code",
   "execution_count": null,
   "metadata": {},
   "outputs": [],
   "source": [
    "np.set_printoptions(suppress=True)\n",
    "sars = sars[1:,:]\n",
    "sars = sars[:,1:]\n",
    "print(sars[:5,:])\n",
    "total = sars[:,2]\n",
    "max_dead = total.max()"
   ]
  },
  {
   "cell_type": "code",
   "execution_count": null,
   "metadata": {},
   "outputs": [],
   "source": [
    "female = sars[:,0]\n",
    "male = sars[:,1]\n",
    "more_female_deaths = female > male\n",
    "equal_deaths = female == male\n",
    "num_more_female = more_female_deaths.sum()\n",
    "num_equal = equal_deaths.sum()\n",
    "num_more_male = len(sars) - num_more_female - num_equal"
   ]
  },
  {
   "cell_type": "code",
   "execution_count": null,
   "metadata": {},
   "outputs": [],
   "source": [
    "any_less_1 = (sars[:,-1] < 1).any()\n",
    "all_less_50 = (sars[:,-1] < 50).all()"
   ]
  },
  {
   "cell_type": "code",
   "execution_count": null,
   "metadata": {},
   "outputs": [],
   "source": [
    "deaths = sars[:,3]\n",
    "fatality_ratio = sars[:, 4]\n",
    "death_gt_100_ratio_lt_10 = (deaths >= 100) & (fatality_ratio <= 10)\n",
    "count = death_gt_100_ratio_lt_10.sum()"
   ]
  },
  {
   "cell_type": "code",
   "execution_count": null,
   "metadata": {},
   "outputs": [],
   "source": [
    "mask = fatality_ratio >= 10\n",
    "num_deaths = deaths[mask]\n",
    "print(num_deaths)"
   ]
  },
  {
   "cell_type": "code",
   "execution_count": null,
   "metadata": {},
   "outputs": [],
   "source": [
    "mask_zeros = sars == 0\n",
    "zeros = sars[mask_zeros]\n",
    "num_zeros = len(zeros)"
   ]
  },
  {
   "cell_type": "code",
   "execution_count": null,
   "metadata": {},
   "outputs": [],
   "source": [
    "import numpy as np\n",
    "\n",
    "boolean_list = [True, False, True, False]\n",
    "integer_list = [6, -5, -9, 10]\n",
    "float_list   = [0.5, 10.74, 65.5, 0.2]\n",
    "boolean_array = np.array(boolean_list)\n",
    "print(boolean_array.dtype)\n",
    "\n",
    "integer_array = np.array(integer_list)\n",
    "print(integer_array.dtype)\n",
    "\n",
    "float_array = np.array(float_list)\n",
    "print(float_array.dtype)"
   ]
  },
  {
   "cell_type": "code",
   "execution_count": null,
   "metadata": {},
   "outputs": [],
   "source": [
    "value_list = [-127, -57, -6, 0, 9, 42, 125]\n",
    "value_array = np.array(value_list, dtype=np.int8)"
   ]
  },
  {
   "cell_type": "code",
   "execution_count": null,
   "metadata": {},
   "outputs": [],
   "source": [
    "x = np.array([-127, -57, -6, 0, 9, 42, 125], dtype=np.int8)\n",
    "print(x - 2)\n",
    "print(x + 3)"
   ]
  },
  {
   "cell_type": "code",
   "execution_count": null,
   "metadata": {},
   "outputs": [],
   "source": [
    "import pandas as pd\n",
    "cars = pd.read_csv('cars.csv')\n",
    "car_100 = cars.loc[99]\n",
    "cars_2_to_10 = cars.loc[1:9]"
   ]
  },
  {
   "cell_type": "code",
   "execution_count": null,
   "metadata": {},
   "outputs": [],
   "source": [
    "cars_shape = cars.shape\n",
    "first_six_rows = cars.head(6)\n",
    "last_four_rows = cars.tail(4)"
   ]
  },
  {
   "cell_type": "code",
   "execution_count": null,
   "metadata": {},
   "outputs": [],
   "source": [
    "cars_odd = cars.iloc[1::2, :3]\n",
    "fifth_odd_car_name = cars_odd.iat[4, 0]\n",
    "last_four = cars_odd.tail(4)\n",
    "print(last_four)"
   ]
  },
  {
   "cell_type": "code",
   "execution_count": null,
   "metadata": {},
   "outputs": [],
   "source": [
    "cars['PW_ratio'] = cars['Horsepower'] / cars['Weight']\n",
    "max_pw_ratio = cars['PW_ratio'].max()"
   ]
  },
  {
   "cell_type": "code",
   "execution_count": null,
   "metadata": {},
   "outputs": [],
   "source": [
    "keep_cols = ['ExhibitionID', 'ExhibitionNumber', 'ExhibitionBeginDate', 'ExhibitionEndDate', 'ExhibitionSortOrder', 'ExhibitionRole', 'ConstituentType', 'DisplayName', 'Institution', 'Nationality', 'Gender']\n",
    "moma = pd.read_csv(\"moma.csv\", parse_dates=[\"ExhibitionBeginDate\", \"ExhibitionEndDate\"], usecols=keep_cols)\n",
    "print(moma.memory_usage(deep=True).sum()/(1024*1024))"
   ]
  },
  {
   "cell_type": "code",
   "execution_count": null,
   "metadata": {},
   "outputs": [],
   "source": [
    "import pandas as pd\n",
    "import matplotlib.pyplot as plt\n",
    "\n",
    "memory_footprints = []\n",
    "chunk_iter = pd.read_csv(\"moma.csv\", chunksize=250)\n",
    "for chunk in chunk_iter:\n",
    "    memory_footprints.append(chunk.memory_usage(deep=True).sum()/(1024*1024))\n",
    "\n",
    "plt.hist(memory_footprints)\n",
    "plt.show()"
   ]
  },
  {
   "cell_type": "code",
   "execution_count": null,
   "metadata": {},
   "outputs": [],
   "source": [
    "num_rows = 0\n",
    "chunk_iter = pd.read_csv(\"moma.csv\", chunksize=250)\n",
    "for chunk in chunk_iter:\n",
    "    num_rows += len(chunk)\n",
    "print(num_rows)"
   ]
  },
  {
   "cell_type": "code",
   "execution_count": null,
   "metadata": {},
   "outputs": [],
   "source": [
    "chunk_iter = pd.read_csv(\"moma.csv\", chunksize=250, usecols=['Gender'])\n",
    "overall_vc = list()\n",
    "for chunk in chunk_iter:\n",
    "    chunk_vc = chunk['Gender'].value_counts()\n",
    "    overall_vc.append(chunk_vc)\n",
    "combined_vc = pd.concat(overall_vc)\n",
    "print(combined_vc)"
   ]
  },
  {
   "cell_type": "code",
   "execution_count": null,
   "metadata": {},
   "outputs": [],
   "source": [
    "chunk_iter = pd.read_csv(\"moma.csv\", chunksize=250, usecols=['Gender'])\n",
    "overall_vc = list()\n",
    "for chunk in chunk_iter:\n",
    "    chunk_vc = chunk['Gender'].value_counts()\n",
    "    overall_vc.append(chunk_vc)\n",
    "combined_vc = pd.concat(overall_vc)\n",
    "final_vc = combined_vc.groupby(combined_vc.index).sum()\n",
    "print(final_vc)"
   ]
  },
  {
   "cell_type": "code",
   "execution_count": null,
   "metadata": {},
   "outputs": [],
   "source": [
    "chunk_iter = pd.read_csv(\"moma.csv\", chunksize=250)\n",
    "df_list = []\n",
    "for chunk in chunk_iter:\n",
    "    temp = chunk['Gender'].groupby(chunk['ExhibitionID']).value_counts()\n",
    "    df_list.append(temp)\n",
    "final_df = pd.concat(df_list)\n",
    "id_gender_counts = final_df.groupby(final_df.index).sum()"
   ]
  },
  {
   "cell_type": "code",
   "execution_count": null,
   "metadata": {},
   "outputs": [],
   "source": [
    "import sqlite3\n",
    "import pandas as pd\n",
    "conn = sqlite3.connect('moma.db')\n",
    "moma_iter = pd.read_csv('moma.csv', chunksize=1000)\n",
    "for chunk in moma_iter:\n",
    "    chunk.to_sql(\"exhibitions\", conn, if_exists='append', index=False)"
   ]
  },
  {
   "cell_type": "code",
   "execution_count": null,
   "metadata": {},
   "outputs": [],
   "source": [
    "results_df = pd.read_sql('PRAGMA table_info(exhibitions);', conn)\n",
    "print(results_df)"
   ]
  },
  {
   "cell_type": "code",
   "execution_count": null,
   "metadata": {},
   "outputs": [],
   "source": [
    "moma_iter = pd.read_csv('moma.csv', chunksize=1000)\n",
    "for chunk in moma_iter:\n",
    "    chunk['ExhibitionSortOrder'] = chunk['ExhibitionSortOrder'].astype('int16')\n",
    "    chunk.to_sql(\"exhibitions\", conn, if_exists='append', index=False)\n",
    "results_df = pd.read_sql('PRAGMA table_info(exhibitions);', conn)\n",
    "print(results_df)"
   ]
  },
  {
   "cell_type": "code",
   "execution_count": null,
   "metadata": {},
   "outputs": [],
   "source": [
    "q = 'select exhibitionid, count(*) as counts from exhibitions group by exhibitionid order by counts desc;'\n",
    "eid_counts = pd.read_sql(q, conn)\n",
    "print(eid_counts[:10])"
   ]
  }
 ],
 "metadata": {
  "kernelspec": {
   "display_name": "Python 3",
   "language": "python",
   "name": "python3"
  },
  "language_info": {
   "codemirror_mode": {
    "name": "ipython",
    "version": 3
   },
   "file_extension": ".py",
   "mimetype": "text/x-python",
   "name": "python",
   "nbconvert_exporter": "python",
   "pygments_lexer": "ipython3",
   "version": "3.8.3"
  }
 },
 "nbformat": 4,
 "nbformat_minor": 4
}
