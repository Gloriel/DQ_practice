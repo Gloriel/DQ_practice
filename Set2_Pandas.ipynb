{
 "cells": [
  {
   "cell_type": "markdown",
   "metadata": {},
   "source": [
    "https://python.ivan-shamaev.ru/5-useful-functions-of-pandas-python-for-data-science/"
   ]
  },
  {
   "cell_type": "code",
   "execution_count": null,
   "metadata": {},
   "outputs": [],
   "source": [
    "import pandas as pd\n",
    "import numpy as np\n",
    "import warnings # отключим предупреждения Anaconda\n",
    "warnings.simplefilter('ignore')\n",
    "%matplotlib inline \n",
    "import seaborn as sns\n",
    "import matplotlib.pyplot as plt\n",
    "%config InlineBackend.figure_format = 'svg' #графики в svg выглядят более четкими\n",
    "from pylab import rcParams #увеличим дефолтный размер графиков\n",
    "plt.style.use('ggplot')  # Красивые графики\n",
    "plt.rcParams['figure.figsize'] = (15, 5)  # Размер картинок\n",
    "from plotly.offline import download_plotlyjs, init_notebook_mode, plot, iplot\n",
    "import plotly\n",
    "import plotly.graph_objs as go\n",
    "import plotly.graph_objects as go\n",
    "\n",
    "init_notebook_mode(connected=True)\n",
    "pd.options.display.float_format = '{:,.1f}'.format # Отображение чисел float с запятыми и 1 знаком после точки\n",
    "\n",
    "f500 = pd.read_csv(\"f500.csv\", index_col=0)"
   ]
  },
  {
   "cell_type": "code",
   "execution_count": null,
   "metadata": {
    "scrolled": false
   },
   "outputs": [],
   "source": [
    "f500[['sector', 'industry']].value_counts()\n",
    "bottom_companies = f500.loc[\"National Grid\":\"AutoNation\", [\"rank\", \"sector\", \"country\"]]\n",
    "big_movers = f500.loc[[\"Aviva\", \"HP\", \"JD.com\", \"BHP Billiton\"], [\"rank\", \"previous_rank\"]]\n",
    "rank_change = f500['previous_rank'] - f500['rank']\n",
    "rank_change.max()"
   ]
  },
  {
   "cell_type": "code",
   "execution_count": null,
   "metadata": {},
   "outputs": [],
   "source": [
    "f500.describe() #Общее описание всех цифровых колонок\n",
    "f500[\"rank\"].describe() #Статистика колонки\n",
    "f500[\"previous_rank\"].value_counts().loc[0] #Ищем определенные параметры в столбце\n",
    "f500[[\"revenues\", \"profits\"]].median(axis=0) #AXIS 0 ищет по всем индексам, 1 - по всем колонкам\n",
    "f500.max(numeric_only=True) #Ищет только по числовым колонкам\n",
    "f500.describe(include=['O']) #Смотрит только на колонки с объектами"
   ]
  },
  {
   "cell_type": "code",
   "execution_count": null,
   "metadata": {
    "scrolled": false
   },
   "outputs": [],
   "source": [
    "new_f500 = f500['previous_rank'] == 0 #Находим строки с пробелами в данных\n",
    "f500_selection = f500[['rank', 'revenues', 'revenue_change']]\n",
    "f500.loc[new_f500, 'country'].value_counts()\n",
    "f500[\"previous_rank\"].value_counts(dropna=False).head() #Дропна не позволяет просто отборсить пустые ячейки \n",
    "f500.loc[f500[\"previous_rank\"] == 0, \"previous_rank\"] = np.nan #Заменяем на на NaN. Что превращает инт в флоат\n",
    "f500[\"industry\"][f500[\"country\"] == \"USA\"].value_counts() #Сортировка по значениям в колонках и индексах"
   ]
  },
  {
   "cell_type": "code",
   "execution_count": null,
   "metadata": {},
   "outputs": [],
   "source": [
    "f500 = pd.read_csv(\"f500.csv\")\n",
    "f500.loc[f500[\"previous_rank\"] == 0, \"previous_rank\"] = np.nan\n",
    "first_column = f500.iloc[:,0] #ILOC это индексация построенная на цифровых значениях\n",
    "slices = f500.iloc[:, [1,5]]"
   ]
  },
  {
   "cell_type": "code",
   "execution_count": null,
   "metadata": {},
   "outputs": [],
   "source": [
    "#Метод выбирает индексы со значением ноль в ячейках\n",
    "null_previous_rank = f500[f500[\"previous_rank\"].isnull()][[\"company\",\"rank\", \"previous_rank\"]] #Здесь нули\n",
    "first_null_prev_rank = null_previous_rank.iloc[0]\n",
    "previously_ranked = f500[f500[\"previous_rank\"].notnull()] #Здесь не нули\n",
    "rank_change = previously_ranked[\"previous_rank\"] - previously_ranked[\"rank\"] #работа с ненулевыми значениями\n",
    "f500[\"rank_change\"] = rank_change #Добавление колонки\n",
    "print(rank_change.shape)\n",
    "print(rank_change.tail(3))"
   ]
  },
  {
   "cell_type": "code",
   "execution_count": null,
   "metadata": {},
   "outputs": [],
   "source": [
    "# Выборка по заданным булевым параметрам\n",
    "big_rev_neg_profit = (f500['revenues'] > 100000) & (f500['profits'] < 0)\n",
    "filter_brazil_venezuela = (f500[\"country\"] == \"Brazil\") | (f500[\"country\"] == \"Venezuela\")\n",
    "filter_tech_outside_usa = (f500[\"sector\"] == \"Technology\") & ~(f500[\"country\"] == \"USA\")"
   ]
  },
  {
   "cell_type": "code",
   "execution_count": null,
   "metadata": {},
   "outputs": [],
   "source": [
    "#сортировка по доп. параметрам\n",
    "f500[f500[\"country\"] == \"China\"].sort_values(\"employees\", ascending=False)\n",
    "f500[f500[\"country\"] == \"Japan\"].sort_values(\"employees\", ascending=False).iloc[0]['company']\n",
    "\n",
    "#Сортировка с использованием циклов\n",
    "avg_rev_by_country = {}\n",
    "countries = f500[\"country\"].unique()\n",
    "for c in countries:    \n",
    "    selected_rows = f500[f500[\"country\"] == c]\n",
    "    mean = selected_rows[\"revenues\"].mean()\n",
    "    avg_rev_by_country[c] = mean\n",
    "    \n",
    "top_employer_by_country = {}\n",
    "countries = f500[\"country\"].unique()\n",
    "for c in countries:\n",
    "    selected_rows = f500[f500[\"country\"] == c]\n",
    "    sorted_rows = selected_rows.sort_values(\"employees\", ascending=False)\n",
    "    top_employer = sorted_rows.iloc[0]\n",
    "    employer_name = top_employer[\"company\"]\n",
    "    top_employer_by_country[c] = employer_name\n",
    "    \n",
    "f500['roa'] = f500['profits'] / f500['assets']\n",
    "top_roa_by_sector = {}\n",
    "for sector in f500[\"sector\"].unique(): #Выделяем группы\n",
    "    is_sector = f500[\"sector\"] == sector \n",
    "    sector_companies = f500.loc[is_sector] #Разбиваем компании по этим группам\n",
    "    top_company = sector_companies.sort_values(\"roa\",ascending=False).iloc[0] #Находим топ в списке и находим ее название\n",
    "    top_roa_by_sector[sector] = top_company[\"company\"] #ЗЗаносим ключ и значение в словарь"
   ]
  },
  {
   "cell_type": "code",
   "execution_count": null,
   "metadata": {},
   "outputs": [],
   "source": [
    "laptops = pd.read_csv('laptops.csv', encoding='Latin-1')"
   ]
  },
  {
   "cell_type": "code",
   "execution_count": null,
   "metadata": {},
   "outputs": [],
   "source": [
    "#Чистим заголовки от пробелов\n",
    "def clean_col(col):\n",
    "    col = col.strip() #Разделяем и убираем мусор\n",
    "    col = col.lower()\n",
    "    col = col.replace(\"operating_system\",\"os\")\n",
    "    col = col.replace(\"(\",\"\")\n",
    "    col = col.replace(\")\",\"\")    \n",
    "    col = col.replace(\" \",\"_\")    \n",
    "    return col\n",
    "\n",
    "new_columns = []\n",
    "for col in laptops.columns:\n",
    "    col = clean_col(col)    \n",
    "    new_columns.append(col)\n",
    "\n",
    "laptops.columns = new_columns #Создаем очищенный список, который подставляем на место прошлых имен колонок"
   ]
  },
  {
   "cell_type": "code",
   "execution_count": null,
   "metadata": {},
   "outputs": [],
   "source": [
    "laptops.columns"
   ]
  },
  {
   "cell_type": "code",
   "execution_count": null,
   "metadata": {},
   "outputs": [],
   "source": [
    "unique_ram = laptops[\"ram\"].unique()\n",
    "laptops[\"ram\"] = laptops[\"ram\"].str.replace('GB','')\n",
    "unique_ram = laptops[\"ram\"].unique()\n",
    "laptops[\"ram\"] = laptops[\"ram\"].str.replace('GB','')\n",
    "laptops[\"ram\"] = laptops[\"ram\"].astype(int)\n",
    "dtypes = laptops.dtypes\n",
    "laptops[\"ram\"] = laptops[\"ram\"].str.replace('GB','').astype(int)\n",
    "laptops.rename({\"ram\": \"ram_gb\"}, axis=1, inplace=True)\n",
    "ram_gb_desc = laptops[\"ram_gb\"].describe()\n",
    "laptops[\"gpu_manufacturer\"] = (laptops[\"gpu\"]\n",
    "                                       .str.split()\n",
    "                                       .str[0]\n",
    "                              )\n",
    "laptops[\"cpu_manufacturer\"] = (laptops[\"cpu\"]\n",
    "                                       .str.split()\n",
    "                                       .str[0]\n",
    "                               )\n",
    "cpu_manufacturer_counts = laptops[\"cpu_manufacturer\"].value_counts()\n",
    "\n",
    "mapping_dict = {\n",
    "    'Android': 'Android',\n",
    "    'Chrome OS': 'Chrome OS',\n",
    "    'Linux': 'Linux',\n",
    "    'Mac OS': 'macOS',\n",
    "    'No OS': 'No OS',\n",
    "    'Windows': 'Windows',\n",
    "    'macOS': 'macOS'\n",
    "}\n",
    "laptops[\"os\"] = laptops[\"os\"].map(mapping_dict)\n",
    "\n",
    "laptops_no_null_rows = laptops.dropna(axis=0)\n",
    "laptops_no_null_cols = laptops.dropna(axis=1)\n",
    "\n",
    "value_counts_before = laptops.loc[laptops[\"os_version\"].isnull(), \"os\"].value_counts()\n",
    "laptops.loc[laptops[\"os\"] == \"macOS\", \"os_version\"] = \"X\"\n",
    "laptops.loc[laptops[\"os\"] == \"No OS\", \"os_version\"] = \"Version Unknown\"\n",
    "value_counts_after = laptops.loc[laptops[\"os_version\"].isnull(), \"os\"].value_counts()\n",
    "\n",
    "laptops[\"weight\"] = laptops[\"weight\"].str.replace(\"kgs\",\"\").str.replace(\"kg\",\"\").astype(float)\n",
    "laptops.rename({\"weight\": \"weight_kg\"}, axis=1, inplace=True)\n",
    "laptops.to_csv('laptops_cleaned.csv',index=False)"
   ]
  },
  {
   "cell_type": "markdown",
   "metadata": {},
   "source": [
    "https://github.com/dataquestio/solutions/blob/master/Mission294Solutions.ipynb"
   ]
  },
  {
   "cell_type": "code",
   "execution_count": null,
   "metadata": {
    "scrolled": true
   },
   "outputs": [],
   "source": [
    "autos = pd.read_csv('autos.csv', encoding='Latin-1')\n",
    "autos.info()\n",
    "autos.head()"
   ]
  },
  {
   "cell_type": "code",
   "execution_count": null,
   "metadata": {},
   "outputs": [],
   "source": [
    "autos.columns = ['date_crawled', 'name', 'seller', 'offer_type', 'price', 'ab_test',\n",
    "       'vehicle_type', 'registration_year', 'gearbox', 'power_ps', 'model',\n",
    "       'odometer', 'registration_month', 'fuel_type', 'brand',\n",
    "       'unrepaired_damage', 'ad_created', 'num_photos', 'postal_code',\n",
    "       'last_seen']"
   ]
  },
  {
   "cell_type": "code",
   "execution_count": null,
   "metadata": {
    "scrolled": true
   },
   "outputs": [],
   "source": [
    "autos.describe(include='all')"
   ]
  },
  {
   "cell_type": "code",
   "execution_count": null,
   "metadata": {},
   "outputs": [],
   "source": [
    "autos[\"num_photos\"].value_counts()"
   ]
  },
  {
   "cell_type": "code",
   "execution_count": null,
   "metadata": {},
   "outputs": [],
   "source": [
    "autos = autos.drop([\"num_photos\", \"seller\", \"offer_type\"], axis=1)"
   ]
  },
  {
   "cell_type": "code",
   "execution_count": null,
   "metadata": {},
   "outputs": [],
   "source": [
    "autos[\"price\"] = (autos[\"price\"]\n",
    "                          .str.replace(\"$\",\"\")\n",
    "                          .str.replace(\",\",\"\")\n",
    "                          .astype(int)\n",
    "                          )\n",
    "autos[\"price\"].head()"
   ]
  },
  {
   "cell_type": "code",
   "execution_count": null,
   "metadata": {},
   "outputs": [],
   "source": [
    "autos[\"odometer\"] = (autos[\"odometer\"]\n",
    "                             .str.replace(\"km\",\"\")\n",
    "                             .str.replace(\",\",\"\")\n",
    "                             .astype(int)\n",
    "                             )\n",
    "autos.rename({\"odometer\": \"odometer_km\"}, axis=1, inplace=True)\n",
    "autos[\"odometer_km\"].head()"
   ]
  }
 ],
 "metadata": {
  "kernelspec": {
   "display_name": "Python 3",
   "language": "python",
   "name": "python3"
  },
  "language_info": {
   "codemirror_mode": {
    "name": "ipython",
    "version": 3
   },
   "file_extension": ".py",
   "mimetype": "text/x-python",
   "name": "python",
   "nbconvert_exporter": "python",
   "pygments_lexer": "ipython3",
   "version": "3.8.3"
  }
 },
 "nbformat": 4,
 "nbformat_minor": 4
}
