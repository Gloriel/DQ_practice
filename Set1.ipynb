{
 "cells": [
  {
   "cell_type": "code",
   "execution_count": 1,
   "metadata": {},
   "outputs": [],
   "source": [
    "from csv import reader\n",
    "import pandas as pd\n",
    "import matplotlib.pyplot as plt\n",
    "from sklearn.ensemble import RandomForestClassifier\n",
    "%matplotlib inline\n",
    "\n",
    "plt.style.use('ggplot')  \n",
    "plt.rcParams['figure.figsize'] = (15, 5) "
   ]
  },
  {
   "cell_type": "code",
   "execution_count": 2,
   "metadata": {},
   "outputs": [
    {
     "name": "stdout",
     "output_type": "stream",
     "text": [
      "Сегодня у нас Обучение в ускоренном формате, проведет Саша, джуниор, длительностью 130 минут и расскажет о том как рассчитываются налоги\n",
      "Если Вы получили доход в размере 12, должны уплатить налог в размере 1.56\n",
      "Если Вы получили доход в размере 26, должны уплатить налог в размере 3.38\n",
      "Если Вы получили доход в размере 43, должны уплатить налог в размере 5.59\n",
      "Если Вы получили доход в размере 54, должны уплатить налог в размере 7.0200000000000005\n"
     ]
    },
    {
     "data": {
      "image/png": "[encoded data removed]",
      "text/plain": [
       "<Figure size 1080x360 with 1 Axes>"
      ]
     },
     "metadata": {},
     "output_type": "display_data"
    }
   ],
   "source": [
    "intensive = \"Обучение в ускоренном формате\"\n",
    "duration = \"130 минут\"\n",
    "speaker = \"Саша\"\n",
    "profession = \"джуниор\"\n",
    "whois = speaker + \", \" + profession\n",
    "print(f\"Сегодня у нас {intensive}, проведет {whois}, длительностью {duration} и расскажет о том как рассчитываются налоги\")\n",
    "\n",
    "income = [12,26,43,54]\n",
    "for i in income:\n",
    "    tax = 0.13 * i\n",
    "    print(f\"Если Вы получили доход в размере {i}, должны уплатить налог в размере {tax}\")\n",
    "    \n",
    "plt.plot(income)\n",
    "plt.show()"
   ]
  },
  {
   "cell_type": "code",
   "execution_count": 3,
   "metadata": {},
   "outputs": [],
   "source": [
    "def explore_data(dataset, start, end, rows_and_columns=False):\n",
    "    \"\"\"\n",
    "    Function for showing the list of lists primary stats:    \n",
    "    \"\"\"\n",
    "    dataset_slice = dataset[start:end]    \n",
    "    for row in dataset_slice:\n",
    "        print(row)\n",
    "        print('\\n') \n",
    "\n",
    "    if rows_and_columns:\n",
    "        print('Number of rows:', len(dataset))\n",
    "        print('Number of columns:', len(dataset[0]))\n",
    "        \n",
    "\n",
    "def eng_check(string):\n",
    "    \"\"\"\n",
    "    Function for clearing LoL from NOT english rows (string names are checked 4 only english encryption) \n",
    "    \"\"\"\n",
    "    x=0\n",
    "    for character in string:        \n",
    "        if ord(character) > 127:\n",
    "            x += 1\n",
    "    if x > 3:\n",
    "        return False        \n",
    "    else:\n",
    "        return True\n",
    "    \n",
    "    \n",
    "def freq_table(dataset, index):\n",
    "    \"\"\"\"\n",
    "    Function 4 examine the rating of popularity of value inside LoL\n",
    "    \"\"\"\n",
    "    table = {}\n",
    "    total = 0\n",
    "    \n",
    "    for row in dataset:\n",
    "        total += 1\n",
    "        value = row[index]\n",
    "        if value in table:\n",
    "            table[value] += 1\n",
    "        else:\n",
    "            table[value] = 1\n",
    "    \n",
    "    table_percentages = {}\n",
    "    for key in table:\n",
    "        percentage = (table[key] / total) * 100\n",
    "        table_percentages[key] = percentage \n",
    "    \n",
    "    return table_percentages\n",
    "\n",
    "def display_table(dataset, index):\n",
    "    \"\"\"\n",
    "    Final sorted LOL display\n",
    "    \"\"\"\n",
    "    \n",
    "    table = freq_table(dataset, index)\n",
    "    table_display = []\n",
    "    for key in table:\n",
    "        key_val_as_tuple = (table[key], key)\n",
    "        table_display.append(key_val_as_tuple)\n",
    "        \n",
    "    table_sorted = sorted(table_display, reverse = True)\n",
    "    for entry in table_sorted:\n",
    "        print(entry[1], ':', round(entry[0], 2), \"%\")"
   ]
  },
  {
   "cell_type": "code",
   "execution_count": 4,
   "metadata": {
    "scrolled": false
   },
   "outputs": [],
   "source": [
    "opened_file = open('googleplaystore.csv', encoding='utf-8')\n",
    "read_file = reader(opened_file)\n",
    "android = list(read_file)\n",
    "android_header = android[0]\n",
    "android = android[1:]"
   ]
  },
  {
   "cell_type": "code",
   "execution_count": 5,
   "metadata": {
    "scrolled": false
   },
   "outputs": [
    {
     "name": "stdout",
     "output_type": "stream",
     "text": [
      "10472\n"
     ]
    }
   ],
   "source": [
    "for row in android:    \n",
    "    if len(row) != len(android_header):\n",
    "        print(android.index(row))     \n",
    "\n",
    "del android[10472]"
   ]
  },
  {
   "cell_type": "code",
   "execution_count": 6,
   "metadata": {},
   "outputs": [
    {
     "name": "stdout",
     "output_type": "stream",
     "text": [
      "Оригинальных приложений Google:  9659\n",
      "Дублирующихся строк Google:  1181\n"
     ]
    }
   ],
   "source": [
    "unique_android = []\n",
    "duplicate_android = []\n",
    "for app in android:\n",
    "    check_name = app[0]\n",
    "    if check_name in unique_android:\n",
    "        duplicate_android.append(check_name)\n",
    "    else:\n",
    "        unique_android.append(check_name)\n",
    "        \n",
    "print(\"Оригинальных приложений Google: \", len(unique_android))\n",
    "print(\"Дублирующихся строк Google: \", len(duplicate_android))        "
   ]
  },
  {
   "cell_type": "code",
   "execution_count": 7,
   "metadata": {
    "scrolled": true
   },
   "outputs": [
    {
     "name": "stdout",
     "output_type": "stream",
     "text": [
      "Всего строк в словаре Google:  9659\n",
      "Всего строк в очищенном листе Google:  9659\n"
     ]
    }
   ],
   "source": [
    "reviews_max = {}\n",
    "for app in android:\n",
    "    name = app[0]\n",
    "    n_reviews = float(app[3])\n",
    "    if name in reviews_max and reviews_max[name] < n_reviews:\n",
    "        reviews_max[name] = n_reviews\n",
    "    elif name not in reviews_max:\n",
    "        reviews_max[name] = n_reviews\n",
    "\n",
    "print(\"Всего строк в словаре Google: \", len(reviews_max))\n",
    "\n",
    "android_clean = []\n",
    "android_added = []\n",
    "for app in android:\n",
    "    name = app[0]\n",
    "    n_reviews = float(app[3])   \n",
    "    if (reviews_max[name] == n_reviews) and (name not in android_added):\n",
    "        android_clean.append(app)\n",
    "        android_added.append(name)\n",
    "\n",
    "print(\"Всего строк в очищенном листе Google: \", len(android_clean))        "
   ]
  },
  {
   "cell_type": "code",
   "execution_count": 8,
   "metadata": {},
   "outputs": [
    {
     "name": "stdout",
     "output_type": "stream",
     "text": [
      "True\n",
      "True\n",
      "False\n"
     ]
    }
   ],
   "source": [
    "print(eng_check('Docs To Go™ Free Office Suite'))\n",
    "print(eng_check('Instachat 😜'))\n",
    "print(eng_check('爱奇艺PPS -《欢乐颂2》电视剧热播'))          "
   ]
  },
  {
   "cell_type": "code",
   "execution_count": 9,
   "metadata": {
    "scrolled": true
   },
   "outputs": [
    {
     "name": "stdout",
     "output_type": "stream",
     "text": [
      "Бесплатных приложений Google:  8905\n",
      "Платных приложений Google:  754\n"
     ]
    }
   ],
   "source": [
    "android_free = []\n",
    "android_non_free = []\n",
    "for app in android_clean:\n",
    "    name = app[0]\n",
    "    n_price = app[7]   \n",
    "    if n_price == \"0\":\n",
    "        android_free.append(app)\n",
    "    else:\n",
    "        android_non_free.append(app)\n",
    "\n",
    "print(\"Бесплатных приложений Google: \", len(android_free))\n",
    "print(\"Платных приложений Google: \", len(android_non_free))"
   ]
  },
  {
   "cell_type": "code",
   "execution_count": 10,
   "metadata": {},
   "outputs": [
    {
     "name": "stdout",
     "output_type": "stream",
     "text": [
      "Бесплатных английских приложений Google:  8864\n"
     ]
    }
   ],
   "source": [
    "android_eng_only = []\n",
    "for app in android_free:\n",
    "    name = app[0]\n",
    "    if eng_check(name):\n",
    "        android_eng_only.append(app) \n",
    "        \n",
    "print(\"Бесплатных английских приложений Google: \", len(android_eng_only))    "
   ]
  },
  {
   "cell_type": "code",
   "execution_count": 11,
   "metadata": {},
   "outputs": [
    {
     "name": "stdout",
     "output_type": "stream",
     "text": [
      "{'ART_AND_DESIGN': 57, 'AUTO_AND_VEHICLES': 82, 'BEAUTY': 53, 'BOOKS_AND_REFERENCE': 190, 'BUSINESS': 407, 'COMICS': 55, 'COMMUNICATION': 287, 'DATING': 165, 'EDUCATION': 103, 'ENTERTAINMENT': 85, 'EVENTS': 63, 'FINANCE': 328, 'FOOD_AND_DRINK': 110, 'HEALTH_AND_FITNESS': 273, 'HOUSE_AND_HOME': 73, 'LIBRARIES_AND_DEMO': 83, 'LIFESTYLE': 346, 'GAME': 862, 'FAMILY': 1676, 'MEDICAL': 313, 'SOCIAL': 236, 'SHOPPING': 199, 'PHOTOGRAPHY': 261, 'SPORTS': 301, 'TRAVEL_AND_LOCAL': 207, 'TOOLS': 750, 'PERSONALIZATION': 294, 'PRODUCTIVITY': 345, 'PARENTING': 58, 'WEATHER': 71, 'VIDEO_PLAYERS': 159, 'NEWS_AND_MAGAZINES': 248, 'MAPS_AND_NAVIGATION': 124}\n"
     ]
    }
   ],
   "source": [
    "popular_app_android = {}\n",
    "\n",
    "for app in android_eng_only:\n",
    "    genre = app[1]\n",
    "    if genre in popular_app_android:\n",
    "        popular_app_android[genre] += 1\n",
    "    else:\n",
    "        popular_app_android[genre]  = 1\n",
    "\n",
    "print(popular_app_android)  \n",
    "        "
   ]
  },
  {
   "cell_type": "code",
   "execution_count": 12,
   "metadata": {
    "scrolled": false
   },
   "outputs": [
    {
     "name": "stdout",
     "output_type": "stream",
     "text": [
      "FAMILY : 18.91 %\n",
      "GAME : 9.72 %\n",
      "TOOLS : 8.46 %\n",
      "BUSINESS : 4.59 %\n",
      "LIFESTYLE : 3.9 %\n",
      "PRODUCTIVITY : 3.89 %\n",
      "FINANCE : 3.7 %\n",
      "MEDICAL : 3.53 %\n",
      "SPORTS : 3.4 %\n",
      "PERSONALIZATION : 3.32 %\n",
      "COMMUNICATION : 3.24 %\n",
      "HEALTH_AND_FITNESS : 3.08 %\n",
      "PHOTOGRAPHY : 2.94 %\n",
      "NEWS_AND_MAGAZINES : 2.8 %\n",
      "SOCIAL : 2.66 %\n",
      "TRAVEL_AND_LOCAL : 2.34 %\n",
      "SHOPPING : 2.25 %\n",
      "BOOKS_AND_REFERENCE : 2.14 %\n",
      "DATING : 1.86 %\n",
      "VIDEO_PLAYERS : 1.79 %\n",
      "MAPS_AND_NAVIGATION : 1.4 %\n",
      "FOOD_AND_DRINK : 1.24 %\n",
      "EDUCATION : 1.16 %\n",
      "ENTERTAINMENT : 0.96 %\n",
      "LIBRARIES_AND_DEMO : 0.94 %\n",
      "AUTO_AND_VEHICLES : 0.93 %\n",
      "HOUSE_AND_HOME : 0.82 %\n",
      "WEATHER : 0.8 %\n",
      "EVENTS : 0.71 %\n",
      "PARENTING : 0.65 %\n",
      "ART_AND_DESIGN : 0.64 %\n",
      "COMICS : 0.62 %\n",
      "BEAUTY : 0.6 %\n",
      "None\n"
     ]
    }
   ],
   "source": [
    "final_android = display_table(android_eng_only, 1)\n",
    "print(final_android)    "
   ]
  }
 ],
 "metadata": {
  "kernelspec": {
   "display_name": "Python 3",
   "language": "python",
   "name": "python3"
  },
  "language_info": {
   "codemirror_mode": {
    "name": "ipython",
    "version": 3
   },
   "file_extension": ".py",
   "mimetype": "text/x-python",
   "name": "python",
   "nbconvert_exporter": "python",
   "pygments_lexer": "ipython3",
   "version": "3.8.3"
  }
 },
 "nbformat": 4,
 "nbformat_minor": 2
}
