{
 "cells": [
  {
   "cell_type": "code",
   "execution_count": null,
   "metadata": {},
   "outputs": [],
   "source": [
    "p_tail = (100-56) / 100\n",
    "p_six = 28 / 200\n",
    "p_odd = 102 / 200"
   ]
  },
  {
   "cell_type": "code",
   "execution_count": null,
   "metadata": {},
   "outputs": [],
   "source": [
    "p_heads_1 = (300-162) / 300\n",
    "percentage_1 = p_heads_1 * 100\n",
    "\n",
    "p_heads_2 = (5000-2450) / 5000\n",
    "percentage_2 = p_heads_2 * 100"
   ]
  },
  {
   "cell_type": "code",
   "execution_count": null,
   "metadata": {},
   "outputs": [],
   "source": [
    "from numpy.random import seed, randint\n",
    "\n",
    "seed(1)\n",
    "\n",
    "def coin_toss():\n",
    "    if randint(0,2) == 1:\n",
    "        return 'HEAD'\n",
    "    else:\n",
    "        return 'TAIL'\n",
    "    \n",
    "probabilities = []\n",
    "heads = 0\n",
    "\n",
    "#for n in range(1, 10001):\n",
    "    # Uncomment above and complete code from here\n",
    "# SOLUTION CODE\n",
    "for n in range(1, 10001):\n",
    "    outcome = coin_toss()\n",
    "    if outcome == 'HEAD':\n",
    "        heads += 1\n",
    "    current_probability = heads / n\n",
    "    probabilities.append(current_probability)\n",
    "\n",
    "print(probabilities[:10])\n",
    "print(probabilities[-10:])"
   ]
  },
  {
   "cell_type": "code",
   "execution_count": null,
   "metadata": {},
   "outputs": [],
   "source": [
    "p_l = 87 / 200 \n",
    "p_l_and_c = 40 / 200\n",
    "p_h = 63 / 200\n",
    "p_no = (200-160) / 200"
   ]
  },
  {
   "cell_type": "code",
   "execution_count": null,
   "metadata": {},
   "outputs": [],
   "source": [
    "p_5 = 1 / 6\n",
    "p_ht = 1 / 4\n",
    "p_tt = 1 / 4"
   ]
  },
  {
   "cell_type": "code",
   "execution_count": null,
   "metadata": {},
   "outputs": [],
   "source": [
    "p_even = 3 / 6\n",
    "p_odd_no_3 = 2 / 6\n",
    "p_odd_greater_5 = 0 / 6"
   ]
  },
  {
   "cell_type": "code",
   "execution_count": null,
   "metadata": {},
   "outputs": [],
   "source": [
    "coin_toss_omega = ['HH', 'HT', 'TT', 'TH']"
   ]
  },
  {
   "cell_type": "code",
   "execution_count": null,
   "metadata": {},
   "outputs": [],
   "source": [
    "p_sum_6 = 5/36\n",
    "p_lower_15 = 36/36\n",
    "p_greater_13 = 0/36\n",
    "p_2_or_4 = 4/36\n",
    "p_12_or_13 = 1/36\n",
    "p_5_or_9 = 4/36 + 4/36\n",
    "p_even_or_less_2 = 18/36 + 0/36\n",
    "p_4_or_3_multiple = 3/36 + 12/36"
   ]
  },
  {
   "cell_type": "code",
   "execution_count": null,
   "metadata": {},
   "outputs": [],
   "source": [
    "p_c = 3/6\n",
    "p_d = 3/6\n",
    "\n",
    "p_c_d_addition = p_c + p_d\n",
    "p_c_d_formula = 4/6\n",
    "\n",
    "print(p_c_d_addition)\n",
    "print(p_c_d_formula)"
   ]
  },
  {
   "cell_type": "code",
   "execution_count": null,
   "metadata": {},
   "outputs": [],
   "source": [
    "p_f_or_t = 0.26 + 0.11 - 0.03\n",
    "p_h_and_c = 0.08 + 0.11 - 0.17 # check the hint if you don't understand the answer"
   ]
  },
  {
   "cell_type": "code",
   "execution_count": null,
   "metadata": {},
   "outputs": [],
   "source": [
    "p_a = 12/100\n",
    "p_b = 17/100\n",
    "p_a_and_b = 3/100\n",
    "p_a_or_b = p_a + p_b - p_a_and_b\n",
    "\n",
    "p_non_basic = 1 - 0.2\n",
    "p_non_premium = 1 - 0.15\n",
    "p_subscription = 0.2 + 0.15\n",
    "p_non_subscription = 1 - p_subscription\n",
    "\n",
    "p_non_b = 7/8\n",
    "p_b = 1 - p_non_b\n",
    "\n",
    "p_non_click = 1 - 0.5\n",
    "p_two_or_less = 3/4\n",
    "p_three_or_more = 1 - 3/4"
   ]
  },
  {
   "cell_type": "code",
   "execution_count": null,
   "metadata": {},
   "outputs": [],
   "source": [
    "p_6_6 = 1/6 * 1/6\n",
    "p_3_2 = 1/6 * 1/6\n",
    "p_even_even = 3/6 * 3/6\n",
    "p_1_even = 1/6 * 3/6\n",
    "\n",
    "p_18h = (1/2)**18\n",
    "p_666 = (1/6)**3\n",
    "p_not_6 = (5/6)**4\n",
    "\n",
    "p_one_double_6 = 1 - (35/36)**24\n",
    "\n",
    "p_kk = 4/52 * 3/51\n",
    "p_7q = 1/52 * 1/51\n",
    "p_jqkj = 4/52 * 1/51 * 4/50 * 3/49"
   ]
  },
  {
   "cell_type": "code",
   "execution_count": null,
   "metadata": {},
   "outputs": [],
   "source": [
    "n_outcomes = 6*6\n",
    "\n",
    "p_six_six = 1/n_outcomes\n",
    "\n",
    "p_five_five = 1/n_outcomes\n",
    "p_not_five_five = 1-p_five_five"
   ]
  },
  {
   "cell_type": "code",
   "execution_count": null,
   "metadata": {},
   "outputs": [],
   "source": [
    "total_outcomes = 6 * 6 * 6 * 52\n",
    "p_666_ace_diamonds = 1 / total_outcomes\n",
    "p_no_666_ace_diamonds = 1 - p_666_ace_diamonds"
   ]
  },
  {
   "cell_type": "code",
   "execution_count": null,
   "metadata": {},
   "outputs": [],
   "source": [
    "total_outcomes_4_pin = 10**4 # 10 multiplied by itself 4 times\n",
    "p_crack_4 = 1 / total_outcomes_4_pin\n",
    "\n",
    "total_outcomes_6_pin = 10**6 # 10 multiplied by itself 6 times\n",
    "p_crack_6 = 1/total_outcomes_6_pin"
   ]
  },
  {
   "cell_type": "code",
   "execution_count": null,
   "metadata": {},
   "outputs": [],
   "source": [
    "def factorial(n):\n",
    "    final_product = 1\n",
    "    for i in range(n, 0, -1):\n",
    "        final_product *= i\n",
    "    return final_product\n",
    "\n",
    "def permutation(n, k):\n",
    "    numerator = factorial(n)\n",
    "    denominator = factorial(n-k)\n",
    "    return numerator/denominator\n",
    "c = permutation(52,5) / factorial(5)\n",
    "p_aces_7 = 1/c\n",
    "\n",
    "c_lottery = permutation(49,6) / factorial(6)\n",
    "p_big_prize = 1/c_lottery\n",
    "print(p_big_prize)\n",
    "\n",
    "'''\n",
    "Note the output of p_big_prize ends in e-08\n",
    "This means we move eight decimals to the left\n",
    "So 7.1e-08 would become 0.000000071\n",
    "'''"
   ]
  },
  {
   "cell_type": "code",
   "execution_count": null,
   "metadata": {},
   "outputs": [],
   "source": [
    "perm_3_52 = 52 * 51 * 50\n",
    "perm_4_20 = 20 * 19 * 18 * 17\n",
    "perm_4_27 = 27 * 26 * 25 * 24"
   ]
  },
  {
   "cell_type": "code",
   "execution_count": null,
   "metadata": {},
   "outputs": [],
   "source": [
    "def factorial(n):\n",
    "    final_product = 1\n",
    "    for i in range(n, 0, -1):\n",
    "        final_product *= i\n",
    "    return final_product\n",
    "def combinations(n, k):\n",
    "    numerator = factorial(n)\n",
    "    denominator = factorial(k) * factorial(n-k)\n",
    "    return numerator/denominator\n",
    "\n",
    "c_18 = combinations(34, 18)\n",
    "\n",
    "p_Y = 1/c_18\n",
    "p_non_Y = 1 - p_Y"
   ]
  },
  {
   "cell_type": "code",
   "execution_count": null,
   "metadata": {},
   "outputs": [],
   "source": [
    "def factorial(n):\n",
    "    final_product = 1\n",
    "    for i in range(n, 0, -1):\n",
    "        final_product *= i\n",
    "    return final_product\n",
    "\n",
    "def combinations(n, k):\n",
    "    numerator = factorial(n)\n",
    "    denominator = factorial(k) * factorial(n-k)\n",
    "    return numerator/denominator"
   ]
  },
  {
   "cell_type": "code",
   "execution_count": null,
   "metadata": {},
   "outputs": [],
   "source": [
    "def one_ticket_probability(user_numbers):\n",
    "    \n",
    "    n_combinations = combinations(49, 6)\n",
    "    probability_one_ticket = 1/n_combinations\n",
    "    percentage_form = probability_one_ticket * 100\n",
    "    \n",
    "    print('''Your chances to win the big prize with the numbers {} are {:.7f}%.\n",
    "In other words, you have a 1 in {:,} chances to win.'''.format(user_numbers,\n",
    "                    percentage_form, int(n_combinations)))"
   ]
  },
  {
   "cell_type": "code",
   "execution_count": null,
   "metadata": {},
   "outputs": [],
   "source": [
    "test_input_1 = [2, 43, 22, 23, 11, 5]\n",
    "one_ticket_probability(test_input_1)"
   ]
  },
  {
   "cell_type": "code",
   "execution_count": null,
   "metadata": {},
   "outputs": [],
   "source": [
    "test_input_2 = [9, 26, 41, 7, 15, 6]\n",
    "one_ticket_probability(test_input_2)"
   ]
  },
  {
   "cell_type": "code",
   "execution_count": null,
   "metadata": {},
   "outputs": [],
   "source": [
    "import pandas as pd\n",
    "\n",
    "lottery_canada = pd.read_csv('649.csv')\n",
    "lottery_canada.shape"
   ]
  },
  {
   "cell_type": "code",
   "execution_count": null,
   "metadata": {},
   "outputs": [],
   "source": [
    "lottery_canada.head(3)"
   ]
  },
  {
   "cell_type": "code",
   "execution_count": null,
   "metadata": {},
   "outputs": [],
   "source": [
    "lottery_canada.tail(3)"
   ]
  },
  {
   "cell_type": "code",
   "execution_count": null,
   "metadata": {},
   "outputs": [],
   "source": [
    "def extract_numbers(row):\n",
    "    row = row[4:10]\n",
    "    row = set(row.values)\n",
    "    return row\n",
    "\n",
    "winning_numbers = lottery_canada.apply(extract_numbers, axis=1)\n",
    "winning_numbers.head()"
   ]
  },
  {
   "cell_type": "code",
   "execution_count": null,
   "metadata": {},
   "outputs": [],
   "source": [
    "def check_historical_occurrence(user_numbers, historical_numbers):   \n",
    "    '''\n",
    "    user_numbers: a Python list\n",
    "    historical numbers: a pandas Series\n",
    "    '''\n",
    "    \n",
    "    user_numbers_set = set(user_numbers)\n",
    "    check_occurrence = historical_numbers == user_numbers_set\n",
    "    n_occurrences = check_occurrence.sum()\n",
    "    \n",
    "    if n_occurrences == 0:\n",
    "        print('''The combination {} has never occured.\n",
    "This doesn't mean it's more likely to occur now. Your chances to win the big prize in the next drawing using the combination {} are 0.0000072%.\n",
    "In other words, you have a 1 in 13,983,816 chances to win.'''.format(user_numbers, user_numbers))\n",
    "        \n",
    "    else:\n",
    "        print('''The number of times combination {} has occured in the past is {}.\n",
    "Your chances to win the big prize in the next drawing using the combination {} are 0.0000072%.\n",
    "In other words, you have a 1 in 13,983,816 chances to win.'''.format(user_numbers, n_occurrences,\n",
    "                                                                            user_numbers))"
   ]
  },
  {
   "cell_type": "code",
   "execution_count": null,
   "metadata": {},
   "outputs": [],
   "source": [
    "test_input_3 = [33, 36, 37, 39, 8, 41]\n",
    "check_historical_occurrence(test_input_3, winning_numbers)"
   ]
  },
  {
   "cell_type": "code",
   "execution_count": null,
   "metadata": {},
   "outputs": [],
   "source": [
    "test_input_4 = [3, 2, 44, 22, 1, 44]\n",
    "check_historical_occurrence(test_input_4, winning_numbers)"
   ]
  },
  {
   "cell_type": "code",
   "execution_count": null,
   "metadata": {},
   "outputs": [],
   "source": [
    "def multi_ticket_probability(n_tickets):\n",
    "    \n",
    "    n_combinations = combinations(49, 6)\n",
    "    \n",
    "    probability = n_tickets / n_combinations\n",
    "    percentage_form = probability * 100\n",
    "    \n",
    "    if n_tickets == 1:\n",
    "        print('''Your chances to win the big prize with one ticket are {:.6f}%.\n",
    "In other words, you have a 1 in {:,} chances to win.'''.format(percentage_form, int(n_combinations)))\n",
    "    \n",
    "    else:\n",
    "        combinations_simplified = round(n_combinations / n_tickets)   \n",
    "        print('''Your chances to win the big prize with {:,} different tickets are {:.6f}%.\n",
    "In other words, you have a 1 in {:,} chances to win.'''.format(n_tickets, percentage_form,\n",
    "                                                               combinations_simplified))"
   ]
  },
  {
   "cell_type": "code",
   "execution_count": null,
   "metadata": {},
   "outputs": [],
   "source": [
    "test_inputs = [1, 10, 100, 10000, 1000000, 6991908, 13983816]\n",
    "\n",
    "for test_input in test_inputs:\n",
    "    multi_ticket_probability(test_input)\n",
    "    print('------------------------') # output delimiter"
   ]
  },
  {
   "cell_type": "code",
   "execution_count": null,
   "metadata": {},
   "outputs": [],
   "source": [
    "def probability_less_6(n_winning_numbers):\n",
    "    \n",
    "    n_combinations_ticket = combinations(6, n_winning_numbers)\n",
    "    n_combinations_remaining = combinations(43, 6 - n_winning_numbers)\n",
    "    successful_outcomes = n_combinations_ticket * n_combinations_remaining\n",
    "    \n",
    "    n_combinations_total = combinations(49, 6)    \n",
    "    probability = successful_outcomes / n_combinations_total\n",
    "    \n",
    "    probability_percentage = probability * 100    \n",
    "    combinations_simplified = round(n_combinations_total/successful_outcomes)    \n",
    "    print('''Your chances of having {} winning numbers with this ticket are {:.6f}%.\n",
    "In other words, you have a 1 in {:,} chances to win.'''.format(n_winning_numbers, probability_percentage,\n",
    "                                                               int(combinations_simplified)))"
   ]
  },
  {
   "cell_type": "code",
   "execution_count": null,
   "metadata": {},
   "outputs": [],
   "source": [
    "for test_input in [2, 3, 4, 5]:\n",
    "    probability_less_6(test_input)\n",
    "    print('--------------------------') # output delimiter"
   ]
  },
  {
   "cell_type": "code",
   "execution_count": null,
   "metadata": {},
   "outputs": [],
   "source": []
  },
  {
   "cell_type": "code",
   "execution_count": null,
   "metadata": {},
   "outputs": [],
   "source": []
  },
  {
   "cell_type": "code",
   "execution_count": null,
   "metadata": {},
   "outputs": [],
   "source": []
  },
  {
   "cell_type": "code",
   "execution_count": null,
   "metadata": {},
   "outputs": [],
   "source": []
  }
 ],
 "metadata": {
  "kernelspec": {
   "display_name": "Python 3",
   "language": "python",
   "name": "python3"
  },
  "language_info": {
   "codemirror_mode": {
    "name": "ipython",
    "version": 3
   },
   "file_extension": ".py",
   "mimetype": "text/x-python",
   "name": "python",
   "nbconvert_exporter": "python",
   "pygments_lexer": "ipython3",
   "version": "3.8.3"
  }
 },
 "nbformat": 4,
 "nbformat_minor": 4
}
