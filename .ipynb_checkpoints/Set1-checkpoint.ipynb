{
 "cells": [
  {
   "cell_type": "markdown",
   "metadata": {
    "collapsed": true
   },
   "source": [
    "Data analystds for a company that builds Android and iOS mobile apps. \n",
    "We make our apps available on Google Play and the App Store.\n",
    "\n",
    "We only build apps that are free to download and install, and our main source of revenue consists of in-app ads. \n",
    "\n",
    "This means our revenue for any given app is mostly influenced by the number of users who use our app — the more users that see and engage with the ads, the better. \n",
    "\n",
    "Our goal for this project is to analyze data to help our developers understand what type of apps are likely to attract more users.\n",
    "\n",
    "To avoid spending resources on collecting new data ourselves, we should first try to see if we can find any relevant existing data at no cost."
   ]
  },
  {
   "cell_type": "markdown",
   "metadata": {},
   "source": [
    "The explore_data() function:\n",
    "\n",
    "Takes in four parameters:\n",
    "dataset, which is expected to be a list of lists.\n",
    "start and end, which are both expected to be integers and represent the starting and the ending indices of a slice from the data set.\n",
    "rows_and_columns, which is expected to be a Boolean and has False as a default argument.\n",
    "Slices the data set using dataset[start:end].\n",
    "Loops through the slice, and for each iteration, prints a row and adds a new line after that row using print('\\n').\n",
    "The \\n in print('\\n') is a special character and won't be printed. Instead, the \\n character adds a new line, and we use print('\\n') to add some blank space between rows.\n",
    "Prints the number of rows and columns if rows_and_columns is True.\n",
    "dataset shouldn't have a header row, otherwise the function will print the wrong number of rows (one more row compared to the actual length)."
   ]
  },
  {
   "cell_type": "code",
   "execution_count": null,
   "metadata": {},
   "outputs": [],
   "source": [
    "#Импортируем pandas и mathplotlib\n",
    "# Рисовать графики сразу же\n",
    "%matplotlib inline\n",
    "\n",
    "import pandas as pd\n",
    "import matplotlib.pyplot as plt\n",
    "from sklearn.ensemble import RandomForestClassifier\n",
    "from csv import reader\n",
    "\n",
    "plt.style.use('ggplot')  # Красивые графики\n",
    "plt.rcParams['figure.figsize'] = (15, 5)  # Размер картинок"
   ]
  },
  {
   "cell_type": "code",
   "execution_count": null,
   "metadata": {},
   "outputs": [],
   "source": [
    "#Форматированные строки - ставим F и фигурные скобки\n",
    "#Матанализ, Линейная алгебра, Матстаистика, Теория вероятностей, Комбинаторика\n",
    "\n",
    "intensive = \"Обучение в ускоренном формате\"\n",
    "duration = \"130 минут\"\n",
    "speaker = \"Саша\"\n",
    "profession = \"джуниор\"\n",
    "whois = speaker + \", \" + profession\n",
    "print(f\"Сегодня у нас {intensive}, проведет {whois}, длительностью {duration} и расскажет о том как рассчитываются налоги\")\n",
    "\n",
    "income = [12,26,43,54]\n",
    "for i in income:\n",
    "    tax = 0.13 * i\n",
    "    print(f\"Если Вы получили доход в размере {i}, должны уплатить налог в размере {tax}\")\n",
    "    \n",
    "plt.plot(income)\n",
    "plt.show()"
   ]
  },
  {
   "cell_type": "code",
   "execution_count": null,
   "metadata": {},
   "outputs": [],
   "source": [
    "def explore_data(dataset, start, end, rows_and_columns=False):\n",
    "    dataset_slice = dataset[start:end]    \n",
    "    for row in dataset_slice:\n",
    "        print(row)\n",
    "        print('\\n') # adds a new (empty) line after each row\n",
    "\n",
    "    if rows_and_columns:\n",
    "        print('Number of rows:', len(dataset))\n",
    "        print('Number of columns:', len(dataset[0]))"
   ]
  },
  {
   "cell_type": "code",
   "execution_count": null,
   "metadata": {
    "scrolled": false
   },
   "outputs": [],
   "source": [
    "### The Google Play data set ###\n",
    "opened_file = open('googleplaystore.csv', encoding='utf-8')\n",
    "read_file = reader(opened_file)\n",
    "android = list(read_file)\n",
    "android_header = android[0]\n",
    "android = android[1:]"
   ]
  },
  {
   "cell_type": "code",
   "execution_count": null,
   "metadata": {},
   "outputs": [],
   "source": [
    "### The App Store data set ###\n",
    "opened_file = open('AppleStore.csv', encoding='utf-8')\n",
    "read_file = reader(opened_file)\n",
    "ios = list(read_file)\n",
    "ios_header = ios[0]\n",
    "ios = ios[1:]"
   ]
  },
  {
   "cell_type": "code",
   "execution_count": null,
   "metadata": {
    "scrolled": false
   },
   "outputs": [],
   "source": [
    "for row in android:    \n",
    "    if len(row) != len(android_header):\n",
    "        print(android.index(row))     \n",
    "\n",
    "del android[10472]\n",
    "\n",
    "for row in ios:    \n",
    "    if len(row) != len(ios_header):\n",
    "        print(ios.index(row)) "
   ]
  },
  {
   "cell_type": "code",
   "execution_count": null,
   "metadata": {
    "scrolled": true
   },
   "outputs": [],
   "source": [
    "print(android_header)\n",
    "print(ios_header)\n"
   ]
  },
  {
   "cell_type": "markdown",
   "metadata": {},
   "source": [
    "Google Play data set has duplicate entries. Print a few duplicate rows to confirm.\n",
    "Count the number of duplicates\n",
    "use this information to build a criterion for removing the duplicates."
   ]
  },
  {
   "cell_type": "code",
   "execution_count": null,
   "metadata": {},
   "outputs": [],
   "source": [
    "unique_android = []\n",
    "duplicate_android = []\n",
    "for app in android:\n",
    "    check_name = app[0]\n",
    "    if check_name in unique_android:\n",
    "        duplicate_android.append(check_name)\n",
    "    else:\n",
    "        unique_android.append(check_name)\n",
    "        \n",
    "print(\"Оригинальных приложений Google: \", len(unique_android))\n",
    "print(\"Дублирующихся строк Google: \", len(duplicate_android))\n",
    "\n",
    "unique_ios = []\n",
    "duplicate_ios = []\n",
    "for app in ios:\n",
    "    check_name = app[0]\n",
    "    if check_name in unique_ios:\n",
    "        duplicate_ios.append(check_name)\n",
    "    else:\n",
    "        unique_ios.append(check_name)\n",
    "        \n",
    "print(\"Оригинальных приложений Apple: \", len(unique_ios))\n",
    "print(\"Дублирующихся строк Apple: \", len(duplicate_ios))\n",
    "        "
   ]
  },
  {
   "cell_type": "markdown",
   "metadata": {},
   "source": [
    "Create a dictionary where each key is a unique app name \n",
    "and the corresponding dictionary \n",
    "value is the highest number of reviews of that app.\n",
    "Use the dictionary you created above to remove the duplicate rows"
   ]
  },
  {
   "cell_type": "code",
   "execution_count": null,
   "metadata": {
    "scrolled": true
   },
   "outputs": [],
   "source": [
    "reviews_max = {}\n",
    "for app in android:\n",
    "    name = app[0]\n",
    "    n_reviews = float(app[3])\n",
    "    if name in reviews_max and reviews_max[name] < n_reviews:\n",
    "        reviews_max[name] = n_reviews\n",
    "    elif name not in reviews_max:\n",
    "        reviews_max[name] = n_reviews\n",
    "\n",
    "print(\"Всего строк в словаре Google: \", len(reviews_max))\n",
    "\n",
    "reviews_max_ios = {}\n",
    "for app in ios:\n",
    "    name = app[0]\n",
    "    n_reviews = float(app[5])\n",
    "    if name in reviews_max_ios and reviews_max_ios[name] < n_reviews:\n",
    "        reviews_max_ios[name] = n_reviews\n",
    "    elif name not in reviews_max_ios:\n",
    "        reviews_max_ios[name] = n_reviews\n",
    "\n",
    "print(\"Всего строк в словаре Apple: \", len(reviews_max_ios))\n",
    "\n",
    "android_clean = []\n",
    "android_added = []\n",
    "for app in android:\n",
    "    name = app[0]\n",
    "    n_reviews = float(app[3])   \n",
    "    if (reviews_max[name] == n_reviews) and (name not in android_added):\n",
    "        android_clean.append(app)\n",
    "        android_added.append(name)\n",
    "\n",
    "ios_clean = []\n",
    "ios_added = []\n",
    "for app in ios:\n",
    "    name = app[0]\n",
    "    n_reviews = float(app[5])   \n",
    "    if (reviews_max_ios[name] == n_reviews) and (name not in ios_added):\n",
    "        ios_clean.append(app)\n",
    "        ios_added.append(name)\n",
    "            \n",
    "print(\"Всего строк в очищенном листе Google: \", len(android_clean))\n",
    "print(\"Всего строк в очищенном листе Apple: \", len(ios_clean))\n",
    "        "
   ]
  },
  {
   "cell_type": "markdown",
   "metadata": {
    "collapsed": true
   },
   "source": [
    "The numbers corresponding to the characters we commonly use in an English text are all in the range 0 to 127, according to the ASCII"
   ]
  },
  {
   "cell_type": "code",
   "execution_count": null,
   "metadata": {},
   "outputs": [],
   "source": [
    "def eng_check(string):\n",
    "    x=0\n",
    "    for character in string:        \n",
    "        if ord(character) > 127:\n",
    "            x += 1\n",
    "    if x > 3:\n",
    "        return False        \n",
    "    else:\n",
    "        return True\n",
    "\n",
    "print(eng_check('Docs To Go™ Free Office Suite'))\n",
    "print(eng_check('Instachat 😜'))\n",
    "print(eng_check('爱奇艺PPS -《欢乐颂2》电视剧热播'))\n",
    "\n",
    "    \n",
    "            \n",
    "            "
   ]
  },
  {
   "cell_type": "markdown",
   "metadata": {},
   "source": [
    "Isolating the free apps will be our last step in the data cleaning process. On the next screen, we're going to start analyzing the data."
   ]
  },
  {
   "cell_type": "code",
   "execution_count": null,
   "metadata": {
    "scrolled": true
   },
   "outputs": [],
   "source": [
    "android_free = []\n",
    "android_non_free = []\n",
    "for app in android_clean:\n",
    "    name = app[0]\n",
    "    n_price = app[7]   \n",
    "    if n_price == \"0\":\n",
    "        android_free.append(app)\n",
    "    else:\n",
    "        android_non_free.append(app)\n",
    "\n",
    "print(\"Бесплатных приложений Google: \", len(android_free))\n",
    "print(\"Платных приложений Google: \", len(android_non_free))\n",
    "\n",
    "ios_free = []\n",
    "ios_non_free = []\n",
    "for app in ios_clean:\n",
    "    name = app[0]\n",
    "    n_price = app[4]   \n",
    "    if n_price == \"0.0\":\n",
    "        ios_free.append(app)\n",
    "    else:\n",
    "        ios_non_free.append(app)\n",
    "\n",
    "print(\"Бесплатных приложений Apple: \", len(ios_free))\n",
    "print(\"Платных приложений Apple: \", len(ios_non_free))"
   ]
  },
  {
   "cell_type": "code",
   "execution_count": null,
   "metadata": {},
   "outputs": [],
   "source": [
    "android_eng_only = []\n",
    "for app in android_free:\n",
    "    name = app[0]\n",
    "    if eng_check(name):\n",
    "        android_eng_only.append(app) \n",
    "\n",
    "ios_eng_only = []\n",
    "for app in ios_free:\n",
    "    name = app[1]\n",
    "    if eng_check(name):\n",
    "        ios_eng_only.append(app)\n",
    "        \n",
    "print(\"Бесплатных английских приложений Google: \", len(android_eng_only))\n",
    "print(\"Платных английских приложений Apple: \", len(ios_eng_only))\n",
    "     "
   ]
  },
  {
   "cell_type": "markdown",
   "metadata": {},
   "source": [
    "Определяем число приложений по жанрам"
   ]
  },
  {
   "cell_type": "code",
   "execution_count": null,
   "metadata": {},
   "outputs": [],
   "source": [
    "popular_app_android = {}\n",
    "\n",
    "for app in android_eng_only:\n",
    "    genre = app[1]\n",
    "    if genre in popular_app_android:\n",
    "        popular_app_android[genre] += 1\n",
    "    else:\n",
    "        popular_app_android[genre]  = 1\n",
    "\n",
    "print(popular_app_android)\n",
    "\n",
    "popular_app_ios = {}\n",
    "\n",
    "for app in ios_eng_only:\n",
    "    genre = app[-5]\n",
    "    if genre in popular_app_ios:\n",
    "        popular_app_ios[genre] += 1\n",
    "    else:\n",
    "        popular_app_ios[genre]  = 1\n",
    "\n",
    "print(popular_app_ios)\n",
    "\n",
    "    \n",
    "        "
   ]
  },
  {
   "cell_type": "markdown",
   "metadata": {},
   "source": [
    "Ищем самые популярные приложения\n",
    "Для этого сортируем по популярности\n",
    "Добавляем числа в процентах"
   ]
  },
  {
   "cell_type": "code",
   "execution_count": null,
   "metadata": {},
   "outputs": [],
   "source": [
    "def freq_table(dataset, index):\n",
    "    table = {}\n",
    "    total = 0\n",
    "    \n",
    "    for row in dataset:\n",
    "        total += 1\n",
    "        value = row[index]\n",
    "        if value in table:\n",
    "            table[value] += 1\n",
    "        else:\n",
    "            table[value] = 1\n",
    "    \n",
    "    table_percentages = {}\n",
    "    for key in table:\n",
    "        percentage = (table[key] / total) * 100\n",
    "        table_percentages[key] = percentage \n",
    "    \n",
    "    return table_percentages\n",
    "\n",
    "\n"
   ]
  },
  {
   "cell_type": "code",
   "execution_count": null,
   "metadata": {
    "scrolled": false
   },
   "outputs": [],
   "source": [
    "def display_table(dataset, index):\n",
    "    table = freq_table(dataset, index)\n",
    "    table_display = []\n",
    "    for key in table:\n",
    "        key_val_as_tuple = (table[key], key)\n",
    "        table_display.append(key_val_as_tuple)\n",
    "        \n",
    "    table_sorted = sorted(table_display, reverse = True)\n",
    "    for entry in table_sorted:\n",
    "        print(entry[1], ':', round(entry[0], 2), \"%\")\n",
    "        \n",
    "final_ios = display_table(ios_eng_only, -5)\n",
    "print(final_ios)\n",
    "final_android = display_table(android_eng_only, 1)\n",
    "print(final_android)\n",
    "    "
   ]
  },
  {
   "cell_type": "code",
   "execution_count": null,
   "metadata": {
    "scrolled": true
   },
   "outputs": [],
   "source": [
    "#ML создается чтобы что-нибудь улучшить. \n",
    "#Задачи ML: делать предсказания, анализировать и генерировать изображения, видео\n",
    "#Этап обслуживания: сбор данных, преобразование, обучение, предсказание (оценка качества модели)\n",
    "#Учим на примерах. Направить на достижение цели, постановки задачи\n",
    "#Базовые инструменты ML: Sklearn, Pandas, Matplotlib\n",
    "\n",
    "#Датафрейм\n",
    "\n",
    "print(android_header)\n",
    "android.Category.describe()"
   ]
  },
  {
   "cell_type": "code",
   "execution_count": null,
   "metadata": {},
   "outputs": [],
   "source": [
    "fixed_df.price.describe() #Название столбца и его ключевые параметры\n",
    "\n",
    "fixed_df.user_rating.value_counts() #Смотрим другую колонку и распределение значений в числах\n",
    "fixed_df.user_rating.value_counts().plot(kind = \"bar\") #Добавляем через точку и систематизируем выдачу всего в графе\n",
    "#Поскольку они идут подряд, то выдается только последнее значение в ячейке"
   ]
  },
  {
   "cell_type": "code",
   "execution_count": null,
   "metadata": {},
   "outputs": [],
   "source": [
    "fixed_df.user_rating.hist() #Рисуем гистограммы"
   ]
  },
  {
   "cell_type": "code",
   "execution_count": null,
   "metadata": {},
   "outputs": [],
   "source": [
    "fixed_df.prime_genre.value_counts().plot(kind = 'bar') #Разведочный анализ. понимаем что у нас собрался за датасет"
   ]
  },
  {
   "cell_type": "code",
   "execution_count": null,
   "metadata": {},
   "outputs": [],
   "source": [
    "pd.get_dummies(fixed_df, columns=['track_name', 'currency', 'prime_genre'])"
   ]
  },
  {
   "cell_type": "code",
   "execution_count": null,
   "metadata": {},
   "outputs": [],
   "source": [
    "#строим модель\n",
    "#1 этап - подготовка данных \n",
    "#Заменяем данные строк на 0 и 1 \n",
    "\n",
    "fixed_df_transformed = pd.get_dummies(fixed_df, columns=['track_name', 'currency', 'prime_genre'])"
   ]
  },
  {
   "cell_type": "code",
   "execution_count": null,
   "metadata": {},
   "outputs": [],
   "source": [
    "#Данные, на основе которых хотим научиться делать предсказание\n",
    "input_data = fixed_df_transformed.drop('user_rating_ver', axis=1)\n",
    "user_rating_ver = fixed_df_transformed.user_rating_ver #То что мы пытаемся предсказать"
   ]
  },
  {
   "cell_type": "code",
   "execution_count": null,
   "metadata": {},
   "outputs": [],
   "source": [
    "model = RandomForestClassifier()\n",
    "\n",
    "model.fit(input_data, user_rating_ver)"
   ]
  },
  {
   "cell_type": "code",
   "execution_count": null,
   "metadata": {},
   "outputs": [],
   "source": [
    "{col:0 for col in input_data.columns}"
   ]
  }
 ],
 "metadata": {
  "kernelspec": {
   "display_name": "Python 3",
   "language": "python",
   "name": "python3"
  },
  "language_info": {
   "codemirror_mode": {
    "name": "ipython",
    "version": 3
   },
   "file_extension": ".py",
   "mimetype": "text/x-python",
   "name": "python",
   "nbconvert_exporter": "python",
   "pygments_lexer": "ipython3",
   "version": "3.8.3"
  }
 },
 "nbformat": 4,
 "nbformat_minor": 2
}
