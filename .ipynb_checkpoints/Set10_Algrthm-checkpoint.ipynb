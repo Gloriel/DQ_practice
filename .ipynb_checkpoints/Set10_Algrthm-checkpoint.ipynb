{
 "cells": [
  {
   "cell_type": "code",
   "execution_count": null,
   "metadata": {},
   "outputs": [],
   "source": [
    "import matplotlib.pyplot as plt\n",
    "\n",
    "def plot_times(times_python, times_selection):\n",
    "    plt.plot(times_python, label='time sorted()')\n",
    "    plt.plot(times_selection, label='time selection_sort()')\n",
    "    plt.ylabel('runtime')\n",
    "    plt.xlabel('N')\n",
    "    plt.legend()\n",
    "    plt.show()\n",
    "    \n",
    "def selection_sort(values):\n",
    "    N = len(values)\n",
    "    for range_start in range(N):\n",
    "        index = select_minimum_index_in_range(values, range_start)\n",
    "        swap(values, range_start, index)\n",
    "\n",
    "# Write your code below\n",
    "import time\n",
    "import random\n",
    "\n",
    "times_python = []\n",
    "times_selection = []\n",
    "for N in range(1, 501):\n",
    "    values = rnd_values = [random.randint(1, 10000) for _ in range(N)]\n",
    "    # measure python sorted() time\n",
    "    start = time.time()\n",
    "    sorted(values)\n",
    "    end = time.time()\n",
    "    times_python.append(end - start)\n",
    "    # measure selection_sort() time\n",
    "    start = time.time()\n",
    "    selection_sort(values)\n",
    "    end = time.time()\n",
    "    times_selection.append(end - start)\n",
    "plot_times(times_python, times_selection)"
   ]
  },
  {
   "cell_type": "code",
   "execution_count": null,
   "metadata": {},
   "outputs": [],
   "source": [
    "def make_table2(N):\n",
    "    table = []\n",
    "    for _ in range(N):\n",
    "        row = []\n",
    "        for _ in range(N):\n",
    "            row.append([1 for _ in range(N)])\n",
    "        table.append(row)\n",
    "    return table\n",
    "\n",
    "# Proposed complexities\n",
    "space_complexity1 = \"O(N)\"\n",
    "space_complexity2 = \"O(N^2)\"\n",
    "space_complexity3 = \"O(N^3)\"\n",
    "\n",
    "# Assign the space complexity of make_table2() to answer\n",
    "answer = space_complexity3"
   ]
  },
  {
   "cell_type": "code",
   "execution_count": null,
   "metadata": {},
   "outputs": [],
   "source": [
    "class Person():\n",
    "    \n",
    "    def __init__(self, name, age):\n",
    "        self.name = name     \n",
    "        self.age = age      \n",
    "\n",
    "import csv\n",
    "def read_persons():\n",
    "    persons = []\n",
    "    with open('persons.csv') as f:\n",
    "        next(f)\n",
    "        rows = list(csv.reader(f))\n",
    "        for row in rows:\n",
    "            person = Person(row[0], int(row[1]))\n",
    "            persons.append(person)\n",
    "    return persons\n",
    "\n",
    "# proposed complexities\n",
    "space_complexity1 = \"O(P)\"\n",
    "space_complexity2 = \"O(P + L)\"\n",
    "space_complexity3 = \"O(P * L)\"\n",
    "space_complexity4 = \"O(L)\"\n",
    "\n",
    "# Assign the space complexity of read_persons() to answer\n",
    "answer = space_complexity3"
   ]
  },
  {
   "cell_type": "code",
   "execution_count": null,
   "metadata": {},
   "outputs": [],
   "source": [
    "# Provided input\n",
    "test_values = [4, 6, 3, 9, 1]\n",
    "test_targets = [9, 0, 3]      \n",
    "# Expected output: {9: True, 0: False, 3: True}\n",
    "\n",
    "# Write your code below\n",
    "def find_targets_faster(values, targets):\n",
    "    value_set = set(values)\n",
    "    found = {}\n",
    "    for target in targets:\n",
    "        found[target] = target in value_set\n",
    "    return found\n",
    "\n",
    "print(find_targets_faster(test_values, test_targets))"
   ]
  },
  {
   "cell_type": "code",
   "execution_count": null,
   "metadata": {},
   "outputs": [],
   "source": [
    "# Provided input\n",
    "test_values = [1, 2, 5]\n",
    "test_targets = [2, 3, 7, 8]      \n",
    "# Expected output:\n",
    "# {2: True, 3: True, 7: True, 8: False}\n",
    "\n",
    "# Write your code below\n",
    "def find_sums(values, target_sums):\n",
    "    sums = {}\n",
    "    for target in target_sums:\n",
    "        sums[target] = False\n",
    "        for i in range(len(values)):\n",
    "            for j in range(i, len(values)):\n",
    "                if values[i] + values[j] == target:\n",
    "                    sums[target] = True\n",
    "    return sums\n",
    "\n",
    "print(find_sums(test_values, test_targets))"
   ]
  },
  {
   "cell_type": "code",
   "execution_count": null,
   "metadata": {},
   "outputs": [],
   "source": [
    "# Provided input\n",
    "test_values = [1, 2, 5]\n",
    "test_targets = [2, 3, 7, 8]      \n",
    "# Expected output: \n",
    "# ({2: True, 3: True, 7: True, 8: False}, {2, 3, 4, 6, 7, 10})\n",
    "\n",
    "# Write your code below\n",
    "def find_sums_precompute(values, target_sums):\n",
    "    possible_sums = set()\n",
    "    for i in range(len(values)):\n",
    "        for j in range(i, len(values)):\n",
    "            possible_sums.add(values[i] + values[j])\n",
    "    sums = {}\n",
    "    for target in target_sums:\n",
    "        sums[target] = target in possible_sums\n",
    "    return sums, possible_sums\n",
    "\n",
    "print(find_sums_precompute(test_values, test_targets))"
   ]
  },
  {
   "cell_type": "code",
   "execution_count": null,
   "metadata": {},
   "outputs": [],
   "source": [
    "# Provided input\n",
    "test_values = [1, 2, 5]\n",
    "test_targets = [2, 3, 7, 8]      \n",
    "# Expected output: \n",
    "# ({2: True, 3: True, 7: True, 8: False}, {1, 2, 5})\n",
    "\n",
    "# Write your code below\n",
    "def find_sums_balanced(values, target_sums):\n",
    "    value_set = set(values)\n",
    "    sums = {}\n",
    "    for target in target_sums:\n",
    "        sums[target] = False\n",
    "        for value1 in values:\n",
    "            value2 = target - value1\n",
    "            if value2 in value_set:\n",
    "                sums[target] = True\n",
    "    return sums, value_set\n",
    "\n",
    "print(find_sums_balanced(test_values, test_targets))"
   ]
  },
  {
   "cell_type": "code",
   "execution_count": null,
   "metadata": {},
   "outputs": [],
   "source": [
    "\"\"\"\n",
    "def find_sums_balanced(values, target_sums):\n",
    "    # Convert the value into a set\n",
    "    value_set = set(values)\n",
    "    sums = {}\n",
    "    # Lookup the value\n",
    "    for target in target_sums:\n",
    "        sums[target] = False\n",
    "        for value1 in values:\n",
    "            value2 = target - value1\n",
    "            if value2 in value_set:\n",
    "                sums[target] = True\n",
    "    return sums, value_set\n",
    "\"\"\"\n",
    "\n",
    "# Provided input\n",
    "values = [1, 2, 5]\n",
    "targets = [2, 3, 7, 8]      \n",
    "# Expected output: \n",
    "# {2: False, 3: True, 7: True, 8: False}\n",
    "\n",
    "# Write your code below\n",
    "def find_sums_distinct(values, target_sums):\n",
    "    value_set = set(values)\n",
    "    sums = {}\n",
    "    for target in target_sums:\n",
    "        sums[target] = False\n",
    "        for value1 in values:\n",
    "            value2 = target - value1\n",
    "            if value1 != value2 and value2 in value_set:\n",
    "                sums[target] = True\n",
    "    return sums\n",
    "\n",
    "print(find_sums_distinct(values, targets))"
   ]
  }
 ],
 "metadata": {
  "hide_input": false,
  "kernelspec": {
   "display_name": "Python 3",
   "language": "python",
   "name": "python3"
  },
  "language_info": {
   "codemirror_mode": {
    "name": "ipython",
    "version": 3
   },
   "file_extension": ".py",
   "mimetype": "text/x-python",
   "name": "python",
   "nbconvert_exporter": "python",
   "pygments_lexer": "ipython3",
   "version": "3.8.3"
  },
  "latex_envs": {
   "LaTeX_envs_menu_present": true,
   "autoclose": false,
   "autocomplete": true,
   "bibliofile": "biblio.bib",
   "cite_by": "apalike",
   "current_citInitial": 1,
   "eqLabelWithNumbers": true,
   "eqNumInitial": 1,
   "hotkeys": {
    "equation": "Ctrl-E",
    "itemize": "Ctrl-I"
   },
   "labels_anchors": false,
   "latex_user_defs": false,
   "report_style_numbering": false,
   "user_envs_cfg": false
  },
  "nbTranslate": {
   "displayLangs": [
    "*"
   ],
   "hotkey": "alt-t",
   "langInMainMenu": true,
   "sourceLang": "en",
   "targetLang": "fr",
   "useGoogleTranslate": true
  },
  "toc": {
   "base_numbering": 1,
   "nav_menu": {},
   "number_sections": true,
   "sideBar": true,
   "skip_h1_title": false,
   "title_cell": "Table of Contents",
   "title_sidebar": "Contents",
   "toc_cell": false,
   "toc_position": {},
   "toc_section_display": true,
   "toc_window_display": false
  },
  "varInspector": {
   "cols": {
    "lenName": 16,
    "lenType": 16,
    "lenVar": 40
   },
   "kernels_config": {
    "python": {
     "delete_cmd_postfix": "",
     "delete_cmd_prefix": "del ",
     "library": "var_list.py",
     "varRefreshCmd": "print(var_dic_list())"
    },
    "r": {
     "delete_cmd_postfix": ") ",
     "delete_cmd_prefix": "rm(",
     "library": "var_list.r",
     "varRefreshCmd": "cat(var_dic_list()) "
    }
   },
   "types_to_exclude": [
    "module",
    "function",
    "builtin_function_or_method",
    "instance",
    "_Feature"
   ],
   "window_display": false
  }
 },
 "nbformat": 4,
 "nbformat_minor": 4
}
