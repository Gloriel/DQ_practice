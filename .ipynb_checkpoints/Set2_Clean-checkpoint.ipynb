{
 "cells": [
  {
   "cell_type": "code",
   "execution_count": 1,
   "metadata": {},
   "outputs": [
    {
     "data": {
      "text/html": [
       "        <script type=\"text/javascript\">\n",
       "        window.PlotlyConfig = {MathJaxConfig: 'local'};\n",
       "        if (window.MathJax) {MathJax.Hub.Config({SVG: {font: \"STIX-Web\"}});}\n",
       "        if (typeof require !== 'undefined') {\n",
       "        require.undef(\"plotly\");\n",
       "        requirejs.config({\n",
       "            paths: {\n",
       "                'plotly': ['https://cdn.plot.ly/plotly-latest.min']\n",
       "            }\n",
       "        });\n",
       "        require(['plotly'], function(Plotly) {\n",
       "            window._Plotly = Plotly;\n",
       "        });\n",
       "        }\n",
       "        </script>\n",
       "        "
      ]
     },
     "metadata": {},
     "output_type": "display_data"
    }
   ],
   "source": [
    "import pandas as pd\n",
    "import numpy as np\n",
    "import warnings # отключим предупреждения Anaconda\n",
    "warnings.simplefilter('ignore')\n",
    "%matplotlib inline \n",
    "import seaborn as sns\n",
    "import matplotlib.pyplot as plt\n",
    "%config InlineBackend.figure_format = 'svg' #графики в svg выглядят более четкими\n",
    "from pylab import rcParams #увеличим дефолтный размер графиков\n",
    "plt.style.use('ggplot')  # Красивые графики\n",
    "plt.rcParams['figure.figsize'] = (15, 5)  # Размер картинок\n",
    "from plotly.offline import download_plotlyjs, init_notebook_mode, plot, iplot\n",
    "import plotly\n",
    "import plotly.graph_objs as go\n",
    "import plotly.graph_objects as go\n",
    "from pylab import plot,show,hist\n",
    "\n",
    "init_notebook_mode(connected=True)\n",
    "pd.options.display.float_format = '{:,.1f}'.format # Отображение чисел float с запятыми и 1 знаком после точки\n",
    "\n",
    "df = pd.read_csv(\"marketing_data.csv\")"
   ]
  },
  {
   "cell_type": "code",
   "execution_count": 2,
   "metadata": {
    "scrolled": true
   },
   "outputs": [
    {
     "data": {
      "text/html": [
       "<div>\n",
       "<style scoped>\n",
       "    .dataframe tbody tr th:only-of-type {\n",
       "        vertical-align: middle;\n",
       "    }\n",
       "\n",
       "    .dataframe tbody tr th {\n",
       "        vertical-align: top;\n",
       "    }\n",
       "\n",
       "    .dataframe thead th {\n",
       "        text-align: right;\n",
       "    }\n",
       "</style>\n",
       "<table border=\"1\" class=\"dataframe\">\n",
       "  <thead>\n",
       "    <tr style=\"text-align: right;\">\n",
       "      <th></th>\n",
       "      <th>0</th>\n",
       "      <th>1</th>\n",
       "      <th>2</th>\n",
       "      <th>3</th>\n",
       "      <th>4</th>\n",
       "    </tr>\n",
       "  </thead>\n",
       "  <tbody>\n",
       "    <tr>\n",
       "      <th>ID</th>\n",
       "      <td>1826</td>\n",
       "      <td>1</td>\n",
       "      <td>10476</td>\n",
       "      <td>1386</td>\n",
       "      <td>5371</td>\n",
       "    </tr>\n",
       "    <tr>\n",
       "      <th>Year_Birth</th>\n",
       "      <td>1970</td>\n",
       "      <td>1961</td>\n",
       "      <td>1958</td>\n",
       "      <td>1967</td>\n",
       "      <td>1989</td>\n",
       "    </tr>\n",
       "    <tr>\n",
       "      <th>Education</th>\n",
       "      <td>Graduation</td>\n",
       "      <td>Graduation</td>\n",
       "      <td>Graduation</td>\n",
       "      <td>Graduation</td>\n",
       "      <td>Graduation</td>\n",
       "    </tr>\n",
       "    <tr>\n",
       "      <th>Marital_Status</th>\n",
       "      <td>Divorced</td>\n",
       "      <td>Single</td>\n",
       "      <td>Married</td>\n",
       "      <td>Together</td>\n",
       "      <td>Single</td>\n",
       "    </tr>\n",
       "    <tr>\n",
       "      <th>Income</th>\n",
       "      <td>$84,835.00</td>\n",
       "      <td>$57,091.00</td>\n",
       "      <td>$67,267.00</td>\n",
       "      <td>$32,474.00</td>\n",
       "      <td>$21,474.00</td>\n",
       "    </tr>\n",
       "    <tr>\n",
       "      <th>Kidhome</th>\n",
       "      <td>0</td>\n",
       "      <td>0</td>\n",
       "      <td>0</td>\n",
       "      <td>1</td>\n",
       "      <td>1</td>\n",
       "    </tr>\n",
       "    <tr>\n",
       "      <th>Teenhome</th>\n",
       "      <td>0</td>\n",
       "      <td>0</td>\n",
       "      <td>1</td>\n",
       "      <td>1</td>\n",
       "      <td>0</td>\n",
       "    </tr>\n",
       "    <tr>\n",
       "      <th>Dt_Customer</th>\n",
       "      <td>6/16/14</td>\n",
       "      <td>6/15/14</td>\n",
       "      <td>5/13/14</td>\n",
       "      <td>5/11/14</td>\n",
       "      <td>4/8/14</td>\n",
       "    </tr>\n",
       "    <tr>\n",
       "      <th>Recency</th>\n",
       "      <td>0</td>\n",
       "      <td>0</td>\n",
       "      <td>0</td>\n",
       "      <td>0</td>\n",
       "      <td>0</td>\n",
       "    </tr>\n",
       "    <tr>\n",
       "      <th>MntWines</th>\n",
       "      <td>189</td>\n",
       "      <td>464</td>\n",
       "      <td>134</td>\n",
       "      <td>10</td>\n",
       "      <td>6</td>\n",
       "    </tr>\n",
       "    <tr>\n",
       "      <th>MntFruits</th>\n",
       "      <td>104</td>\n",
       "      <td>5</td>\n",
       "      <td>11</td>\n",
       "      <td>0</td>\n",
       "      <td>16</td>\n",
       "    </tr>\n",
       "    <tr>\n",
       "      <th>MntMeatProducts</th>\n",
       "      <td>379</td>\n",
       "      <td>64</td>\n",
       "      <td>59</td>\n",
       "      <td>1</td>\n",
       "      <td>24</td>\n",
       "    </tr>\n",
       "    <tr>\n",
       "      <th>MntFishProducts</th>\n",
       "      <td>111</td>\n",
       "      <td>7</td>\n",
       "      <td>15</td>\n",
       "      <td>0</td>\n",
       "      <td>11</td>\n",
       "    </tr>\n",
       "    <tr>\n",
       "      <th>MntSweetProducts</th>\n",
       "      <td>189</td>\n",
       "      <td>0</td>\n",
       "      <td>2</td>\n",
       "      <td>0</td>\n",
       "      <td>0</td>\n",
       "    </tr>\n",
       "    <tr>\n",
       "      <th>MntGoldProds</th>\n",
       "      <td>218</td>\n",
       "      <td>37</td>\n",
       "      <td>30</td>\n",
       "      <td>0</td>\n",
       "      <td>34</td>\n",
       "    </tr>\n",
       "    <tr>\n",
       "      <th>NumDealsPurchases</th>\n",
       "      <td>1</td>\n",
       "      <td>1</td>\n",
       "      <td>1</td>\n",
       "      <td>1</td>\n",
       "      <td>2</td>\n",
       "    </tr>\n",
       "    <tr>\n",
       "      <th>NumWebPurchases</th>\n",
       "      <td>4</td>\n",
       "      <td>7</td>\n",
       "      <td>3</td>\n",
       "      <td>1</td>\n",
       "      <td>3</td>\n",
       "    </tr>\n",
       "    <tr>\n",
       "      <th>NumCatalogPurchases</th>\n",
       "      <td>4</td>\n",
       "      <td>3</td>\n",
       "      <td>2</td>\n",
       "      <td>0</td>\n",
       "      <td>1</td>\n",
       "    </tr>\n",
       "    <tr>\n",
       "      <th>NumStorePurchases</th>\n",
       "      <td>6</td>\n",
       "      <td>7</td>\n",
       "      <td>5</td>\n",
       "      <td>2</td>\n",
       "      <td>2</td>\n",
       "    </tr>\n",
       "    <tr>\n",
       "      <th>NumWebVisitsMonth</th>\n",
       "      <td>1</td>\n",
       "      <td>5</td>\n",
       "      <td>2</td>\n",
       "      <td>7</td>\n",
       "      <td>7</td>\n",
       "    </tr>\n",
       "    <tr>\n",
       "      <th>AcceptedCmp3</th>\n",
       "      <td>0</td>\n",
       "      <td>0</td>\n",
       "      <td>0</td>\n",
       "      <td>0</td>\n",
       "      <td>1</td>\n",
       "    </tr>\n",
       "    <tr>\n",
       "      <th>AcceptedCmp4</th>\n",
       "      <td>0</td>\n",
       "      <td>0</td>\n",
       "      <td>0</td>\n",
       "      <td>0</td>\n",
       "      <td>0</td>\n",
       "    </tr>\n",
       "    <tr>\n",
       "      <th>AcceptedCmp5</th>\n",
       "      <td>0</td>\n",
       "      <td>0</td>\n",
       "      <td>0</td>\n",
       "      <td>0</td>\n",
       "      <td>0</td>\n",
       "    </tr>\n",
       "    <tr>\n",
       "      <th>AcceptedCmp1</th>\n",
       "      <td>0</td>\n",
       "      <td>0</td>\n",
       "      <td>0</td>\n",
       "      <td>0</td>\n",
       "      <td>0</td>\n",
       "    </tr>\n",
       "    <tr>\n",
       "      <th>AcceptedCmp2</th>\n",
       "      <td>0</td>\n",
       "      <td>1</td>\n",
       "      <td>0</td>\n",
       "      <td>0</td>\n",
       "      <td>0</td>\n",
       "    </tr>\n",
       "    <tr>\n",
       "      <th>Response</th>\n",
       "      <td>1</td>\n",
       "      <td>1</td>\n",
       "      <td>0</td>\n",
       "      <td>0</td>\n",
       "      <td>1</td>\n",
       "    </tr>\n",
       "    <tr>\n",
       "      <th>Complain</th>\n",
       "      <td>0</td>\n",
       "      <td>0</td>\n",
       "      <td>0</td>\n",
       "      <td>0</td>\n",
       "      <td>0</td>\n",
       "    </tr>\n",
       "    <tr>\n",
       "      <th>Country</th>\n",
       "      <td>SP</td>\n",
       "      <td>CA</td>\n",
       "      <td>US</td>\n",
       "      <td>AUS</td>\n",
       "      <td>SP</td>\n",
       "    </tr>\n",
       "  </tbody>\n",
       "</table>\n",
       "</div>"
      ],
      "text/plain": [
       "                               0            1            2            3  \\\n",
       "ID                          1826            1        10476         1386   \n",
       "Year_Birth                  1970         1961         1958         1967   \n",
       "Education             Graduation   Graduation   Graduation   Graduation   \n",
       "Marital_Status          Divorced       Single      Married     Together   \n",
       " Income              $84,835.00   $57,091.00   $67,267.00   $32,474.00    \n",
       "Kidhome                        0            0            0            1   \n",
       "Teenhome                       0            0            1            1   \n",
       "Dt_Customer              6/16/14      6/15/14      5/13/14      5/11/14   \n",
       "Recency                        0            0            0            0   \n",
       "MntWines                     189          464          134           10   \n",
       "MntFruits                    104            5           11            0   \n",
       "MntMeatProducts              379           64           59            1   \n",
       "MntFishProducts              111            7           15            0   \n",
       "MntSweetProducts             189            0            2            0   \n",
       "MntGoldProds                 218           37           30            0   \n",
       "NumDealsPurchases              1            1            1            1   \n",
       "NumWebPurchases                4            7            3            1   \n",
       "NumCatalogPurchases            4            3            2            0   \n",
       "NumStorePurchases              6            7            5            2   \n",
       "NumWebVisitsMonth              1            5            2            7   \n",
       "AcceptedCmp3                   0            0            0            0   \n",
       "AcceptedCmp4                   0            0            0            0   \n",
       "AcceptedCmp5                   0            0            0            0   \n",
       "AcceptedCmp1                   0            0            0            0   \n",
       "AcceptedCmp2                   0            1            0            0   \n",
       "Response                       1            1            0            0   \n",
       "Complain                       0            0            0            0   \n",
       "Country                       SP           CA           US          AUS   \n",
       "\n",
       "                               4  \n",
       "ID                          5371  \n",
       "Year_Birth                  1989  \n",
       "Education             Graduation  \n",
       "Marital_Status            Single  \n",
       " Income              $21,474.00   \n",
       "Kidhome                        1  \n",
       "Teenhome                       0  \n",
       "Dt_Customer               4/8/14  \n",
       "Recency                        0  \n",
       "MntWines                       6  \n",
       "MntFruits                     16  \n",
       "MntMeatProducts               24  \n",
       "MntFishProducts               11  \n",
       "MntSweetProducts               0  \n",
       "MntGoldProds                  34  \n",
       "NumDealsPurchases              2  \n",
       "NumWebPurchases                3  \n",
       "NumCatalogPurchases            1  \n",
       "NumStorePurchases              2  \n",
       "NumWebVisitsMonth              7  \n",
       "AcceptedCmp3                   1  \n",
       "AcceptedCmp4                   0  \n",
       "AcceptedCmp5                   0  \n",
       "AcceptedCmp1                   0  \n",
       "AcceptedCmp2                   0  \n",
       "Response                       1  \n",
       "Complain                       0  \n",
       "Country                       SP  "
      ]
     },
     "execution_count": 2,
     "metadata": {},
     "output_type": "execute_result"
    }
   ],
   "source": [
    "df.head().T"
   ]
  },
  {
   "cell_type": "code",
   "execution_count": null,
   "metadata": {},
   "outputs": [],
   "source": [
    "df.info()"
   ]
  },
  {
   "cell_type": "code",
   "execution_count": 4,
   "metadata": {},
   "outputs": [],
   "source": [
    "df['Dt_Customer'] = pd.to_datetime(df['Dt_Customer'], format='%m/%d/%y')"
   ]
  },
  {
   "cell_type": "code",
   "execution_count": 5,
   "metadata": {},
   "outputs": [],
   "source": [
    "df['Income'] = df[' Income ']"
   ]
  },
  {
   "cell_type": "code",
   "execution_count": 6,
   "metadata": {},
   "outputs": [],
   "source": [
    "del df[' Income ']"
   ]
  },
  {
   "cell_type": "code",
   "execution_count": 7,
   "metadata": {},
   "outputs": [],
   "source": [
    "#Преобразуем Dtype колонки в числовые\n",
    "\n",
    "df['Income'] = df['Income'].str.replace('$', '')\n",
    "df['Income'] = df['Income'].str.replace(',', '')\n",
    "df['Income'] = df['Income'].str.replace('.', '')\n",
    "df['Income'] = pd.to_numeric(df['Income'], errors='coerce')"
   ]
  },
  {
   "cell_type": "code",
   "execution_count": null,
   "metadata": {},
   "outputs": [],
   "source": [
    "df['Income'].mean()"
   ]
  },
  {
   "cell_type": "code",
   "execution_count": null,
   "metadata": {},
   "outputs": [],
   "source": [
    "#Общая статистика\n",
    "df['Education'].describe()"
   ]
  },
  {
   "cell_type": "code",
   "execution_count": null,
   "metadata": {},
   "outputs": [],
   "source": [
    "#Переменные в столбце\n",
    "df['Education'].unique()    "
   ]
  },
  {
   "cell_type": "code",
   "execution_count": 8,
   "metadata": {},
   "outputs": [
    {
     "data": {
      "text/plain": [
       "array(['SP', 'CA', 'US', 'AUS', 'GER', 'IND', 'SA', 'ME'], dtype=object)"
      ]
     },
     "execution_count": 8,
     "metadata": {},
     "output_type": "execute_result"
    }
   ],
   "source": [
    "df['Country'].unique()  "
   ]
  },
  {
   "cell_type": "code",
   "execution_count": null,
   "metadata": {},
   "outputs": [],
   "source": [
    "df['Education'].value_counts().plot(kind='bar')"
   ]
  },
  {
   "cell_type": "code",
   "execution_count": null,
   "metadata": {},
   "outputs": [],
   "source": [
    "#Делаем словарь, где регион - ключ, значение - среднее по региону(из группы стран)\n",
    "mean_income = {}\n",
    "education = df['Education'].unique()\n",
    "for e in education:\n",
    "    ed_group = df[df['Education'] == e]\n",
    "    income_mean = ed_group['Income'].mean()\n",
    "    mean_income[e] = income_mean\n",
    "    \n",
    "mean_income"
   ]
  },
  {
   "cell_type": "code",
   "execution_count": null,
   "metadata": {},
   "outputs": [],
   "source": [
    "df['Income'].hist(label=u'Число выживших на Титанике', bins=100);"
   ]
  },
  {
   "cell_type": "code",
   "execution_count": 3,
   "metadata": {},
   "outputs": [
    {
     "data": {
      "text/html": [
       "<div>\n",
       "<style scoped>\n",
       "    .dataframe tbody tr th:only-of-type {\n",
       "        vertical-align: middle;\n",
       "    }\n",
       "\n",
       "    .dataframe tbody tr th {\n",
       "        vertical-align: top;\n",
       "    }\n",
       "\n",
       "    .dataframe thead th {\n",
       "        text-align: right;\n",
       "    }\n",
       "</style>\n",
       "<table border=\"1\" class=\"dataframe\">\n",
       "  <thead>\n",
       "    <tr style=\"text-align: right;\">\n",
       "      <th></th>\n",
       "      <th>ID</th>\n",
       "      <th>Year_Birth</th>\n",
       "      <th>Education</th>\n",
       "      <th>Marital_Status</th>\n",
       "      <th>Income</th>\n",
       "      <th>Kidhome</th>\n",
       "      <th>Teenhome</th>\n",
       "      <th>Dt_Customer</th>\n",
       "      <th>Recency</th>\n",
       "      <th>MntWines</th>\n",
       "      <th>...</th>\n",
       "      <th>NumStorePurchases</th>\n",
       "      <th>NumWebVisitsMonth</th>\n",
       "      <th>AcceptedCmp3</th>\n",
       "      <th>AcceptedCmp4</th>\n",
       "      <th>AcceptedCmp5</th>\n",
       "      <th>AcceptedCmp1</th>\n",
       "      <th>AcceptedCmp2</th>\n",
       "      <th>Response</th>\n",
       "      <th>Complain</th>\n",
       "      <th>Country</th>\n",
       "    </tr>\n",
       "  </thead>\n",
       "  <tbody>\n",
       "    <tr>\n",
       "      <th>2216</th>\n",
       "      <td>7230</td>\n",
       "      <td>1960</td>\n",
       "      <td>PhD</td>\n",
       "      <td>Divorced</td>\n",
       "      <td>$50,611.00</td>\n",
       "      <td>0</td>\n",
       "      <td>1</td>\n",
       "      <td>10/4/12</td>\n",
       "      <td>98</td>\n",
       "      <td>459</td>\n",
       "      <td>...</td>\n",
       "      <td>7</td>\n",
       "      <td>6</td>\n",
       "      <td>0</td>\n",
       "      <td>1</td>\n",
       "      <td>0</td>\n",
       "      <td>0</td>\n",
       "      <td>0</td>\n",
       "      <td>1</td>\n",
       "      <td>0</td>\n",
       "      <td>US</td>\n",
       "    </tr>\n",
       "    <tr>\n",
       "      <th>2217</th>\n",
       "      <td>5675</td>\n",
       "      <td>1960</td>\n",
       "      <td>PhD</td>\n",
       "      <td>Divorced</td>\n",
       "      <td>$50,611.00</td>\n",
       "      <td>0</td>\n",
       "      <td>1</td>\n",
       "      <td>10/4/12</td>\n",
       "      <td>98</td>\n",
       "      <td>459</td>\n",
       "      <td>...</td>\n",
       "      <td>7</td>\n",
       "      <td>6</td>\n",
       "      <td>0</td>\n",
       "      <td>1</td>\n",
       "      <td>0</td>\n",
       "      <td>0</td>\n",
       "      <td>0</td>\n",
       "      <td>0</td>\n",
       "      <td>0</td>\n",
       "      <td>US</td>\n",
       "    </tr>\n",
       "    <tr>\n",
       "      <th>2218</th>\n",
       "      <td>4974</td>\n",
       "      <td>1970</td>\n",
       "      <td>Graduation</td>\n",
       "      <td>Single</td>\n",
       "      <td>$83,273.00</td>\n",
       "      <td>1</td>\n",
       "      <td>2</td>\n",
       "      <td>9/25/12</td>\n",
       "      <td>98</td>\n",
       "      <td>433</td>\n",
       "      <td>...</td>\n",
       "      <td>9</td>\n",
       "      <td>7</td>\n",
       "      <td>0</td>\n",
       "      <td>0</td>\n",
       "      <td>0</td>\n",
       "      <td>0</td>\n",
       "      <td>0</td>\n",
       "      <td>0</td>\n",
       "      <td>0</td>\n",
       "      <td>US</td>\n",
       "    </tr>\n",
       "    <tr>\n",
       "      <th>2234</th>\n",
       "      <td>9977</td>\n",
       "      <td>1973</td>\n",
       "      <td>Graduation</td>\n",
       "      <td>Divorced</td>\n",
       "      <td>$78,901.00</td>\n",
       "      <td>0</td>\n",
       "      <td>1</td>\n",
       "      <td>9/17/13</td>\n",
       "      <td>99</td>\n",
       "      <td>321</td>\n",
       "      <td>...</td>\n",
       "      <td>5</td>\n",
       "      <td>4</td>\n",
       "      <td>0</td>\n",
       "      <td>0</td>\n",
       "      <td>0</td>\n",
       "      <td>0</td>\n",
       "      <td>0</td>\n",
       "      <td>0</td>\n",
       "      <td>0</td>\n",
       "      <td>US</td>\n",
       "    </tr>\n",
       "    <tr>\n",
       "      <th>2235</th>\n",
       "      <td>10142</td>\n",
       "      <td>1976</td>\n",
       "      <td>PhD</td>\n",
       "      <td>Divorced</td>\n",
       "      <td>$66,476.00</td>\n",
       "      <td>0</td>\n",
       "      <td>1</td>\n",
       "      <td>3/7/13</td>\n",
       "      <td>99</td>\n",
       "      <td>372</td>\n",
       "      <td>...</td>\n",
       "      <td>11</td>\n",
       "      <td>4</td>\n",
       "      <td>0</td>\n",
       "      <td>0</td>\n",
       "      <td>0</td>\n",
       "      <td>0</td>\n",
       "      <td>0</td>\n",
       "      <td>0</td>\n",
       "      <td>0</td>\n",
       "      <td>US</td>\n",
       "    </tr>\n",
       "  </tbody>\n",
       "</table>\n",
       "<p>5 rows × 28 columns</p>\n",
       "</div>"
      ],
      "text/plain": [
       "         ID  Year_Birth   Education Marital_Status      Income   Kidhome  \\\n",
       "2216   7230        1960         PhD       Divorced  $50,611.00         0   \n",
       "2217   5675        1960         PhD       Divorced  $50,611.00         0   \n",
       "2218   4974        1970  Graduation         Single  $83,273.00         1   \n",
       "2234   9977        1973  Graduation       Divorced  $78,901.00         0   \n",
       "2235  10142        1976         PhD       Divorced  $66,476.00         0   \n",
       "\n",
       "      Teenhome Dt_Customer  Recency  MntWines  ...  NumStorePurchases  \\\n",
       "2216         1     10/4/12       98       459  ...                  7   \n",
       "2217         1     10/4/12       98       459  ...                  7   \n",
       "2218         2     9/25/12       98       433  ...                  9   \n",
       "2234         1     9/17/13       99       321  ...                  5   \n",
       "2235         1      3/7/13       99       372  ...                 11   \n",
       "\n",
       "      NumWebVisitsMonth  AcceptedCmp3  AcceptedCmp4  AcceptedCmp5  \\\n",
       "2216                  6             0             1             0   \n",
       "2217                  6             0             1             0   \n",
       "2218                  7             0             0             0   \n",
       "2234                  4             0             0             0   \n",
       "2235                  4             0             0             0   \n",
       "\n",
       "      AcceptedCmp1  AcceptedCmp2  Response  Complain  Country  \n",
       "2216             0             0         1         0       US  \n",
       "2217             0             0         0         0       US  \n",
       "2218             0             0         0         0       US  \n",
       "2234             0             0         0         0       US  \n",
       "2235             0             0         0         0       US  \n",
       "\n",
       "[5 rows x 28 columns]"
      ]
     },
     "execution_count": 3,
     "metadata": {},
     "output_type": "execute_result"
    }
   ],
   "source": [
    "#Выборка из фрейма по конкретному параметру в колонке\n",
    "grouped = df.groupby('Data').get_group('param')\n"
   ]
  },
  {
   "cell_type": "code",
   "execution_count": 10,
   "metadata": {},
   "outputs": [
    {
     "data": {
      "text/plain": [
       "<pandas.core.groupby.generic.DataFrameGroupBy object at 0x000001E1F5D3F9D0>"
      ]
     },
     "execution_count": 10,
     "metadata": {},
     "output_type": "execute_result"
    }
   ],
   "source": [
    "grouped = df.groupby('Country')\n",
    "grouped"
   ]
  },
  {
   "cell_type": "code",
   "execution_count": 11,
   "metadata": {},
   "outputs": [],
   "source": [
    "income_means = df.groupby('Country')['Income'].mean()"
   ]
  },
  {
   "cell_type": "code",
   "execution_count": 12,
   "metadata": {},
   "outputs": [
    {
     "data": {
      "text/plain": [
       "Country\n",
       "AUS   5,180,428.6\n",
       "CA    5,305,061.7\n",
       "GER   5,295,109.5\n",
       "IND   4,901,641.5\n",
       "ME    5,768,033.3\n",
       "SA    5,483,081.6\n",
       "SP    5,156,457.7\n",
       "US    5,321,837.4\n",
       "Name: Income, dtype: float64"
      ]
     },
     "execution_count": 12,
     "metadata": {},
     "output_type": "execute_result"
    }
   ],
   "source": [
    "income_means"
   ]
  },
  {
   "cell_type": "code",
   "execution_count": null,
   "metadata": {},
   "outputs": [],
   "source": [
    "happiness_means = happiness2015.groupby('Region')['Happiness Score'].mean()\n",
    "happiness_means = happiness2015.groupby('Region')['Happiness Score'].mean()\n",
    "print(happiness_means)"
   ]
  },
  {
   "cell_type": "code",
   "execution_count": null,
   "metadata": {},
   "outputs": [],
   "source": [
    "pv_happiness = happiness2015.pivot_table(values='Happiness Score', index='Region', aggfunc=np.mean, margins=True)\n",
    "pv_happiness.plot(kind='barh', xlim=(0,10), title='Mean Happiness Scores by Region', legend=False)\n",
    "world_mean_happiness = happiness2015['Happiness Score'].mean()"
   ]
  },
  {
   "cell_type": "code",
   "execution_count": null,
   "metadata": {},
   "outputs": [],
   "source": [
    "grouped = happiness2015.groupby('Region')[['Happiness Score','Family']]\n",
    "happy_family_stats = grouped.agg([np.min, np.max, np.mean])\n",
    "pv_happy_family_stats = happiness2015.pivot_table(\n",
    "    ['Happiness Score', 'Family'], 'Region', aggfunc=[np.min, np.max, np.mean], margins=True\n",
    ")"
   ]
  },
  {
   "cell_type": "code",
   "execution_count": null,
   "metadata": {},
   "outputs": [],
   "source": [
    "head_2015 = happiness2015[['Country','Happiness Score', 'Year']].head(3)\n",
    "head_2016 = happiness2016[['Country','Happiness Score', 'Year']].head(3)\n",
    "concat_axis0 = pd.concat([head_2015, head_2016])\n",
    "concat_axis1 = pd.concat([head_2015, head_2016], axis=1)\n",
    "question1 = 6\n",
    "question2 = 3"
   ]
  },
  {
   "cell_type": "code",
   "execution_count": null,
   "metadata": {},
   "outputs": [],
   "source": [
    "head_2015 = happiness2015[['Year','Country','Happiness Score', 'Standard Error']].head(4)\n",
    "head_2016 = happiness2016[['Country','Happiness Score', 'Year']].head(3)\n",
    "concat_axis0 = pd.concat([head_2015, head_2016])\n",
    "rows = 7\n",
    "columns = 4"
   ]
  },
  {
   "cell_type": "code",
   "execution_count": null,
   "metadata": {},
   "outputs": [],
   "source": [
    "head_2015 = happiness2015[['Year','Country','Happiness Score', 'Standard Error']].head(4)\n",
    "head_2016 = happiness2016[['Country','Happiness Score', 'Year']].head(3)\n",
    "concat_update_index = pd.concat([head_2015, head_2016], ignore_index=True)"
   ]
  },
  {
   "cell_type": "code",
   "execution_count": null,
   "metadata": {},
   "outputs": [],
   "source": [
    "three_2015 = happiness2015[['Country','Happiness Rank','Year']].iloc[2:5]\n",
    "three_2016 = happiness2016[['Country','Happiness Rank','Year']].iloc[2:5]\n",
    "merged = pd.merge(left=three_2015, right=three_2016, how='left', on='Country')\n",
    "merged_updated = pd.merge(left=three_2016, right=three_2015, how = 'left', on='Country')\n",
    "merged_suffixes = pd.merge(left=three_2015, right=three_2016, how='left', on='Country', suffixes=('_2015', '_2016'))\n",
    "merged_updated_suffixes = pd.merge(left=three_2016, right=three_2015, how='left', on='Country', suffixes=('_2016', '_2015'))"
   ]
  },
  {
   "cell_type": "code",
   "execution_count": null,
   "metadata": {},
   "outputs": [],
   "source": [
    "four_2015 = happiness2015[['Country','Happiness Rank','Year']].iloc[2:6]\n",
    "three_2016 = happiness2016[['Country','Happiness Rank','Year']].iloc[2:5]\n",
    "merge_index = pd.merge(left = four_2015,right = three_2016, left_index = True, right_index = True, suffixes = ('_2015','_2016'))\n",
    "rows = 4\n",
    "columns = 6\n",
    "merge_index_left = pd.merge(\n",
    "    left=four_2015, \n",
    "    right=three_2016, \n",
    "    how='left', \n",
    "    left_index=True, \n",
    "    right_index=True, \n",
    "    suffixes=('_2015','_2016')\n",
    ")"
   ]
  },
  {
   "cell_type": "code",
   "execution_count": null,
   "metadata": {},
   "outputs": [],
   "source": [
    "happiness2017.rename(columns={'Happiness.Score': 'Happiness Score'}, inplace=True)\n",
    "combined = pd.concat([happiness2015, happiness2016, happiness2017])\n",
    "pivot_table_combined = combined.pivot_table(index='Year', values='Happiness Score', aggfunc=np.mean)\n",
    "pivot_table_combined.plot(kind='barh', title='Mean Happiness Scores by Year', xlim=(0,10))"
   ]
  },
  {
   "cell_type": "code",
   "execution_count": null,
   "metadata": {},
   "outputs": [],
   "source": [
    "mapping = {\n",
    "    'Economy (GDP per Capita)': 'Economy', \n",
    "    'Health (Life Expectancy)': 'Health', \n",
    "    'Trust (Government Corruption)': 'Trust' \n",
    "}\n",
    "happiness2015 = happiness2015.rename(mapping, axis = 1)"
   ]
  },
  {
   "cell_type": "code",
   "execution_count": null,
   "metadata": {},
   "outputs": [],
   "source": [
    "def label(element):\n",
    "    if element > 1:\n",
    "        return 'High'\n",
    "    else:\n",
    "        return 'Low'\n",
    "economy_impact_map = happiness2015['Economy'].map(label)\n",
    "economy_impact_apply = happiness2015['Economy'].apply(label)\n",
    "equal = economy_impact_map.equals(economy_impact_apply)"
   ]
  },
  {
   "cell_type": "code",
   "execution_count": null,
   "metadata": {},
   "outputs": [],
   "source": [
    "economy_impact_apply = happiness2015['Economy'].apply(label)\n",
    "def label(element, x):\n",
    "    if element > x:\n",
    "        return 'High'\n",
    "    else:\n",
    "        return 'Low'\n",
    "economy_impact_apply = happiness2015['Economy'].apply(label, x = .8)"
   ]
  },
  {
   "cell_type": "code",
   "execution_count": null,
   "metadata": {},
   "outputs": [],
   "source": [
    "def label(element):\n",
    "    if element > 1:\n",
    "        return 'High'\n",
    "    else:\n",
    "        return 'Low'\n",
    "economy_apply = happiness2015['Economy'].apply(label)\n",
    "factors = ['Economy', 'Family', 'Health', 'Freedom', 'Trust', 'Generosity']\n",
    "factors_impact = happiness2015[factors].applymap(label)"
   ]
  },
  {
   "cell_type": "code",
   "execution_count": null,
   "metadata": {},
   "outputs": [],
   "source": [
    "def v_counts(col):\n",
    "    num = col.value_counts()\n",
    "    den = col.size\n",
    "    return num/den\n",
    "v_counts_pct = factors_impact.apply(v_counts)"
   ]
  },
  {
   "cell_type": "code",
   "execution_count": null,
   "metadata": {},
   "outputs": [],
   "source": [
    "factors = ['Economy', 'Family', 'Health', 'Freedom', 'Trust', 'Generosity', 'Dystopia Residual']\n",
    "def percentages(col):\n",
    "    div = col/happiness2015['Happiness Score'] \n",
    "    return div * 100\n",
    "factor_percentages = happiness2015[factors].apply(percentages)"
   ]
  },
  {
   "cell_type": "code",
   "execution_count": null,
   "metadata": {},
   "outputs": [],
   "source": [
    "main_cols = ['Country', 'Region', 'Happiness Rank', 'Happiness Score']\n",
    "factors = ['Economy', 'Family', 'Health', 'Freedom', 'Trust', 'Generosity', 'Dystopia Residual']\n",
    "melt = pd.melt(happiness2015, id_vars = main_cols, value_vars = factors)\n",
    "melt['Percentage'] = round(melt['value']/melt['Happiness Score'] * 100, 2)"
   ]
  },
  {
   "cell_type": "code",
   "execution_count": null,
   "metadata": {},
   "outputs": [],
   "source": [
    "melt = pd.melt(\n",
    "    happiness2015, id_vars = ['Country', 'Region', 'Happiness Rank', 'Happiness Score'], \n",
    "    value_vars= ['Economy', 'Family', 'Health', 'Freedom', 'Trust', 'Generosity', 'Dystopia Residual']\n",
    ")\n",
    "melt['Percentage'] = round(melt['value']/melt['Happiness Score'] * 100, 2)\n",
    "pv_melt = melt.pivot_table(index='variable', values='value')\n",
    "pv_melt.plot(kind='pie', y='value', legend=False)"
   ]
  },
  {
   "cell_type": "code",
   "execution_count": null,
   "metadata": {},
   "outputs": [],
   "source": [
    "world_dev = pd.read_csv(\"World_dev.csv\")\n",
    "col_renaming = {'SourceOfMostRecentIncomeAndExpenditureData': 'IESurvey'}\n",
    "merged = pd.merge(left=happiness2015, right=world_dev, how='left', left_on='Country', right_on='ShortName')\n",
    "merged = merged.rename(col_renaming, axis=1)"
   ]
  },
  {
   "cell_type": "code",
   "execution_count": null,
   "metadata": {},
   "outputs": [],
   "source": [
    "def extract_last_word(element):\n",
    "    return str(element).split()[-1]\n",
    "merged['Currency Apply'] = merged['CurrencyUnit'].apply(extract_last_word)"
   ]
  },
  {
   "cell_type": "code",
   "execution_count": null,
   "metadata": {},
   "outputs": [],
   "source": [
    "merged['Currency Vectorized'] = merged['CurrencyUnit'].str.split().str.get(-1)\n",
    "print(merged['Currency Vectorized'].head())"
   ]
  },
  {
   "cell_type": "code",
   "execution_count": null,
   "metadata": {},
   "outputs": [],
   "source": [
    "lengths = merged['CurrencyUnit'].str.len()\n",
    "value_counts = lengths.value_counts(dropna=False)"
   ]
  },
  {
   "cell_type": "code",
   "execution_count": null,
   "metadata": {},
   "outputs": [],
   "source": [
    "pattern = r\"[Nn]ational accounts\"\n",
    "national_accounts = merged['SpecialNotes'].str.contains(pattern)\n",
    "print(national_accounts.head())"
   ]
  },
  {
   "cell_type": "code",
   "execution_count": null,
   "metadata": {},
   "outputs": [],
   "source": [
    "pattern = r\"[Nn]ational accounts\"\n",
    "national_accounts = merged['SpecialNotes'].str.contains(r\"[Nn]ational accounts\", na=False)\n",
    "merged_national_accounts = merged[national_accounts]\n",
    "print(merged_national_accounts.head())"
   ]
  },
  {
   "cell_type": "code",
   "execution_count": null,
   "metadata": {},
   "outputs": [],
   "source": [
    "pattern =r\"()\"\n",
    "pattern = r\"([1-2][0-9]{3})\"\n",
    "years = merged['SpecialNotes'].str.extract(pattern, expand=True)"
   ]
  },
  {
   "cell_type": "code",
   "execution_count": null,
   "metadata": {},
   "outputs": [],
   "source": [
    "pattern = r\"(?P<Years>[1-2][0-9]{3})\"\n",
    "years = merged['IESurvey'].str.extractall(pattern)\n",
    "value_counts = years['Years'].value_counts()\n",
    "print(value_counts)"
   ]
  },
  {
   "cell_type": "code",
   "execution_count": null,
   "metadata": {},
   "outputs": [],
   "source": [
    "pattern = r\"(?P<First_Year>[1-2][0-9]{3})/?(?P<Second_Year>[0-9]{2})?\"\n",
    "years = merged['IESurvey'].str.extractall(pattern)\n",
    "first_two_year = years['First_Year'].str[0:2]\n",
    "years['Second_Year'] = first_two_year + years['Second_Year']"
   ]
  },
  {
   "cell_type": "code",
   "execution_count": null,
   "metadata": {},
   "outputs": [],
   "source": [
    "merged['IncomeGroup'] = merged['IncomeGroup'].str.replace(' income', '').str.replace(':', '').str.upper()\n",
    "pv_incomes = merged.pivot_table(values='Happiness Score', index='IncomeGroup')\n",
    "pv_incomes.plot(kind='bar', rot=30, ylim=(0,10))\n",
    "plt.show()"
   ]
  },
  {
   "cell_type": "code",
   "execution_count": null,
   "metadata": {},
   "outputs": [],
   "source": [
    "happiness_mean = combined['Happiness Score'].mean()\n",
    "print(happiness_mean)\n",
    "combined['HAPPINESS SCORE UPDATED'] = combined['Happiness Score'].fillna(happiness_mean)\n",
    "print(combined['HAPPINESS SCORE UPDATED'].mean())"
   ]
  },
  {
   "cell_type": "code",
   "execution_count": null,
   "metadata": {},
   "outputs": [],
   "source": [
    "combined = combined.dropna()\n",
    "missing = combined.isnull().sum()"
   ]
  },
  {
   "cell_type": "code",
   "execution_count": null,
   "metadata": {},
   "outputs": [],
   "source": [
    "shape_2015 = happiness2015.shape\n",
    "shape_2016 = happiness2016.shape\n",
    "shape_2017 = happiness2017.shape"
   ]
  },
  {
   "cell_type": "code",
   "execution_count": null,
   "metadata": {},
   "outputs": [],
   "source": [
    "missing_2016 = happiness2016.isnull().sum()\n",
    "missing_2017 = happiness2017.isnull().sum()"
   ]
  },
  {
   "cell_type": "code",
   "execution_count": null,
   "metadata": {},
   "outputs": [],
   "source": [
    "happiness2017.columns = happiness2017.columns.str.replace('.', ' ').str.replace('\\s+', ' ').str.strip().str.upper()\n",
    "happiness2015.columns = happiness2015.columns.str.replace('(', '').str.replace(')', '').str.strip().str.upper()\n",
    "happiness2016.columns = happiness2016.columns.str.replace('(', '').str.replace(')', '').str.strip().str.upper()\n",
    "\n",
    "combined = pd.concat([happiness2015, happiness2016, happiness2017], ignore_index=True)\n",
    "missing = combined.isnull().sum()"
   ]
  },
  {
   "cell_type": "code",
   "execution_count": null,
   "metadata": {},
   "outputs": [],
   "source": [
    "regions_2017 = combined[combined['YEAR']==2017]['REGION']\n",
    "missing = regions_2017.isnull().sum()"
   ]
  },
  {
   "cell_type": "code",
   "execution_count": null,
   "metadata": {},
   "outputs": [],
   "source": [
    "combined.head()"
   ]
  },
  {
   "cell_type": "code",
   "execution_count": null,
   "metadata": {},
   "outputs": [],
   "source": [
    "combined = pd.merge(left=combined, right=regions, on='COUNTRY', how='left')\n",
    "combined = combined.drop('REGION_x', axis = 1)\n",
    "missing = combined.isnull().sum()"
   ]
  },
  {
   "cell_type": "code",
   "execution_count": null,
   "metadata": {},
   "outputs": [],
   "source": [
    "combined['COUNTRY'] = combined['COUNTRY'].str.upper()\n",
    "dups = combined.duplicated(['COUNTRY', 'YEAR'])\n",
    "print(combined[dups])"
   ]
  },
  {
   "cell_type": "code",
   "execution_count": null,
   "metadata": {},
   "outputs": [],
   "source": [
    "combined['COUNTRY'] = combined['COUNTRY'].str.upper()\n",
    "combined = combined.drop_duplicates(['COUNTRY', 'YEAR'])"
   ]
  },
  {
   "cell_type": "code",
   "execution_count": null,
   "metadata": {},
   "outputs": [],
   "source": [
    "columns_to_drop = ['LOWER CONFIDENCE INTERVAL', 'STANDARD ERROR', 'UPPER CONFIDENCE INTERVAL', 'WHISKER HIGH', 'WHISKER LOW']\n",
    "combined = combined.drop(columns_to_drop, axis = 1)\n",
    "missing = combined.isnull().sum()"
   ]
  },
  {
   "cell_type": "code",
   "execution_count": null,
   "metadata": {},
   "outputs": [],
   "source": [
    "combined = combined.dropna(thresh=159, axis=1)\n",
    "missing = combined.isnull().sum()"
   ]
  },
  {
   "cell_type": "code",
   "execution_count": null,
   "metadata": {},
   "outputs": [],
   "source": [
    "happiness_mean = combined['HAPPINESS SCORE'].mean()\n",
    "print(happiness_mean)\n",
    "combined['HAPPINESS SCORE UPDATED'] = combined['HAPPINESS SCORE'].fillna(happiness_mean)\n",
    "print(combined['HAPPINESS SCORE UPDATED'].mean())"
   ]
  },
  {
   "cell_type": "code",
   "execution_count": null,
   "metadata": {},
   "outputs": [],
   "source": [
    "dete_survey = pd.read_csv('dete-exit-survey-january-2014.csv')\n",
    "tafe_survey = pd.read_csv(\"tafe-employee-exit-survey-access-database-december-2013.csv\", encoding='windows-1252')"
   ]
  },
  {
   "cell_type": "code",
   "execution_count": null,
   "metadata": {},
   "outputs": [],
   "source": [
    "# Read in the data again, but this time read `Not Stated` values as `NaN`\n",
    "dete_survey = pd.read_csv('dete_survey.csv', na_values='Not Stated')\n"
   ]
  },
  {
   "cell_type": "code",
   "execution_count": null,
   "metadata": {},
   "outputs": [],
   "source": [
    "#Удаляем лишние колонки\n",
    "dete_survey_updated = dete_survey.drop(dete_survey.columns[28:49], axis=1)\n",
    "tafe_survey_updated = tafe_survey.drop(tafe_survey.columns[17:66], axis=1)\n",
    "\n",
    "#Check that the columns were dropped\n",
    "print(dete_survey_updated.columns)\n",
    "print(tafe_survey_updated.columns)"
   ]
  },
  {
   "cell_type": "code",
   "execution_count": null,
   "metadata": {},
   "outputs": [],
   "source": [
    "# Clean the column names\n",
    "dete_survey_updated.columns = dete_survey_updated.columns.str.lower().str.strip().str.replace(' ', '_')\n",
    "\n",
    "# Check that the column names were updated correctly\n",
    "dete_survey_updated.columns"
   ]
  },
  {
   "cell_type": "code",
   "execution_count": null,
   "metadata": {},
   "outputs": [],
   "source": [
    "# Update column names to match the names in dete_survey_updated\n",
    "mapping = {\n",
    "    'Record ID': 'id', \n",
    "    'CESSATION YEAR': 'cease_date', \n",
    "    'Reason for ceasing employment': 'separationtype', \n",
    "    'Gender. What is your Gender?': 'gender', \n",
    "    'CurrentAge. Current Age': 'age',\n",
    "    'Employment Type. Employment Type': 'employment_status',\n",
    "    'Classification. Classification': 'position',\n",
    "    'LengthofServiceOverall. Overall Length of Service at Institute (in years)': 'institute_service',\n",
    "    'LengthofServiceCurrent. Length of Service at current workplace (in years)': 'role_service'\n",
    "}\n",
    "tafe_survey_updated = tafe_survey_updated.rename(mapping, axis = 1)\n",
    "\n",
    "# Check that the specified column names were updated correctly\n",
    "tafe_survey_updated.columns"
   ]
  },
  {
   "cell_type": "code",
   "execution_count": null,
   "metadata": {},
   "outputs": [],
   "source": [
    "# Check the unique values for the separationtype column\n",
    "tafe_survey_updated['separationtype'].value_counts()\n",
    "# Check the unique values for the separationtype column\n",
    "dete_survey_updated['separationtype'].value_counts()"
   ]
  },
  {
   "cell_type": "code",
   "execution_count": null,
   "metadata": {},
   "outputs": [],
   "source": [
    "# Update all separation types containing the word \"resignation\" to 'Resignation'\n",
    "dete_survey_updated['separationtype'] = dete_survey_updated['separationtype'].str.split('-').str[0]\n",
    "\n",
    "# Check the values in the separationtype column were updated correctly\n",
    "dete_survey_updated['separationtype'].value_counts()"
   ]
  },
  {
   "cell_type": "code",
   "execution_count": null,
   "metadata": {},
   "outputs": [],
   "source": [
    "# Select only the resignation separation types from each dataframe\n",
    "dete_resignations = dete_survey_updated[dete_survey_updated['separationtype'] == 'Resignation'].copy()\n",
    "tafe_resignations = tafe_survey_updated[tafe_survey_updated['separationtype'] == 'Resignation'].copy()"
   ]
  },
  {
   "cell_type": "code",
   "execution_count": null,
   "metadata": {},
   "outputs": [],
   "source": [
    "# Check the unique values\n",
    "dete_resignations['cease_date'].value_counts()"
   ]
  },
  {
   "cell_type": "code",
   "execution_count": null,
   "metadata": {},
   "outputs": [],
   "source": [
    "# Extract the years and convert them to a float type\n",
    "dete_resignations['cease_date'] = dete_resignations['cease_date'].str.split('/').str[-1]\n",
    "dete_resignations['cease_date'] = dete_resignations['cease_date'].astype(\"float\")\n",
    "\n",
    "# Check the values again and look for outliers\n",
    "dete_resignations['cease_date'].value_counts()"
   ]
  },
  {
   "cell_type": "code",
   "execution_count": null,
   "metadata": {},
   "outputs": [],
   "source": [
    "# Check the unique values and look for outliers\n",
    "dete_resignations['dete_start_date'].value_counts().sort_values()"
   ]
  },
  {
   "cell_type": "code",
   "execution_count": null,
   "metadata": {},
   "outputs": [],
   "source": [
    "# Check the unique values\n",
    "tafe_resignations['cease_date'].value_counts().sort_values()"
   ]
  },
  {
   "cell_type": "code",
   "execution_count": null,
   "metadata": {},
   "outputs": [],
   "source": [
    "# Calculate the length of time an employee spent in their respective workplace and create a new column\n",
    "dete_resignations['institute_service'] = dete_resignations['cease_date'] - dete_resignations['dete_start_date']\n",
    "\n",
    "# Quick check of the result\n",
    "dete_resignations['institute_service'].head()"
   ]
  },
  {
   "cell_type": "code",
   "execution_count": null,
   "metadata": {},
   "outputs": [],
   "source": [
    "# Check the unique values\n",
    "tafe_resignations['Contributing Factors. Dissatisfaction'].value_counts()"
   ]
  },
  {
   "cell_type": "code",
   "execution_count": null,
   "metadata": {},
   "outputs": [],
   "source": [
    "# Check the unique values\n",
    "tafe_resignations['Contributing Factors. Job Dissatisfaction'].value_counts()"
   ]
  },
  {
   "cell_type": "code",
   "execution_count": null,
   "metadata": {},
   "outputs": [],
   "source": [
    "# Update the values in the contributing factors columns to be either True, False, or NaN\n",
    "def update_vals(x):\n",
    "    if x == '-':\n",
    "        return False\n",
    "    elif pd.isnull(x):\n",
    "        return np.nan\n",
    "    else:\n",
    "        return True\n",
    "tafe_resignations['dissatisfied'] = tafe_resignations[[\n",
    "    'Contributing Factors. Dissatisfaction', \n",
    "    'Contributing Factors. Job Dissatisfaction'\n",
    "]].applymap(update_vals).any(1, skipna=False)\n",
    "tafe_resignations_up = tafe_resignations.copy()\n",
    "\n",
    "# Check the unique values after the updates\n",
    "tafe_resignations_up['dissatisfied'].value_counts(dropna=False)"
   ]
  },
  {
   "cell_type": "code",
   "execution_count": null,
   "metadata": {},
   "outputs": [],
   "source": [
    "# Update the values in columns related to dissatisfaction to be either True, False, or NaN\n",
    "dete_resignations['dissatisfied'] = dete_resignations[['job_dissatisfaction',\n",
    "       'dissatisfaction_with_the_department', 'physical_work_environment',\n",
    "       'lack_of_recognition', 'lack_of_job_security', 'work_location',\n",
    "       'employment_conditions', 'work_life_balance',\n",
    "       'workload']].any(1, skipna=False)\n",
    "dete_resignations_up = dete_resignations.copy()\n",
    "dete_resignations_up['dissatisfied'].value_counts(dropna=False)"
   ]
  },
  {
   "cell_type": "code",
   "execution_count": null,
   "metadata": {},
   "outputs": [],
   "source": [
    "# Add an institute column\n",
    "dete_resignations_up['institute'] = 'DETE'\n",
    "tafe_resignations_up['institute'] = 'TAFE'"
   ]
  },
  {
   "cell_type": "code",
   "execution_count": null,
   "metadata": {},
   "outputs": [],
   "source": [
    "# Combine the dataframes\n",
    "combined = pd.concat([dete_resignations_up, tafe_resignations_up], ignore_index=True)\n",
    "\n",
    "# Verify the number of non null values in each column\n",
    "combined.notnull().sum().sort_values()"
   ]
  },
  {
   "cell_type": "code",
   "execution_count": null,
   "metadata": {},
   "outputs": [],
   "source": [
    "# Drop columns with less than 500 non null values\n",
    "combined_updated = combined.dropna(thresh = 500, axis =1).copy()"
   ]
  },
  {
   "cell_type": "code",
   "execution_count": null,
   "metadata": {},
   "outputs": [],
   "source": [
    "# Check the unique values\n",
    "combined_updated['institute_service'].value_counts(dropna=False)"
   ]
  },
  {
   "cell_type": "code",
   "execution_count": null,
   "metadata": {},
   "outputs": [],
   "source": [
    "# Extract the years of service and convert the type to float\n",
    "combined_updated['institute_service_up'] = combined_updated['institute_service'].astype('str').str.extract(r'(\\d+)')\n",
    "combined_updated['institute_service_up'] = combined_updated['institute_service_up'].astype('float')\n",
    "\n",
    "# Check the years extracted are correct\n",
    "combined_updated['institute_service_up'].value_counts()"
   ]
  },
  {
   "cell_type": "code",
   "execution_count": null,
   "metadata": {},
   "outputs": [],
   "source": [
    "# Convert years of service to categories\n",
    "def transform_service(val):\n",
    "    if val >= 11:\n",
    "        return \"Veteran\"\n",
    "    elif 7 <= val < 11:\n",
    "        return \"Established\"\n",
    "    elif 3 <= val < 7:\n",
    "        return \"Experienced\"\n",
    "    elif pd.isnull(val):\n",
    "        return np.nan\n",
    "    else:\n",
    "        return \"New\"\n",
    "combined_updated['service_cat'] = combined_updated['institute_service_up'].apply(transform_service)\n",
    "\n",
    "# Quick check of the update\n",
    "combined_updated['service_cat'].value_counts()"
   ]
  },
  {
   "cell_type": "code",
   "execution_count": null,
   "metadata": {},
   "outputs": [],
   "source": [
    "# Verify the unique values\n",
    "combined_updated['dissatisfied'].value_counts(dropna=False)"
   ]
  },
  {
   "cell_type": "code",
   "execution_count": null,
   "metadata": {},
   "outputs": [],
   "source": [
    "# Replace missing values with the most frequent value, False\n",
    "combined_updated['dissatisfied'] = combined_updated['dissatisfied'].fillna(False)"
   ]
  },
  {
   "cell_type": "code",
   "execution_count": null,
   "metadata": {},
   "outputs": [],
   "source": [
    "# Calculate the percentage of employees who resigned due to dissatisfaction in each category\n",
    "dis_pct = combined_updated.pivot_table(index='service_cat', values='dissatisfied')\n",
    "\n",
    "# Plot the results\n",
    "%matplotlib inline\n",
    "dis_pct.plot(kind='bar', rot=30)"
   ]
  }
 ],
 "metadata": {
  "kernelspec": {
   "display_name": "Python 3",
   "language": "python",
   "name": "python3"
  },
  "language_info": {
   "codemirror_mode": {
    "name": "ipython",
    "version": 3
   },
   "file_extension": ".py",
   "mimetype": "text/x-python",
   "name": "python",
   "nbconvert_exporter": "python",
   "pygments_lexer": "ipython3",
   "version": "3.8.3"
  }
 },
 "nbformat": 4,
 "nbformat_minor": 4
}
