{
 "cells": [
  {
   "cell_type": "code",
   "execution_count": null,
   "metadata": {},
   "outputs": [],
   "source": [
    "import pandas as pd\n",
    "import datetime as dt\n",
    "\n",
    "data = pd.read_csv(\"rfm_xmas19.txt\", parse_dates=[\"trans_date\"])\n",
    "group_by_customer = data.groupby(\"customer_id\")\n",
    "last_transaction = group_by_customer[\"trans_date\"].max()\n",
    "best_churn = pd.DataFrame(last_transaction)\n",
    "\n",
    "cutoff_day = dt.datetime(2019, 10, 16)\n",
    "\n",
    "best_churn[\"churned\"] = best_churn[\"trans_date\"].apply(\n",
    "    lambda date: 1 if date < cutoff_day else 0\n",
    ")"
   ]
  },
  {
   "cell_type": "code",
   "execution_count": null,
   "metadata": {},
   "outputs": [],
   "source": [
    "best_churn[\"nr_of_transactions\"] = group_by_customer.size()\n",
    "best_churn[\"amount_spent\"] = group_by_customer.sum()\n",
    "best_churn.drop(\"trans_date\", axis=\"columns\", inplace=True)"
   ]
  },
  {
   "cell_type": "code",
   "execution_count": null,
   "metadata": {},
   "outputs": [],
   "source": [
    "best_churn[\"scaled_tran\"] = (best_churn[\"nr_of_transactions\"] \\\n",
    "                             - best_churn[\"nr_of_transactions\"].min()) \\\n",
    "                             / (best_churn[\"nr_of_transactions\"].max() \\\n",
    "                             - best_churn[\"nr_of_transactions\"].min())\n",
    "\n",
    "best_churn[\"scaled_amount\"] = (best_churn[\"amount_spent\"] \\\n",
    "                               -best_churn[\"amount_spent\"].min()) \\\n",
    "                               / (best_churn[\"amount_spent\"].max() \\\n",
    "                               - best_churn[\"amount_spent\"].min())\n",
    "\n",
    "best_churn[\"score\"] = 100*(.5*best_churn[\"scaled_tran\"] \\\n",
    "                           + .5*best_churn[\"scaled_amount\"])\n",
    "\n",
    "best_churn.sort_values(\"score\", inplace=True, ascending=False)"
   ]
  },
  {
   "cell_type": "code",
   "execution_count": null,
   "metadata": {},
   "outputs": [],
   "source": [
    "coupon = data[\"tran_amount\"].mean()*0.3\n",
    "nr_of_customers = 1000/coupon"
   ]
  },
  {
   "cell_type": "code",
   "execution_count": null,
   "metadata": {},
   "outputs": [],
   "source": [
    "top_50_churned = best_churn.loc[best_churn[\"churned\"] == 1].head(50)\n",
    "\n",
    "top_50_churned.to_csv(\"best_customers.txt\")"
   ]
  },
  {
   "cell_type": "code",
   "execution_count": null,
   "metadata": {},
   "outputs": [],
   "source": [
    "playstore = pd.read_csv(\"googleplaystore.csv\")\n",
    "print(playstore.shape)\n",
    "answer=\"no\" # We don't care about free apps for this project\n",
    "\n",
    "playstore.drop(labels=10472, inplace=True)"
   ]
  },
  {
   "cell_type": "code",
   "execution_count": null,
   "metadata": {},
   "outputs": [],
   "source": [
    "paid = playstore[playstore[\"Price\"] != 0].copy()\n",
    "def clean_size(size):\n",
    "    \"\"\"Convert file size string to float and megabytes\"\"\"\n",
    "    size = size.replace(\"M\",\"\")\n",
    "    if size.endswith(\"k\"):\n",
    "        size = float(size[:-1])/1000\n",
    "    elif size == \"Varies with device\":\n",
    "        size = pd.np.NaN\n",
    "    else:\n",
    "        size = float(size)\n",
    "    return size\n",
    "paid.drop(\"Type\", axis=\"columns\", inplace=True)\n",
    "paid[\"Reviews\"] = paid[\"Reviews\"].astype(int)\n",
    "paid[\"Size\"] = paid[\"Size\"].apply(clean_size).astype(float)\n",
    "paid.info()"
   ]
  },
  {
   "cell_type": "code",
   "execution_count": null,
   "metadata": {},
   "outputs": [],
   "source": [
    "paid.sort_values(\"Reviews\", ascending=False, inplace=True)\n",
    "paid.drop_duplicates(\"App\", inplace=True)\n",
    "print(paid.duplicated(\"App\").sum())\n",
    "paid.reset_index(inplace=True, drop=True)"
   ]
  },
  {
   "cell_type": "code",
   "execution_count": null,
   "metadata": {},
   "outputs": [],
   "source": [
    "paid[\"Price\"]"
   ]
  },
  {
   "cell_type": "code",
   "execution_count": null,
   "metadata": {},
   "outputs": [],
   "source": [
    "affordable_apps = paid[paid[\"Price\"] < 50].copy()\n",
    "cheap = affordable_apps[\"Price\"] < 5\n",
    "reasonable = affordable_apps[\"Price\"] >= 5\n",
    "affordable_apps[cheap].hist(column=\"Price\", grid=False, figsize=(12,6))\n",
    "affordable_apps[reasonable].hist(column=\"Price\", grid=False, figsize=(12,6))\n",
    "affordable_apps[\"affordability\"] = affordable_apps.apply(\n",
    "    lambda row: \"cheap\" if row[\"Price\"] < 5 else \"reasonable\",\n",
    "    axis=1\n",
    ")"
   ]
  },
  {
   "cell_type": "code",
   "execution_count": null,
   "metadata": {},
   "outputs": [],
   "source": [
    "cheap = affordable_apps[\"Price\"] < 5\n",
    "reasonable = affordable_apps[\"Price\"] >= 5\n",
    "cheap_mean = affordable_apps.loc[cheap, \"Price\"].mean()\n",
    "\n",
    "affordable_apps.loc[cheap, \"price_criterion\"] = affordable_apps[\"Price\"].apply(\n",
    "    lambda price: 1 if price < cheap_mean else 0\n",
    ")\n",
    "\n",
    "affordable_apps[reasonable].plot(kind=\"scatter\", x=\"Price\", y=\"Rating\")\n",
    "\n",
    "reasonable_mean = affordable_apps.loc[reasonable, \"Price\"].mean()\n",
    "\n",
    "affordable_apps.loc[reasonable,\"price_criterion\"] = affordable_apps[\"Price\"].apply(\n",
    "    lambda price: 1 if price < reasonable_mean else 0\n",
    ")"
   ]
  },
  {
   "cell_type": "code",
   "execution_count": null,
   "metadata": {},
   "outputs": [],
   "source": [
    "affordable_apps[\"genre_count\"] = affordable_apps[\"Genres\"].str.count(\";\")+1\n",
    "\n",
    "genres_mean = affordable_apps.groupby(\n",
    "    [\"affordability\", \"genre_count\"]\n",
    ").mean()[[\"Price\"]]\n",
    "\n",
    "\n",
    "def label_genres(row):\n",
    "    \"\"\"For each segment in `genres_mean`,\n",
    "    labels the apps that cost less than its segment's mean with `1`\n",
    "    and the others with `0`.\"\"\"\n",
    "\n",
    "    aff = row[\"affordability\"]\n",
    "    gc = row[\"genre_count\"]\n",
    "    price = row[\"Price\"]\n",
    "\n",
    "    if price < genres_mean.loc[(aff, gc)][0]:\n",
    "        return 1\n",
    "    else:\n",
    "        return 0\n",
    "\n",
    "affordable_apps[\"genre_criterion\"] = affordable_apps.apply(\n",
    "    label_genres, axis=\"columns\"\n",
    ")\n",
    "categories_mean = affordable_apps.groupby(\n",
    "    [\"affordability\", \"Category\"]\n",
    ").mean()[[\"Price\"]]\n",
    "\n",
    "def label_categories(row):\n",
    "    \"\"\"For each segment in `categories_mean`,\n",
    "    labels the apps that cost less than its segment's mean with `1`\n",
    "    and the others with `0`.\"\"\"\n",
    "\n",
    "    aff = row[\"affordability\"]\n",
    "    cat = row[\"Category\"]\n",
    "    price = row[\"Price\"]\n",
    "\n",
    "    if price < categories_mean.loc[(aff, cat)][0]:\n",
    "        return 1\n",
    "    else:\n",
    "        return 0\n",
    "\n",
    "affordable_apps[\"category_criterion\"] = affordable_apps.apply(\n",
    "    label_categories, axis=\"columns\"\n",
    ")"
   ]
  },
  {
   "cell_type": "code",
   "execution_count": null,
   "metadata": {},
   "outputs": [],
   "source": [
    "criteria = [\"price_criterion\", \"genre_criterion\", \"category_criterion\"]\n",
    "affordable_apps[\"Result\"] = affordable_apps[criteria].mode(axis='columns')\n",
    "def new_price(row):\n",
    "    if row[\"affordability\"] == \"cheap\":\n",
    "        return round(max(row[\"Price\"], cheap_mean), 2)\n",
    "    else:\n",
    "        return round(max(row[\"Price\"], reasonable_mean), 2)\n",
    "    \n",
    "affordable_apps[\"New Price\"] = affordable_apps.apply(new_price, axis=\"columns\")\n",
    "\n",
    "affordable_apps[\"Installs\"] = affordable_apps[\"Installs\"].str.replace(\"[+,]\", \"\").astype(int)\n",
    "\n",
    "affordable_apps[\"Impact\"] = (affordable_apps[\"New Price\"]-affordable_apps[\"Price\"])*affordable_apps[\"Installs\"]\n",
    "\n",
    "total_impact = affordable_apps[\"Impact\"].sum()\n",
    "print(total_impact)"
   ]
  },
  {
   "cell_type": "code",
   "execution_count": null,
   "metadata": {},
   "outputs": [],
   "source": [
    "def categorize(score):\n",
    "    \"\"\"Returns NPS category\"\"\"\n",
    "    if score in range(0,7):\n",
    "        return \"Detractor\"\n",
    "    elif score in (7, 8):\n",
    "        return \"Passive\"\n",
    "    elif score in (9,10):\n",
    "        return \"Promoter\"\n",
    "    return None"
   ]
  },
  {
   "cell_type": "code",
   "execution_count": null,
   "metadata": {},
   "outputs": [],
   "source": [
    "df = pd.read_csv(\"nps.csv\", parse_dates=[\"event_date\"])\n",
    "year = df[\"event_date\"].dt.year\n",
    "month = df[\"event_date\"].dt.month\n",
    "df[\"yearmonth\"] = 100*year + month\n",
    "\n",
    "df[\"category\"] = df[\"score\"].apply(categorize)\n",
    "\n",
    "nps = df.pivot_table(index=\"yearmonth\", columns=\"category\", aggfunc=\"size\")\n",
    "nps[\"total_responses\"] = nps.sum(axis=\"columns\")\n",
    "nps[\"nps\"] = (nps[\"Promoter\"]-nps[\"Detractor\"])/nps[\"total_responses\"]\n",
    "nps[\"nps\"] = (100*nps[\"nps\"]).astype(int)"
   ]
  },
  {
   "cell_type": "code",
   "execution_count": null,
   "metadata": {},
   "outputs": [],
   "source": [
    "subs = pd.read_csv(\"muscle_labs.csv\", parse_dates=[\"end_date\", \"start_date\"])\n",
    "subs[\"churn_month\"] = subs[\"end_date\"].dt.year*100 + subs[\"end_date\"].dt.month\n",
    "monthly_churn = pd.DataFrame({\"total_churned\": subs.groupby(\"churn_month\").size()})"
   ]
  },
  {
   "cell_type": "code",
   "execution_count": null,
   "metadata": {},
   "outputs": [],
   "source": [
    "years = list(range(2011,2015))\n",
    "months = list(range(1,13))\n",
    "yearmonths = [y*100+m for y in years for m in months]\n",
    "yearmonths = yearmonths[:-1]\n",
    "\n",
    "churn = pd.DataFrame({\"yearmonth\": yearmonths})\n",
    "churn = pd.merge(churn, monthly_churn, \"left\", left_on=\"yearmonth\", right_index=True)\n",
    "churn.fillna(0, inplace=True)\n",
    "churn[\"total_churned\"] = churn[\"total_churned\"].astype(int)"
   ]
  },
  {
   "cell_type": "code",
   "execution_count": null,
   "metadata": {},
   "outputs": [],
   "source": [
    "import datetime as dt\n",
    "import matplotlib.pyplot as plt\n",
    "\n",
    "# arange = __import__(\"numpy\").arange\n",
    "# Ellipse = __import__(\"matplotlib\").patches.Ellipse\n",
    "# ax = churn.plot(x=\"yearmonth\", y=\"churn_rate\", figsize=(12,6), rot=45, marker=\".\")\n",
    "# start, end = ax.get_xlim()\n",
    "# ax.get_xticks()\n",
    "# ax.set_xticks(arange(2, end, 3))\n",
    "# ax.set_xticklabels(yearmonths[2::3])\n",
    "# circle = Ellipse((35, churn.loc[churn.yearmonth == \"201312\", \"churn_rate\"].iloc[0]),\n",
    "#                  5, 0.065, color='sandybrown', fill=False\n",
    "#                    )\n",
    "# ax.add_artist(circle)\n",
    "# ax.xaxis.label.set_visible(False)\n",
    "# ax.spines['top'].set_visible(False)\n",
    "# ax.spines['right'].set_visible(False)\n",
    "# ax.get_legend().remove()\n",
    "\n",
    "def get_customers(yearmonth):\n",
    "    year = yearmonth//100\n",
    "    month = yearmonth-year*100\n",
    "    date = dt.datetime(year, month, 1)\n",
    "    \n",
    "    return ((subs[\"start_date\"] < date) & (date <= subs[\"end_date\"])).sum()\n",
    "\n",
    "churn[\"total_customers\"] = churn[\"yearmonth\"].apply(get_customers)\n",
    "churn[\"churn_rate\"] = churn[\"total_churned\"] / churn[\"total_customers\"]\n",
    "churn[\"yearmonth\"] = churn[\"yearmonth\"].astype(str)\n",
    "\n",
    "arange = __import__(\"numpy\").arange\n",
    "Ellipse = __import__(\"matplotlib\").patches.Ellipse\n",
    "ax = churn.plot(x=\"yearmonth\", y=\"churn_rate\", figsize=(12,6), rot=45, marker=\".\")\n",
    "start, end = ax.get_xlim()\n",
    "ax.get_xticks()\n",
    "ax.set_xticks(arange(2, end, 3))\n",
    "ax.set_xticklabels(yearmonths[2::3])\n",
    "circle = Ellipse((35, churn.loc[churn.yearmonth == \"201312\", \"churn_rate\"].iloc[0]),\n",
    "                 5, 0.065, color='sandybrown', fill=False\n",
    "                   )\n",
    "ax.add_artist(circle)\n",
    "ax.xaxis.label.set_visible(False)\n",
    "ax.spines['top'].set_visible(False)\n",
    "ax.spines['right'].set_visible(False)\n",
    "ax.get_legend().remove()"
   ]
  },
  {
   "cell_type": "code",
   "execution_count": null,
   "metadata": {},
   "outputs": [],
   "source": [
    "# We import everything that we'll use\n",
    "\n",
    "import pandas as pd\n",
    "import matplotlib.pyplot as plt\n",
    "import seaborn as sns\n",
    "\n",
    "%matplotlib inline"
   ]
  },
  {
   "cell_type": "code",
   "execution_count": null,
   "metadata": {},
   "outputs": [],
   "source": [
    "questions = pd.read_csv(\"2019_questions.csv\", parse_dates=[\"CreationDate\"])\n",
    "\n",
    "questions.info()"
   ]
  },
  {
   "cell_type": "code",
   "execution_count": null,
   "metadata": {},
   "outputs": [],
   "source": [
    "questions[\"Tags\"].apply(lambda value: type(value)).unique()"
   ]
  },
  {
   "cell_type": "code",
   "execution_count": null,
   "metadata": {},
   "outputs": [],
   "source": [
    "\n",
    "questions.fillna(value={\"FavoriteCount\": 0}, inplace=True)\n",
    "questions[\"FavoriteCount\"] = questions[\"FavoriteCount\"].astype(int)\n",
    "questions.dtypes"
   ]
  },
  {
   "cell_type": "code",
   "execution_count": null,
   "metadata": {},
   "outputs": [],
   "source": [
    "questions[\"Tags\"] = questions[\"Tags\"].str.replace(\"^<|>$\", \"\").str.split(\"><\")\n",
    "questions.sample(3)"
   ]
  },
  {
   "cell_type": "code",
   "execution_count": null,
   "metadata": {},
   "outputs": [],
   "source": [
    "tag_count = dict()\n",
    "\n",
    "for tags in questions[\"Tags\"]:\n",
    "    for tag in tags:\n",
    "        if tag in tag_count:\n",
    "            tag_count[tag] += 1\n",
    "        else:\n",
    "            tag_count[tag] = 1"
   ]
  },
  {
   "cell_type": "code",
   "execution_count": null,
   "metadata": {},
   "outputs": [],
   "source": [
    "\n",
    "tag_count = pd.DataFrame.from_dict(tag_count, orient=\"index\")\n",
    "tag_count.rename(columns={0: \"Count\"}, inplace=True)\n",
    "tag_count.head(10)"
   ]
  },
  {
   "cell_type": "code",
   "execution_count": null,
   "metadata": {},
   "outputs": [],
   "source": [
    "most_used = tag_count.sort_values(by=\"Count\").tail(20)\n",
    "most_used"
   ]
  },
  {
   "cell_type": "code",
   "execution_count": null,
   "metadata": {},
   "outputs": [],
   "source": [
    "most_used.plot(kind=\"barh\", figsize=(16,8))"
   ]
  },
  {
   "cell_type": "code",
   "execution_count": null,
   "metadata": {},
   "outputs": [],
   "source": [
    "tag_view_count = dict()\n",
    "\n",
    "for index, row in questions.iterrows():\n",
    "    for tag in row['Tags']:\n",
    "        if tag in tag_view_count:\n",
    "            tag_view_count[tag] += row['ViewCount']\n",
    "        else:\n",
    "            tag_view_count[tag] = row['ViewCount']\n",
    "            \n",
    "tag_view_count = pd.DataFrame.from_dict(tag_view_count, orient=\"index\")\n",
    "tag_view_count.rename(columns={0: \"ViewCount\"}, inplace=True)\n",
    "\n",
    "most_viewed = tag_view_count.sort_values(by=\"ViewCount\").tail(20)\n",
    "\n",
    "most_viewed.plot(kind=\"barh\", figsize=(16,8))"
   ]
  },
  {
   "cell_type": "code",
   "execution_count": null,
   "metadata": {},
   "outputs": [],
   "source": [
    "fig, axes = plt.subplots(nrows=1, ncols=2)\n",
    "fig.set_size_inches((24, 10))\n",
    "most_used.plot(kind=\"barh\", ax=axes[0], subplots=True)\n",
    "most_viewed.plot(kind=\"barh\", ax=axes[1], subplots=True)"
   ]
  },
  {
   "cell_type": "code",
   "execution_count": null,
   "metadata": {},
   "outputs": [],
   "source": [
    "all_tags = list(tag_count.index)"
   ]
  },
  {
   "cell_type": "code",
   "execution_count": null,
   "metadata": {},
   "outputs": [],
   "source": [
    "associations = pd.DataFrame(index=all_tags, columns=all_tags)\n",
    "associations.iloc[0:4,0:4]"
   ]
  },
  {
   "cell_type": "code",
   "execution_count": null,
   "metadata": {},
   "outputs": [],
   "source": [
    "associations.fillna(0, inplace=True)\n",
    "\n",
    "for tags in questions[\"Tags\"]:\n",
    "    associations.loc[tags, tags] += 1"
   ]
  },
  {
   "cell_type": "code",
   "execution_count": null,
   "metadata": {},
   "outputs": [],
   "source": [
    "relations_most_used = associations.loc[most_used.index, most_used.index]\n",
    "\n",
    "def style_cells(x):\n",
    "    helper_df = pd.DataFrame('', index=x.index, columns=x.columns)\n",
    "    helper_df.loc[\"time-series\", \"r\"] = \"background-color: yellow\"\n",
    "    helper_df.loc[\"r\", \"time-series\"] = \"background-color: yellow\"\n",
    "    for k in range(helper_df.shape[0]):\n",
    "        helper_df.iloc[k,k] = \"color: blue\"\n",
    "    \n",
    "    return helper_df\n",
    "\n",
    "relations_most_used.style.apply(style_cells, axis=None)"
   ]
  },
  {
   "cell_type": "code",
   "execution_count": null,
   "metadata": {},
   "outputs": [],
   "source": [
    "\n",
    "for i in range(relations_most_used.shape[0]):\n",
    "    relations_most_used.iloc[i,i] = pd.np.NaN"
   ]
  },
  {
   "cell_type": "code",
   "execution_count": null,
   "metadata": {},
   "outputs": [],
   "source": [
    "\n",
    "plt.figure(figsize=(12,8))\n",
    "sns.heatmap(relations_most_used, cmap=\"Greens\", annot=False)"
   ]
  },
  {
   "cell_type": "code",
   "execution_count": null,
   "metadata": {},
   "outputs": [],
   "source": [
    "all_q = pd.read_csv(\"all_questions.csv\", parse_dates=[\"CreationDate\"])"
   ]
  },
  {
   "cell_type": "code",
   "execution_count": null,
   "metadata": {},
   "outputs": [],
   "source": [
    "all_q[\"Tags\"] = all_q[\"Tags\"].str.replace(\"^<|>$\", \"\").str.split(\"><\")"
   ]
  },
  {
   "cell_type": "code",
   "execution_count": null,
   "metadata": {},
   "outputs": [],
   "source": [
    "def class_deep_learning(tags):\n",
    "    for tag in tags:\n",
    "        if tag in [\"lstm\", \"cnn\", \"scikit-learn\", \"tensorflow\",\n",
    "                   \"keras\", \"neural-network\", \"deep-learning\"]:\n",
    "            return 1\n",
    "    return 0"
   ]
  },
  {
   "cell_type": "code",
   "execution_count": null,
   "metadata": {},
   "outputs": [],
   "source": [
    "all_q[\"DeepLearning\"] = all_q[\"Tags\"].apply(class_deep_learning)"
   ]
  },
  {
   "cell_type": "code",
   "execution_count": null,
   "metadata": {},
   "outputs": [],
   "source": [
    "all_q.sample(5)"
   ]
  },
  {
   "cell_type": "code",
   "execution_count": null,
   "metadata": {},
   "outputs": [],
   "source": [
    "all_q = all_q[all_q[\"CreationDate\"].dt.year < 2020]"
   ]
  },
  {
   "cell_type": "code",
   "execution_count": null,
   "metadata": {},
   "outputs": [],
   "source": [
    "def fetch_quarter(datetime):\n",
    "    year = str(datetime.year)[-2:]\n",
    "    quarter = str(((datetime.month-1) // 3) + 1)\n",
    "    return \"{y}Q{q}\".format(y=year, q=quarter)\n",
    "\n",
    "all_q[\"Quarter\"] = all_q[\"CreationDate\"].apply(fetch_quarter)"
   ]
  },
  {
   "cell_type": "code",
   "execution_count": null,
   "metadata": {},
   "outputs": [],
   "source": [
    "all_q.head()"
   ]
  },
  {
   "cell_type": "code",
   "execution_count": null,
   "metadata": {},
   "outputs": [],
   "source": [
    "quarterly = all_q.groupby('Quarter').agg({\"DeepLearning\": ['sum', 'size']})\n",
    "quarterly.columns = ['DeepLearningQuestions', 'TotalQuestions']\n",
    "quarterly[\"DeepLearningRate\"] = quarterly[\"DeepLearningQuestions\"]\\\n",
    "                                /quarterly[\"TotalQuestions\"]\n",
    "# The following is done to help with visualizations later.\n",
    "quarterly.reset_index(inplace=True)\n",
    "quarterly.sample(5)"
   ]
  },
  {
   "cell_type": "code",
   "execution_count": null,
   "metadata": {},
   "outputs": [],
   "source": [
    "ax1 = quarterly.plot(x=\"Quarter\", y=\"DeepLearningRate\",\n",
    "                    kind=\"line\", linestyle=\"-\", marker=\"o\", color=\"orange\",\n",
    "                    figsize=(24,12)\n",
    "                    )\n",
    "\n",
    "ax2 = quarterly.plot(x=\"Quarter\", y=\"TotalQuestions\",\n",
    "                     kind=\"bar\", ax=ax1, secondary_y=True, alpha=0.7, rot=45)\n",
    "\n",
    "for idx, t in quarterly[\"TotalQuestions\"].iteritems():\n",
    "    ax2.text(idx, t, str(t), ha=\"center\", va=\"bottom\")\n",
    "xlims = ax1.get_xlim()\n",
    "\n",
    "ax1.get_legend().remove()\n",
    "\n",
    "handles1, labels1 = ax1.get_legend_handles_labels()\n",
    "handles2, labels2 = ax2.get_legend_handles_labels()\n",
    "ax1.legend(handles=handles1 + handles2,\n",
    "           labels=labels1 + labels2,\n",
    "           loc=\"upper left\", prop={\"size\": 12})\n",
    "\n",
    "\n",
    "for ax in (ax1, ax2):\n",
    "    for where in (\"top\", \"right\"):\n",
    "        ax.spines[where].set_visible(False)\n",
    "        ax.tick_params(right=False, labelright=False)"
   ]
  }
 ],
 "metadata": {
  "kernelspec": {
   "display_name": "Python 3",
   "language": "python",
   "name": "python3"
  },
  "language_info": {
   "codemirror_mode": {
    "name": "ipython",
    "version": 3
   },
   "file_extension": ".py",
   "mimetype": "text/x-python",
   "name": "python",
   "nbconvert_exporter": "python",
   "pygments_lexer": "ipython3",
   "version": "3.8.3"
  }
 },
 "nbformat": 4,
 "nbformat_minor": 4
}
