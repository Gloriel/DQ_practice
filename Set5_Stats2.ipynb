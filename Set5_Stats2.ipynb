{
 "cells": [
  {
   "cell_type": "code",
   "execution_count": null,
   "metadata": {},
   "outputs": [],
   "source": [
    "distribution = [0,2,3,3,3,4,13]\n",
    "mean = sum(distribution) / len(distribution)\n",
    "center = False\n",
    "\n",
    "above = []\n",
    "below = []\n",
    "\n",
    "for value in distribution:\n",
    "    if value < mean:\n",
    "        below.append(mean - value)\n",
    "    if value > mean:\n",
    "        above.append(value - mean)\n",
    "        \n",
    "equal_distances = (sum(above) == sum(below))"
   ]
  },
  {
   "cell_type": "code",
   "execution_count": null,
   "metadata": {},
   "outputs": [],
   "source": [
    "from numpy.random import randint, seed\n",
    "equal_distances = 0\n",
    "\n",
    "for i in range(5000):\n",
    "    seed(i)\n",
    "    distribution = randint(0,1000,10)\n",
    "    mean = sum(distribution) / len(distribution)\n",
    "    \n",
    "    above = []\n",
    "    below = []\n",
    "    for value in distribution:\n",
    "        if value == mean:\n",
    "            continue # continue with the next iteration because the distance is 0\n",
    "        if value < mean:\n",
    "            below.append(mean - value)\n",
    "        if value > mean:\n",
    "            above.append(value - mean)\n",
    "    \n",
    "    sum_above = round(sum(above),1)\n",
    "    sum_below = round(sum(below),1)\n",
    "    if (sum_above == sum_below):\n",
    "        equal_distances += 1"
   ]
  },
  {
   "cell_type": "code",
   "execution_count": null,
   "metadata": {},
   "outputs": [],
   "source": [
    "distribution_1 = [42, 24, 32, 11]\n",
    "distribution_2 = [102, 32, 74, 15, 38, 45, 22]\n",
    "distribution_3 = [3, 12, 7, 2, 15, 1, 21]\n",
    "def mean(distribution):\n",
    "    sum_distribution = 0\n",
    "    for value in distribution:\n",
    "        sum_distribution += value\n",
    "        \n",
    "    return sum_distribution / len(distribution)\n",
    "\n",
    "mean_1 = mean(distribution_1)\n",
    "mean_2 = mean(distribution_2)\n",
    "mean_3 = mean(distribution_3)"
   ]
  },
  {
   "cell_type": "code",
   "execution_count": null,
   "metadata": {},
   "outputs": [],
   "source": [
    "import pandas as pd\n",
    "\n",
    "houses = pd.read_table('AmesHousing_1.txt')"
   ]
  },
  {
   "cell_type": "code",
   "execution_count": null,
   "metadata": {},
   "outputs": [],
   "source": [
    "def mean(distribution):\n",
    "    sum_distribution = 0\n",
    "    for value in distribution:\n",
    "        sum_distribution += value\n",
    "        \n",
    "    return sum_distribution / len(distribution)\n",
    "function_mean = mean(houses['SalePrice'])\n",
    "pandas_mean = houses['SalePrice'].mean()\n",
    "means_are_equal = (function_mean == pandas_mean)"
   ]
  },
  {
   "cell_type": "code",
   "execution_count": null,
   "metadata": {},
   "outputs": [],
   "source": [
    "parameter = houses['SalePrice'].mean()\n",
    "sample_size = 5\n",
    "\n",
    "sample_sizes = []\n",
    "sampling_errors = []\n",
    "\n",
    "for i in range(101):\n",
    "    sample = houses['SalePrice'].sample(sample_size , random_state = i)\n",
    "    statistic = sample.mean()\n",
    "    sampling_error = parameter - statistic\n",
    "    sampling_errors.append(sampling_error)\n",
    "    sample_sizes.append(sample_size)\n",
    "    sample_size += 29\n",
    "    \n",
    "import matplotlib.pyplot as plt\n",
    "plt.scatter(sample_sizes, sampling_errors)\n",
    "plt.axhline(0)\n",
    "plt.axvline(2930)\n",
    "plt.xlabel('Sample size')\n",
    "plt.ylabel('Sampling error')"
   ]
  },
  {
   "cell_type": "code",
   "execution_count": null,
   "metadata": {},
   "outputs": [],
   "source": [
    "means = []\n",
    "\n",
    "for i in range(10000):\n",
    "    sample = houses['SalePrice'].sample(100, random_state=i)\n",
    "    means.append(sample.mean())\n",
    "    \n",
    "plt.hist(means)\n",
    "plt.axvline(houses['SalePrice'].mean())\n",
    "plt.xlabel('Sample mean')\n",
    "plt.ylabel('Frequency')\n",
    "plt.xlim(0,500000)"
   ]
  },
  {
   "cell_type": "code",
   "execution_count": null,
   "metadata": {},
   "outputs": [],
   "source": [
    "population = [3, 7, 2]\n",
    "samples = [[3, 7], [3, 2],\n",
    "           [7, 2], [7, 3],\n",
    "           [2, 3], [2, 7]\n",
    "          ]\n",
    "\n",
    "sample_means = []\n",
    "for sample in samples:\n",
    "    sample_means.append(sum(sample) / len(sample))\n",
    "    \n",
    "population_mean = sum(population) / len(population)\n",
    "mean_of_sample_means = sum(sample_means) / len(sample_means)\n",
    "\n",
    "unbiased = (population_mean == mean_of_sample_means)"
   ]
  },
  {
   "cell_type": "code",
   "execution_count": null,
   "metadata": {},
   "outputs": [],
   "source": [
    "houses_per_year = houses['SalePrice'].mean()"
   ]
  },
  {
   "cell_type": "code",
   "execution_count": null,
   "metadata": {},
   "outputs": [],
   "source": [
    "mean_new = houses_per_year['Mean Price'].mean()\n",
    "mean_original = houses['SalePrice'].mean()\n",
    "difference = mean_original - mean_new"
   ]
  },
  {
   "cell_type": "code",
   "execution_count": null,
   "metadata": {},
   "outputs": [],
   "source": [
    "houses_per_year['sum_per_year'] = houses_per_year['Mean Price'] * houses_per_year['Houses Sold']\n",
    "all_sums_together = houses_per_year['sum_per_year'].sum()\n",
    "total_n_houses = houses_per_year['Houses Sold'].sum()\n",
    "weighted_mean = all_sums_together / total_n_houses\n",
    "\n",
    "mean_original = houses['SalePrice'].mean()\n",
    "\n",
    "difference = round(mean_original, 10) - round(weighted_mean, 10)"
   ]
  },
  {
   "cell_type": "code",
   "execution_count": null,
   "metadata": {},
   "outputs": [],
   "source": [
    "def weighted_mean(distribution, weights):\n",
    "    weighted_sum = []\n",
    "    for mean, weight in zip(distribution, weights):\n",
    "        weighted_sum.append(mean * weight)\n",
    "    \n",
    "    return sum(weighted_sum) / sum(weights)\n",
    "\n",
    "weighted_mean_function = weighted_mean(houses_per_year['Mean Price'],\n",
    "                                       houses_per_year['Houses Sold'])\n",
    "\n",
    "from numpy import average\n",
    "weighted_mean_numpy = average(houses_per_year['Mean Price'],\n",
    "        weights = houses_per_year['Houses Sold'])\n",
    "\n",
    "equal = round(weighted_mean_function, 10) == round(weighted_mean_numpy, 10)"
   ]
  },
  {
   "cell_type": "code",
   "execution_count": null,
   "metadata": {},
   "outputs": [],
   "source": [
    "# Sort the values\n",
    "rooms = houses['TotRms AbvGrd'].copy()\n",
    "rooms = rooms.replace({'10 or more': 10})\n",
    "rooms = rooms.astype(int)\n",
    "rooms_sorted = rooms.sort_values()\n",
    "\n",
    "# Find the median\n",
    "middle_indices = [int((len(rooms_sorted) / 2) - 1),\n",
    "                  int((len(rooms_sorted) / 2))\n",
    "                 ] # len - 1 and len because Series use 0-indexing \n",
    "middle_values = rooms_sorted.iloc[middle_indices] # make sure you don't use loc[]\n",
    "median = middle_values.mean()"
   ]
  },
  {
   "cell_type": "code",
   "execution_count": null,
   "metadata": {},
   "outputs": [],
   "source": [
    "import matplotlib.pyplot as plt\n",
    "\n",
    "houses['Lot Area'].plot.box()\n",
    "plt.show()\n",
    "houses['SalePrice'].plot.box()\n",
    "plt.show()\n",
    "\n",
    "lotarea_difference = houses['Lot Area'].mean() - houses['Lot Area'].median()\n",
    "saleprice_difference = houses['SalePrice'].mean() - houses['SalePrice'].median()"
   ]
  },
  {
   "cell_type": "code",
   "execution_count": null,
   "metadata": {},
   "outputs": [],
   "source": [
    "mean = houses['Overall Cond'].mean()\n",
    "median = houses['Overall Cond'].median()\n",
    "\n",
    "houses['Overall Cond'].plot.hist()\n",
    "more_representative = 'mean' \n",
    "\n",
    "'''\n",
    "The mean seems more representative and more informative because it captures the\n",
    "fact that there are more houses rated above 5 than rated under 5. Because of this,\n",
    "the mean is slightly shifted above 5. \n",
    "'''"
   ]
  },
  {
   "cell_type": "code",
   "execution_count": null,
   "metadata": {},
   "outputs": [],
   "source": [
    "import pandas as pd\n",
    "houses = pd.read_table('AmesHousing_1.txt')\n",
    "\n",
    "scale_land = 'ordinal'\n",
    "scale_roof = 'nominal'\n",
    "kitchen_variable = 'discrete'"
   ]
  },
  {
   "cell_type": "code",
   "execution_count": null,
   "metadata": {},
   "outputs": [],
   "source": [
    "def mode(array):\n",
    "    counts = {}\n",
    "    \n",
    "    for value in array:\n",
    "        if value in counts:\n",
    "            counts[value] += 1\n",
    "        else:\n",
    "            counts[value] = 1\n",
    "    \n",
    "    return max(counts, key = counts.get)\n",
    "\n",
    "mode_function = mode(houses['Land Slope'])\n",
    "mode_method = houses['Land Slope'].mode()\n",
    "same = (mode_function == mode_method)"
   ]
  },
  {
   "cell_type": "code",
   "execution_count": null,
   "metadata": {},
   "outputs": [],
   "source": [
    "# The function we wrote (you can copy-paste yours from the previous screen)\n",
    "def mode(array):\n",
    "    counts = {}\n",
    "    \n",
    "    for value in array:\n",
    "        if value in counts:\n",
    "            counts[value] += 1\n",
    "        else:\n",
    "            counts[value] = 1\n",
    "    \n",
    "    return max(counts, key = counts.get)\n",
    "def mode(array):\n",
    "    counts = {}\n",
    "    \n",
    "    for value in array:\n",
    "        if value in counts:\n",
    "            counts[value] += 1\n",
    "        else:\n",
    "            counts[value] = 1\n",
    "    \n",
    "    return (max(counts, key = counts.get),\n",
    "            counts\n",
    "           )\n",
    "\n",
    "mode, value_counts = mode(houses['Roof Style'])"
   ]
  },
  {
   "cell_type": "code",
   "execution_count": null,
   "metadata": {},
   "outputs": [],
   "source": [
    "bedroom_variable = 'discrete'\n",
    "bedroom_mode = houses['Bedroom AbvGr'].mode()\n",
    "\n",
    "price_variable = 'continuous'"
   ]
  },
  {
   "cell_type": "code",
   "execution_count": null,
   "metadata": {},
   "outputs": [],
   "source": [
    "intervals = pd.interval_range(start = 0, end = 800000, freq = 100000)\n",
    "gr_freq_table = pd.Series([0,0,0,0,0,0,0,0], index = intervals)\n",
    "\n",
    "for value in houses['SalePrice']:\n",
    "    for interval in intervals:\n",
    "        if value in interval:\n",
    "            gr_freq_table.loc[interval] += 1\n",
    "            break\n",
    "\n",
    "print(gr_freq_table)\n",
    "mode = 150000\n",
    "mean = houses['SalePrice'].mean()\n",
    "median = houses['SalePrice'].median()\n",
    "\n",
    "sentence_1 = True\n",
    "sentence_2 = True"
   ]
  },
  {
   "cell_type": "code",
   "execution_count": null,
   "metadata": {},
   "outputs": [],
   "source": [
    "distribution_1 = {'mean': 3021 , 'median': 3001, 'mode': 2947}\n",
    "distribution_2 = {'median': 924 , 'mode': 832, 'mean': 962}\n",
    "distribution_3 = {'mode': 202, 'mean': 143, 'median': 199}\n",
    "shape_1 = 'right skew'\n",
    "shape_2 = 'right skew'\n",
    "shape_3 = 'left skew'"
   ]
  },
  {
   "cell_type": "code",
   "execution_count": null,
   "metadata": {},
   "outputs": [],
   "source": [
    "houses['Mo Sold'].plot.kde(xlim = [1,12])\n",
    "\n",
    "import matplotlib.pyplot as plt\n",
    "plt.axvline(houses['Mo Sold'].mode()[0], color = 'Green', label = 'Mode')\n",
    "plt.axvline(houses['Mo Sold'].median(), color = 'Orange', label = 'Median')\n",
    "plt.axvline(houses['Mo Sold'].mean(), color = 'Black', label = 'Mean')\n",
    "plt.legend()"
   ]
  },
  {
   "cell_type": "code",
   "execution_count": null,
   "metadata": {},
   "outputs": [],
   "source": [
    "import pandas as pd\n",
    "houses = pd.read_table('AmesHousing_1.txt')\n",
    "def find_range(array):\n",
    "    return max(array) - min(array)\n",
    "\n",
    "range_by_year = {}\n",
    "for year in houses['Yr Sold'].unique():\n",
    "    data_by_year = houses[houses['Yr Sold'] == year]\n",
    "    range_by_year[year] = find_range(data_by_year['SalePrice'])\n",
    "    \n",
    "one = False\n",
    "two = True"
   ]
  },
  {
   "cell_type": "code",
   "execution_count": null,
   "metadata": {},
   "outputs": [],
   "source": [
    "C = [1,1,1,1,1,1,1,1,1,21]\n",
    "def average_distance(array):\n",
    "    reference_point = sum(array) / len(array)\n",
    "    \n",
    "    distances = []\n",
    "    for value in array:\n",
    "        distances.append(value - reference_point)\n",
    "        \n",
    "    return sum(distances) / len(distances)\n",
    "\n",
    "avg_distance = average_distance(C)"
   ]
  },
  {
   "cell_type": "code",
   "execution_count": null,
   "metadata": {},
   "outputs": [],
   "source": [
    "C = [1,1,1,1,1,1,1,1,1,21]\n",
    "def mean_absolute_deviation(array):\n",
    "    reference_point = sum(array) / len(array)\n",
    "    \n",
    "    distances = []\n",
    "    for value in array:\n",
    "        absolute_distance = abs(value - reference_point)\n",
    "        distances.append(absolute_distance)\n",
    "        \n",
    "    return sum(distances) / len(distances)\n",
    "\n",
    "mad = mean_absolute_deviation(C)"
   ]
  },
  {
   "cell_type": "code",
   "execution_count": null,
   "metadata": {},
   "outputs": [],
   "source": [
    "C = [1,1,1,1,1,1,1,1,1,21]\n",
    "def variance(array):\n",
    "    reference_point = sum(array) / len(array)\n",
    "    \n",
    "    distances = []\n",
    "    for value in array:\n",
    "        squared_distance = (value - reference_point)**2\n",
    "        distances.append(squared_distance)\n",
    "        \n",
    "    return sum(distances) / len(distances)\n",
    "\n",
    "variance_C = variance(C)"
   ]
  },
  {
   "cell_type": "code",
   "execution_count": null,
   "metadata": {},
   "outputs": [],
   "source": [
    "from math import sqrt\n",
    "C = [1,1,1,1,1,1,1,1,1,21]\n",
    "def standard_deviation(array):\n",
    "    reference_point = sum(array) / len(array)\n",
    "    \n",
    "    distances = []\n",
    "    for value in array:\n",
    "        squared_distance = (value - reference_point)**2\n",
    "        distances.append(squared_distance)\n",
    "        \n",
    "    variance = sum(distances) / len(distances)\n",
    "    \n",
    "    return sqrt(variance)\n",
    "\n",
    "standard_deviation_C = standard_deviation(C)"
   ]
  },
  {
   "cell_type": "code",
   "execution_count": null,
   "metadata": {},
   "outputs": [],
   "source": [
    "def standard_deviation(array):\n",
    "    reference_point = sum(array) / len(array)\n",
    "    \n",
    "    distances = []\n",
    "    for value in array:\n",
    "        squared_distance = (value - reference_point)**2\n",
    "        distances.append(squared_distance)\n",
    "        \n",
    "    variance = sum(distances) / len(distances)\n",
    "    \n",
    "    return sqrt(variance)\n",
    "# Measure first the variability for each year\n",
    "years = {}\n",
    "\n",
    "for year in houses['Yr Sold'].unique():\n",
    "    year_segment = houses[houses['Yr Sold'] == year]\n",
    "    st_dev = standard_deviation(year_segment['SalePrice'])\n",
    "    years[year] = st_dev\n",
    "\n",
    "# Get years of max and min variability\n",
    "greatest_variability = max(years, key = years.get) # outputs directly the year with the maximum variability\n",
    "lowest_variability = min(years, key = years.get) # outputs directly the year with the minimum variability"
   ]
  },
  {
   "cell_type": "code",
   "execution_count": null,
   "metadata": {},
   "outputs": [],
   "source": [
    "sample1 = houses['Year Built'].sample(50, random_state = 1)\n",
    "sample2 = houses['Year Built'].sample(50, random_state = 2)\n",
    "\n",
    "def standard_deviation(array):\n",
    "    reference_point = sum(array) / len(array)\n",
    "    \n",
    "    distances = []\n",
    "    for value in array:\n",
    "        squared_distance = (value - reference_point)**2\n",
    "        distances.append(squared_distance)\n",
    "    \n",
    "    variance = sum(distances) / len(distances)\n",
    "    \n",
    "    return sqrt(variance)\n",
    "bigger_spread = 'sample 2'\n",
    "st_dev1 = standard_deviation(sample1)\n",
    "st_dev2 = standard_deviation(sample2)"
   ]
  },
  {
   "cell_type": "code",
   "execution_count": null,
   "metadata": {},
   "outputs": [],
   "source": [
    "def standard_deviation(array):\n",
    "    reference_point = sum(array) / len(array)\n",
    "    \n",
    "    distances = []\n",
    "    for value in array:\n",
    "        squared_distance = (value - reference_point)**2\n",
    "        distances.append(squared_distance)\n",
    "    \n",
    "    variance = sum(distances) / len(distances)\n",
    "    \n",
    "    return sqrt(variance)\n",
    "\n",
    "import matplotlib.pyplot as plt\n",
    "st_devs = []\n",
    "\n",
    "for i in range(5000):\n",
    "    sample = houses['SalePrice'].sample(10, random_state = i)\n",
    "    st_dev = standard_deviation(sample)\n",
    "    st_devs.append(st_dev)\n",
    "    \n",
    "plt.hist(st_devs)\n",
    "plt.axvline(standard_deviation(houses['SalePrice']))"
   ]
  },
  {
   "cell_type": "code",
   "execution_count": null,
   "metadata": {},
   "outputs": [],
   "source": [
    "from math import sqrt\n",
    "def standard_deviation(array):\n",
    "    reference_point = sum(array) / len(array)\n",
    "    \n",
    "    distances = []\n",
    "    for value in array:\n",
    "        squared_distance = (value - reference_point)**2\n",
    "        distances.append(squared_distance)\n",
    "    \n",
    "    variance = sum(distances) / len(distances)\n",
    "    \n",
    "    return sqrt(variance)\n",
    "\n",
    "import matplotlib.pyplot as plt\n",
    "st_devs = []\n",
    "\n",
    "for i in range(5000):\n",
    "    sample = houses['SalePrice'].sample(10, random_state = i)\n",
    "    st_dev = standard_deviation(sample)\n",
    "    st_devs.append(st_dev)\n",
    "\n",
    "#plt.hist(st_devs)\n",
    "#plt.axvline(pop_stdev)  # pop_stdev is pre-saved from the last screen\n",
    "from math import sqrt\n",
    "\n",
    "def standard_deviation(array):\n",
    "    reference_point = sum(array) / len(array)\n",
    "    \n",
    "    distances = []\n",
    "    for value in array:\n",
    "        squared_distance = (value - reference_point)**2\n",
    "        distances.append(squared_distance)\n",
    "    \n",
    "    variance = sum(distances) / (len(distances) - 1)\n",
    "    \n",
    "    return sqrt(variance)\n",
    "\n",
    "import matplotlib.pyplot as plt\n",
    "st_devs = []\n",
    "\n",
    "for i in range(5000):\n",
    "    sample = houses['SalePrice'].sample(10, random_state = i)\n",
    "    st_dev = standard_deviation(sample)\n",
    "    st_devs.append(st_dev)\n",
    "    \n",
    "plt.hist(st_devs)\n",
    "plt.axvline(pop_stdev)"
   ]
  },
  {
   "cell_type": "code",
   "execution_count": null,
   "metadata": {},
   "outputs": [],
   "source": [
    "sample = houses.sample(100, random_state = 1)\n",
    "from numpy import std, var\n",
    "pandas_stdev = sample['SalePrice'].std(ddof = 1) # default ddof = 1\n",
    "numpy_stdev = std(sample['SalePrice'], ddof = 1) # default ddof = 0\n",
    "equal_stdevs = pandas_stdev == numpy_stdev\n",
    "\n",
    "pandas_var = sample['SalePrice'].var(ddof = 1) # default ddof = 1\n",
    "numpy_var = var(sample['SalePrice'], ddof = 1) #default ddof = 0\n",
    "equal_vars = pandas_var == numpy_var"
   ]
  },
  {
   "cell_type": "code",
   "execution_count": null,
   "metadata": {},
   "outputs": [],
   "source": [
    "population = [0, 3, 6]\n",
    "\n",
    "samples = [[0,3], [0,6],\n",
    "           [3,0], [3,6],\n",
    "           [6,0], [6,3]\n",
    "          ]\n",
    "from numpy import var, std\n",
    "\n",
    "pop_var = var(population, ddof = 0)\n",
    "pop_std = std(population, ddof = 0)\n",
    "\n",
    "st_devs = []\n",
    "variances = []\n",
    "\n",
    "for sample in samples:\n",
    "    st_devs.append(std(sample, ddof = 1))\n",
    "    variances.append(var(sample, ddof = 1))\n",
    "    \n",
    "mean_std = sum(st_devs) / len(st_devs)\n",
    "mean_var = sum(variances) / len(variances)\n",
    "\n",
    "equal_stdev = pop_std == mean_std\n",
    "equal_var = pop_var == mean_var"
   ]
  },
  {
   "cell_type": "code",
   "execution_count": null,
   "metadata": {},
   "outputs": [],
   "source": [
    "import pandas as pd\n",
    "houses = pd.read_table('AmesHousing_1.txt')\n",
    "import matplotlib.pyplot as plt\n",
    "houses['SalePrice'].plot.kde(xlim = (houses['SalePrice'].min(),\n",
    "                                    houses['SalePrice'].max()\n",
    "                                    )\n",
    "                            )\n",
    "\n",
    "st_dev = houses['SalePrice'].std(ddof = 0)\n",
    "mean = houses['SalePrice'].mean()\n",
    "plt.axvline(mean, color = 'Black', label = 'Mean')\n",
    "plt.axvline(mean + st_dev, color = 'Red', label = 'Standard deviation')\n",
    "plt.axvline(220000, color = 'Orange', label = '220000')\n",
    "plt.legend()\n",
    "\n",
    "very_expensive = False"
   ]
  },
  {
   "cell_type": "code",
   "execution_count": null,
   "metadata": {},
   "outputs": [],
   "source": [
    "distance = 220000 - houses['SalePrice'].mean()\n",
    "st_devs_away = distance / houses['SalePrice'].std(ddof = 0)"
   ]
  },
  {
   "cell_type": "code",
   "execution_count": null,
   "metadata": {},
   "outputs": [],
   "source": [
    "min_val = houses['SalePrice'].min()\n",
    "mean_val = houses['SalePrice'].mean()\n",
    "max_val = houses['SalePrice'].max()\n",
    "def z_score(value, array, bessel = 0):\n",
    "    mean = sum(array) / len(array)\n",
    "    \n",
    "    from numpy import std\n",
    "    st_dev = std(array, ddof = bessel)\n",
    "    \n",
    "    distance = value - mean\n",
    "    z = distance / st_dev\n",
    "    \n",
    "    return z\n",
    "\n",
    "min_z = z_score(min_val, houses['SalePrice'])\n",
    "mean_z = z_score(mean_val, houses['SalePrice'])\n",
    "max_z = z_score(max_val, houses['SalePrice'])"
   ]
  },
  {
   "cell_type": "code",
   "execution_count": null,
   "metadata": {},
   "outputs": [],
   "source": [
    "def z_score(value, array, bessel = 0):\n",
    "    mean = sum(array) / len(array)\n",
    "    \n",
    "    from numpy import std\n",
    "    st_dev = std(array, ddof = bessel)\n",
    "    \n",
    "    distance = value - mean\n",
    "    z = distance / st_dev\n",
    "    \n",
    "    return z\n",
    "# Segment the data by location\n",
    "north_ames = houses[houses['Neighborhood'] == 'NAmes']\n",
    "clg_creek = houses[houses['Neighborhood'] == 'CollgCr']\n",
    "old_town = houses[houses['Neighborhood'] == 'OldTown']\n",
    "edwards = houses[houses['Neighborhood'] == 'Edwards']\n",
    "somerset = houses[houses['Neighborhood'] == 'Somerst']\n",
    "\n",
    "# Find the z-score for 200000 for every location\n",
    "z_by_location = {}\n",
    "for data, neighborhood in [(north_ames, 'NAmes'), (clg_creek, 'CollgCr'),\n",
    "                     (old_town, 'OldTown'), (edwards, 'Edwards'),\n",
    "                     (somerset, 'Somerst')]:\n",
    "    \n",
    "    z_by_location[neighborhood] = z_score(200000, data['SalePrice'],\n",
    "                                          bessel = 0)\n",
    "\n",
    "# Find the location with the z-score closest to 0\n",
    "print(z_by_location)\n",
    "best_investment = 'College Creek'"
   ]
  },
  {
   "cell_type": "code",
   "execution_count": null,
   "metadata": {},
   "outputs": [],
   "source": [
    "mean = houses['SalePrice'].mean()\n",
    "st_dev = houses['SalePrice'].std(ddof = 0)\n",
    "houses['z_prices'] = houses['SalePrice'].apply(\n",
    "    lambda x: ((x - mean) / st_dev)\n",
    "    )\n",
    "z_mean_price = houses['z_prices'].mean()\n",
    "z_stdev_price = houses['z_prices'].std(ddof = 0)\n",
    "\n",
    "# Transforming 'Lot Area'\n",
    "mean_area = houses['Lot Area'].mean()\n",
    "stdev_area = houses['Lot Area'].std(ddof = 0)\n",
    "houses['z_area'] = houses['Lot Area'].apply(\n",
    "    lambda x: ((x - mean_area) / stdev_area)\n",
    "    )\n",
    "\n",
    "z_mean_area = houses['z_area'].mean()\n",
    "z_stdev_area = houses['z_area'].std(ddof = 0)"
   ]
  },
  {
   "cell_type": "code",
   "execution_count": null,
   "metadata": {},
   "outputs": [],
   "source": [
    "from numpy import std, mean\n",
    "population = [0,8,0,8]\n",
    "mean_pop = mean(population)\n",
    "stdev_pop = std(population, ddof = 0)\n",
    "\n",
    "standardized_pop = []\n",
    "for value in population:\n",
    "    z = (value - mean_pop) / stdev_pop\n",
    "    standardized_pop.append(z)\n",
    "    \n",
    "mean_z = mean(standardized_pop)\n",
    "stdev_z = std(standardized_pop, ddof = 0)"
   ]
  },
  {
   "cell_type": "code",
   "execution_count": null,
   "metadata": {},
   "outputs": [],
   "source": [
    "from numpy import std, mean\n",
    "sample = [0,8,0,8]\n",
    "\n",
    "x_bar = mean(sample)\n",
    "s = std(sample, ddof = 1)\n",
    "\n",
    "standardized_sample = []\n",
    "for value in sample:\n",
    "    z = (value - x_bar) / s\n",
    "    standardized_sample.append(z)\n",
    "stdev_sample = std(standardized_sample, ddof = 1)"
   ]
  },
  {
   "cell_type": "code",
   "execution_count": null,
   "metadata": {},
   "outputs": [],
   "source": [
    "mean_index1 = houses['index_1'].mean()\n",
    "stdev_index1 = houses['index_1'].std(ddof = 0)\n",
    "houses['z_1'] = houses['index_1'].apply(lambda x: \n",
    "                                      (x - mean_index1) / stdev_index1\n",
    "                                     )\n",
    "\n",
    "mean_index2 = houses['index_2'].mean()\n",
    "stdev_index2 = houses['index_2'].std(ddof = 0)\n",
    "houses['z_2'] = houses['index_2'].apply(lambda x: \n",
    "                                      (x - mean_index2) / stdev_index2\n",
    "                                     )\n",
    "\n",
    "print(houses[['z_1', 'z_2']].head(2))\n",
    "better = 'first'"
   ]
  },
  {
   "cell_type": "code",
   "execution_count": null,
   "metadata": {},
   "outputs": [],
   "source": [
    "mean = 50\n",
    "st_dev = 10\n",
    "houses['transformed'] = houses['z_merged'].apply(\n",
    "                                lambda z: (z * st_dev + mean)\n",
    "                                )\n",
    "mean_transformed = houses['transformed'].mean()\n",
    "stdev_transformed = houses['transformed'].std(ddof = 0)"
   ]
  },
  {
   "cell_type": "code",
   "execution_count": null,
   "metadata": {},
   "outputs": [],
   "source": [
    "# Read in the data\n",
    "import pandas as pd\n",
    "fcc = pd.read_csv(\"2017-fCC-New-Coders-Survey-Data.csv\", low_memory = 0) # low_memory = False to silence dtypes warning\n",
    "\n",
    "# Quick exploration of the data\n",
    "print(fcc.shape)\n",
    "pd.options.display.max_columns = 150 # to avoid truncated output \n",
    "fcc.head()"
   ]
  },
  {
   "cell_type": "code",
   "execution_count": null,
   "metadata": {},
   "outputs": [],
   "source": [
    "# Frequency distribution table for 'JobRoleInterest'\n",
    "fcc['JobRoleInterest'].value_counts(normalize = True) * 100"
   ]
  },
  {
   "cell_type": "code",
   "execution_count": null,
   "metadata": {},
   "outputs": [],
   "source": [
    "# Split each string in the 'JobRoleInterest' column\n",
    "interests_no_nulls = fcc['JobRoleInterest'].dropna()\n",
    "splitted_interests = interests_no_nulls.str.split(',')\n",
    "\n",
    "# Frequency table for the var describing the number of options\n",
    "n_of_options = splitted_interests.apply(lambda x: len(x)) # x is a list of job options\n",
    "n_of_options.value_counts(normalize = True).sort_index() * 100"
   ]
  },
  {
   "cell_type": "code",
   "execution_count": null,
   "metadata": {},
   "outputs": [],
   "source": [
    "# Frequency table\n",
    "web_or_mobile = interests_no_nulls.str.contains(\n",
    "    'Web Developer|Mobile Developer') # returns an array of booleans\n",
    "freq_table = web_or_mobile.value_counts(normalize = True) * 100\n",
    "print(freq_table)\n",
    "\n",
    "# Graph for the frequency table above\n",
    "%matplotlib inline\n",
    "import matplotlib.pyplot as plt\n",
    "plt.style.use('fivethirtyeight')\n",
    "\n",
    "freq_table.plot.bar()\n",
    "plt.title('Most Participants are Interested in \\nWeb or Mobile Development',\n",
    "          y = 1.08) # y pads the title upward\n",
    "plt.ylabel('Percentage', fontsize = 12)\n",
    "plt.xticks([0,1],['Web or mobile\\ndevelopment', 'Other subject'],\n",
    "           rotation = 0) # the initial xtick labels were True and False\n",
    "plt.ylim([0,100])\n",
    "plt.show()"
   ]
  },
  {
   "cell_type": "code",
   "execution_count": null,
   "metadata": {},
   "outputs": [],
   "source": [
    "# Isolate the participants that answered what role they'd be interested in\n",
    "fcc_good = fcc[fcc['JobRoleInterest'].notnull()].copy()\n",
    "\n",
    "# Frequency tables with absolute and relative frequencies\n",
    "absolute_frequencies = fcc_good['CountryLive'].value_counts()\n",
    "relative_frequencies = fcc_good['CountryLive'].value_counts(normalize = True) * 100\n",
    "\n",
    "# Display the frequency tables in a more readable format\n",
    "pd.DataFrame(data = {'Absolute frequency': absolute_frequencies, \n",
    "                     'Percentage': relative_frequencies}\n",
    "            )"
   ]
  },
  {
   "cell_type": "code",
   "execution_count": null,
   "metadata": {},
   "outputs": [],
   "source": [
    "# Replace 0s with 1s to avoid division by 0\n",
    "fcc_good['MonthsProgramming'].replace(0,1, inplace = True)\n",
    "\n",
    "# New column for the amount of money each student spends each month\n",
    "fcc_good['money_per_month'] = fcc_good['MoneyForLearning'] / fcc_good['MonthsProgramming']\n",
    "fcc_good['money_per_month'].isnull().sum()"
   ]
  },
  {
   "cell_type": "code",
   "execution_count": null,
   "metadata": {},
   "outputs": [],
   "source": [
    "# Keep only the rows with non-nulls in the `money_per_month` column \n",
    "fcc_good = fcc_good[fcc_good['money_per_month'].notnull()]"
   ]
  },
  {
   "cell_type": "code",
   "execution_count": null,
   "metadata": {},
   "outputs": [],
   "source": [
    "\n",
    "# Remove the rows with null values in 'CountryLive'\n",
    "fcc_good = fcc_good[fcc_good['CountryLive'].notnull()]\n",
    "\n",
    "# Frequency table to check if we still have enough data\n",
    "fcc_good['CountryLive'].value_counts().head()"
   ]
  },
  {
   "cell_type": "code",
   "execution_count": null,
   "metadata": {},
   "outputs": [],
   "source": [
    "# Mean sum of money spent by students each month\n",
    "countries_mean = fcc_good.groupby('CountryLive').mean()\n",
    "countries_mean['money_per_month'][['United States of America',\n",
    "                            'India', 'United Kingdom',\n",
    "                            'Canada']]"
   ]
  },
  {
   "cell_type": "code",
   "execution_count": null,
   "metadata": {},
   "outputs": [],
   "source": [
    "# Isolate only the countries of interest\n",
    "only_4 = fcc_good[fcc_good['CountryLive'].str.contains(\n",
    "    'United States of America|India|United Kingdom|Canada')]\n",
    "\n",
    "# Box plots to visualize distributions\n",
    "import seaborn as sns\n",
    "sns.boxplot(y = 'money_per_month', x = 'CountryLive',\n",
    "            data = only_4)\n",
    "plt.title('Money Spent Per Month Per Country\\n(Distributions)',\n",
    "         fontsize = 16)\n",
    "plt.ylabel('Money per month (US dollars)')\n",
    "plt.xlabel('Country')\n",
    "plt.xticks(range(4), ['US', 'UK', 'India', 'Canada']) # avoids tick labels overlap\n",
    "plt.show()"
   ]
  },
  {
   "cell_type": "code",
   "execution_count": null,
   "metadata": {},
   "outputs": [],
   "source": [
    "# Isolate only those participants who spend less than 10000 per month\n",
    "fcc_good = fcc_good[fcc_good['money_per_month'] < 20000]"
   ]
  },
  {
   "cell_type": "code",
   "execution_count": null,
   "metadata": {},
   "outputs": [],
   "source": [
    "# Recompute mean sum of money spent by students each month\n",
    "countries_mean = fcc_good.groupby('CountryLive').mean()\n",
    "countries_mean['money_per_month'][['United States of America',\n",
    "                            'India', 'United Kingdom',\n",
    "                            'Canada']]"
   ]
  },
  {
   "cell_type": "code",
   "execution_count": null,
   "metadata": {},
   "outputs": [],
   "source": [
    "# Isolate again the countries of interest\n",
    "only_4 = fcc_good[fcc_good['CountryLive'].str.contains(\n",
    "    'United States of America|India|United Kingdom|Canada')]\n",
    "\n",
    "# Box plots to visualize distributions\n",
    "sns.boxplot(y = 'money_per_month', x = 'CountryLive',\n",
    "            data = only_4)\n",
    "plt.title('Money Spent Per Month Per Country\\n(Distributions)',\n",
    "         fontsize = 16)\n",
    "plt.ylabel('Money per month (US dollars)')\n",
    "plt.xlabel('Country')\n",
    "plt.xticks(range(4), ['US', 'UK', 'India', 'Canada']) # avoids tick labels overlap\n",
    "plt.show()"
   ]
  },
  {
   "cell_type": "code",
   "execution_count": null,
   "metadata": {},
   "outputs": [],
   "source": [
    "# Inspect the extreme outliers for India\n",
    "india_outliers = only_4[\n",
    "    (only_4['CountryLive'] == 'India') & \n",
    "    (only_4['money_per_month'] >= 2500)]\n",
    "india_outliers"
   ]
  },
  {
   "cell_type": "code",
   "execution_count": null,
   "metadata": {},
   "outputs": [],
   "source": [
    "# Remove the outliers for India\n",
    "only_4 = only_4.drop(india_outliers.index) # using the row labels"
   ]
  },
  {
   "cell_type": "code",
   "execution_count": null,
   "metadata": {},
   "outputs": [],
   "source": [
    "# Examine the extreme outliers for the US\n",
    "us_outliers = only_4[\n",
    "    (only_4['CountryLive'] == 'United States of America') & \n",
    "    (only_4['money_per_month'] >= 6000)]\n",
    "\n",
    "us_outliers"
   ]
  },
  {
   "cell_type": "code",
   "execution_count": null,
   "metadata": {},
   "outputs": [],
   "source": [
    "# Remove the respondents who didn't attendent a bootcamp\n",
    "no_bootcamp = only_4[\n",
    "    (only_4['CountryLive'] == 'United States of America') & \n",
    "    (only_4['money_per_month'] >= 6000) &\n",
    "    (only_4['AttendedBootcamp'] == 0)\n",
    "]\n",
    "\n",
    "only_4 = only_4.drop(no_bootcamp.index)\n",
    "\n",
    "\n",
    "# Remove the respondents that had been programming for less than 3 months\n",
    "less_than_3_months = only_4[\n",
    "    (only_4['CountryLive'] == 'United States of America') & \n",
    "    (only_4['money_per_month'] >= 6000) &\n",
    "    (only_4['MonthsProgramming'] <= 3)\n",
    "]\n",
    "\n",
    "only_4 = only_4.drop(less_than_3_months.index)"
   ]
  },
  {
   "cell_type": "code",
   "execution_count": null,
   "metadata": {},
   "outputs": [],
   "source": [
    "# Examine the extreme outliers for Canada\n",
    "canada_outliers = only_4[\n",
    "    (only_4['CountryLive'] == 'Canada') & \n",
    "    (only_4['money_per_month'] > 4500)]\n",
    "\n",
    "canada_outliers"
   ]
  },
  {
   "cell_type": "code",
   "execution_count": null,
   "metadata": {},
   "outputs": [],
   "source": [
    "# Remove the extreme outliers for Canada\n",
    "only_4 = only_4.drop(canada_outliers.index)"
   ]
  },
  {
   "cell_type": "code",
   "execution_count": null,
   "metadata": {},
   "outputs": [],
   "source": [
    "# Recompute mean sum of money spent by students each month\n",
    "only_4.groupby('CountryLive').mean()['money_per_month']"
   ]
  },
  {
   "cell_type": "code",
   "execution_count": null,
   "metadata": {},
   "outputs": [],
   "source": [
    "# Visualize the distributions again\n",
    "sns.boxplot(y = 'money_per_month', x = 'CountryLive',\n",
    "            data = only_4)\n",
    "plt.title('Money Spent Per Month Per Country\\n(Distributions)',\n",
    "          fontsize = 16)\n",
    "plt.ylabel('Money per month (US dollars)')\n",
    "plt.xlabel('Country')\n",
    "plt.xticks(range(4), ['US', 'UK', 'India', 'Canada']) # avoids tick labels overlap\n",
    "plt.show()"
   ]
  },
  {
   "cell_type": "code",
   "execution_count": null,
   "metadata": {},
   "outputs": [],
   "source": [
    "# Frequency table for the 'CountryLive' column\n",
    "only_4['CountryLive'].value_counts(normalize = True) * 100"
   ]
  }
 ],
 "metadata": {
  "kernelspec": {
   "display_name": "Python 3",
   "language": "python",
   "name": "python3"
  },
  "language_info": {
   "codemirror_mode": {
    "name": "ipython",
    "version": 3
   },
   "file_extension": ".py",
   "mimetype": "text/x-python",
   "name": "python",
   "nbconvert_exporter": "python",
   "pygments_lexer": "ipython3",
   "version": "3.8.3"
  }
 },
 "nbformat": 4,
 "nbformat_minor": 4
}
