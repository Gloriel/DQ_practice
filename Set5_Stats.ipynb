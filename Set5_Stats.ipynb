{
 "cells": [
  {
   "cell_type": "code",
   "execution_count": 1,
   "metadata": {},
   "outputs": [],
   "source": [
    "import pandas as pd\n",
    "wnba = pd.read_csv('wnba.csv')\n",
    "parameter = wnba['Games Played'].max()\n",
    "sample = wnba['Games Played'].sample(30, random_state = 1)\n",
    "statistic = sample.max()\n",
    "sampling_error = parameter - statistic"
   ]
  },
  {
   "cell_type": "code",
   "execution_count": 2,
   "metadata": {},
   "outputs": [
    {
     "data": {
      "text/plain": [
       "<matplotlib.lines.Line2D at 0x15c6253a070>"
      ]
     },
     "execution_count": 2,
     "metadata": {},
     "output_type": "execute_result"
    },
    {
     "data": {
      "image/png": "[encoded data removed]",
      "text/plain": [
       "<Figure size 432x288 with 1 Axes>"
      ]
     },
     "metadata": {
      "needs_background": "light"
     },
     "output_type": "display_data"
    }
   ],
   "source": [
    "import pandas as pd\n",
    "import matplotlib.pyplot as plt\n",
    "\n",
    "wnba = pd.read_csv('wnba.csv')\n",
    "sample_means = []\n",
    "population_mean = wnba['PTS'].mean()\n",
    "\n",
    "for i in range(100):\n",
    "    sample = wnba['PTS'].sample(10, random_state=i)\n",
    "    sample_means.append(sample.mean())\n",
    "\n",
    "plt.scatter(range(1,101), sample_means)\n",
    "plt.axhline(population_mean)"
   ]
  },
  {
   "cell_type": "code",
   "execution_count": null,
   "metadata": {},
   "outputs": [],
   "source": [
    "wnba['Pts_per_game'] = wnba['PTS'] / wnba['Games Played']\n",
    "\n",
    "# Stratifying the data in five strata\n",
    "stratum_G = wnba[wnba.Pos == 'G']\n",
    "stratum_F = wnba[wnba.Pos == 'F']\n",
    "stratum_C = wnba[wnba.Pos == 'C']\n",
    "stratum_GF = wnba[wnba.Pos == 'G/F']\n",
    "stratum_FC = wnba[wnba.Pos == 'F/C']\n",
    "\n",
    "points_per_position = {}\n",
    "for stratum, position in [(stratum_G, 'G'), (stratum_F, 'F'), (stratum_C, 'C'),\n",
    "                (stratum_GF, 'G/F'), (stratum_FC, 'F/C')]:\n",
    "    \n",
    "    sample = stratum['Pts_per_game'].sample(10, random_state = 0) # simple random sampling on each stratum\n",
    "    points_per_position[position] = sample.mean()\n",
    "    \n",
    "position_most_points = max(points_per_position, key = points_per_position.get)"
   ]
  },
  {
   "cell_type": "code",
   "execution_count": null,
   "metadata": {},
   "outputs": [],
   "source": [
    "under_12 = wnba[wnba['Games Played'] <= 12]\n",
    "btw_13_22 = wnba[(wnba['Games Played'] > 12) & (wnba['Games Played'] <= 22)]\n",
    "over_23 = wnba[wnba['Games Played'] > 22]\n",
    "\n",
    "proportional_sampling_means = []\n",
    "\n",
    "for i in range(100):\n",
    "    sample_under_12 = under_12['PTS'].sample(1, random_state = i)\n",
    "    sample_btw_13_22 = btw_13_22['PTS'].sample(2, random_state = i)\n",
    "    sample_over_23 = over_23['PTS'].sample(7, random_state = i)\n",
    "    \n",
    "    final_sample = pd.concat([sample_under_12, sample_btw_13_22, sample_over_23])\n",
    "    proportional_sampling_means.append(final_sample.mean())\n",
    "    \n",
    "plt.scatter(range(1,101), proportional_sampling_means)\n",
    "plt.axhline(wnba['PTS'].mean())"
   ]
  },
  {
   "cell_type": "code",
   "execution_count": null,
   "metadata": {},
   "outputs": [],
   "source": [
    "clusters = pd.Series(wnba['Team'].unique()).sample(4, random_state = 0)\n",
    "\n",
    "sample = pd.DataFrame()\n",
    "\n",
    "for cluster in clusters:\n",
    "    data_collected = wnba[wnba['Team'] == cluster]\n",
    "    sample = sample.append(data_collected)\n",
    "\n",
    "sampling_error_height = wnba['Height'].mean() - sample['Height'].mean()\n",
    "sampling_error_age = wnba['Age'].mean() - sample['Age'].mean()\n",
    "sampling_error_BMI = wnba['BMI'].mean() - sample['BMI'].mean()\n",
    "sampling_error_points = wnba['PTS'].mean() - sample['PTS'].mean()"
   ]
  },
  {
   "cell_type": "code",
   "execution_count": null,
   "metadata": {},
   "outputs": [],
   "source": [
    "import pandas as pd\n",
    "wnba = pd.read_csv('wnba.csv')\n",
    "\n",
    "variables = {'Name': '', 'Team': '', 'Pos': '', 'Height': '', 'BMI': '',\n",
    "             'Birth_Place': '', 'Birthdate': '', 'Age': '', 'College': '', 'Experience': '',\n",
    "             'Games Played': '', 'MIN': '', 'FGM': '', 'FGA': '',\n",
    "             '3PA': '', 'FTM': '', 'FTA': '', 'FT%': '', 'OREB': '', 'DREB': '',\n",
    "             'REB': '', 'AST': '', 'PTS': ''}\n",
    "variables = {'Name': 'qualitative', 'Team': 'qualitative', 'Pos': 'qualitative',\n",
    "             'Height': 'quantitative', 'BMI': 'quantitative',\n",
    "             'Birth_Place': 'qualitative', 'Birthdate': 'quantitative', 'Age': 'quantitative', \n",
    "             'College': 'qualitative', 'Experience': 'quantitative', 'Games Played': 'quantitative',\n",
    "             'MIN': 'quantitative', 'FGM': 'quantitative', 'FGA': 'quantitative',\n",
    "             '3PA': 'quantitative', 'FTM': 'quantitative',\n",
    "             'FTA': 'quantitative', 'FT%': 'quantitative', 'OREB': 'quantitative', 'DREB': 'quantitative',\n",
    "             'REB': 'quantitative', 'AST': 'quantitative', 'PTS': 'quantitative'}"
   ]
  },
  {
   "cell_type": "code",
   "execution_count": null,
   "metadata": {},
   "outputs": [],
   "source": [
    "nominal_scale = sorted(['Name', 'Team', 'Pos', 'Birth_Place', 'College'])\n",
    "interval = ['Birthdate', 'Weight_deviation']\n",
    "ratio = sorted(['Height', 'Weight', 'BMI', 'Age', 'Experience', 'Games Played', 'MIN', 'FGM', 'FGA', 'FG%', '15:00', \n",
    "                '3PA', '3P%', 'FTM', 'FTA', 'FT%', 'OREB', 'DREB', 'REB', 'AST', 'STL', 'BLK', 'TO',\n",
    "                'PTS', 'DD2', 'TD3'])"
   ]
  },
  {
   "cell_type": "code",
   "execution_count": null,
   "metadata": {},
   "outputs": [],
   "source": [
    "ratio_interval_only = {'Height':'', 'Weight': '', 'BMI': '', 'Age': '', 'Games Played': '', 'MIN': '', 'FGM': '',\n",
    "                       'FGA': '', 'FG%': '', '3PA': '', '3P%': '', 'FTM': '', 'FTA': '', 'FT%': '',\n",
    "                       'OREB': '', 'DREB': '', 'REB': '', 'AST': '', 'STL': '', 'BLK': '', 'TO': '',\n",
    "                       'PTS': '', 'DD2': '', 'TD3': '', 'Weight_deviation': ''}\n",
    "ratio_interval_only = {'Height': 'continuous', 'Weight': 'continuous', 'BMI': 'continuous', 'Age': 'continuous',\n",
    "                       'Games Played': 'discrete', 'MIN': 'continuous', 'FGM': 'discrete',\n",
    "                       'FGA': 'discrete', 'FG%': 'continuous', '3PA': 'discrete', '3P%': 'continuous',\n",
    "                       'FTM': 'discrete', 'FTA': 'discrete', 'FT%': 'continuous', 'OREB': 'discrete',\n",
    "                       'DREB': 'discrete', 'REB': 'discrete', 'AST': 'discrete', 'STL': 'discrete',\n",
    "                       'BLK': 'discrete', 'TO': 'discrete', 'PTS': 'discrete', 'DD2': 'discrete', \n",
    "                       'TD3': 'discrete', 'Weight_deviation': 'continuous'}"
   ]
  },
  {
   "cell_type": "code",
   "execution_count": null,
   "metadata": {},
   "outputs": [],
   "source": [
    "bmi = {21.201: [],\n",
    " 21.329: [],\n",
    " 23.875: [],\n",
    " 24.543: [],\n",
    " 25.469: []}\n",
    "bmi = {21.201: [21.2005, 21.2015],\n",
    " 21.329: [21.3285, 21.3295],\n",
    " 23.875: [23.8745, 23.8755],\n",
    " 24.543: [24.5425, 24.5435],\n",
    " 25.469: [25.4685, 25.4695]}"
   ]
  },
  {
   "cell_type": "code",
   "execution_count": null,
   "metadata": {},
   "outputs": [],
   "source": [
    "pd.options.display.max_rows = 200\n",
    "pd.options.display.max_columns = 50\n",
    "\n",
    "freq_distro_pos = wnba['Pos'].value_counts()\n",
    "freq_distro_height = wnba['Height'].value_counts()\n",
    "\n",
    "age_ascending = wnba['Age'].value_counts().sort_index()\n",
    "age_descending = wnba['Age'].value_counts().sort_index(ascending = False)"
   ]
  },
  {
   "cell_type": "code",
   "execution_count": null,
   "metadata": {},
   "outputs": [],
   "source": [
    "def make_pts_ordinal(row):\n",
    "    if row['PTS'] <= 20:\n",
    "        return 'very few points'\n",
    "    if (20 < row['PTS'] <=  80):\n",
    "        return 'few points'\n",
    "    if (80 < row['PTS'] <=  150):\n",
    "        return 'many, but below average'\n",
    "    if (150 < row['PTS'] <= 300):\n",
    "        return 'average number of points'\n",
    "    if (300 < row['PTS'] <=  450):\n",
    "        return 'more than average'\n",
    "    else:\n",
    "        return 'much more than average'\n",
    "    \n",
    "wnba['PTS_ordinal_scale'] = wnba.apply(make_pts_ordinal, axis = 1)\n",
    "\n",
    "# Type your answer below\n",
    "pts_ordinal_desc = wnba['PTS_ordinal_scale'].value_counts().iloc[[4, 3, 0, 2, 1, 5]]"
   ]
  },
  {
   "cell_type": "code",
   "execution_count": null,
   "metadata": {},
   "outputs": [],
   "source": [
    "percentages = wnba['Age'].value_counts(normalize = True).sort_index() * 100\n",
    "proportion_25 = percentages[25] / 100\n",
    "percentage_30 = percentages[30]\n",
    "percentage_over_30 = percentages.loc[30:].sum()\n",
    "percentage_below_23 = percentages.loc[:23].sum()"
   ]
  },
  {
   "cell_type": "code",
   "execution_count": null,
   "metadata": {},
   "outputs": [],
   "source": [
    "from scipy.stats import percentileofscore\n",
    "percentile_rank_half_less = percentileofscore(wnba['Games Played'], 17, kind = 'weak')\n",
    "percentage_half_more = 100 - percentile_rank_half_less"
   ]
  },
  {
   "cell_type": "code",
   "execution_count": null,
   "metadata": {},
   "outputs": [],
   "source": [
    "percentiles = wnba['Age'].describe(percentiles = [.5, .75, .95])\n",
    "age_upper_quartile = percentiles['75%']\n",
    "age_middle_quartile = percentiles['50%']\n",
    "age_95th_percentile = percentiles['95%']\n"
   ]
  },
  {
   "cell_type": "code",
   "execution_count": null,
   "metadata": {},
   "outputs": [],
   "source": [
    "grouped_freq_table = wnba['PTS'].value_counts(bins = 10,\n",
    "                normalize = True).sort_index(ascending = False) * 100"
   ]
  },
  {
   "cell_type": "code",
   "execution_count": null,
   "metadata": {},
   "outputs": [],
   "source": [
    "intervals = pd.interval_range(start = 0, end = 600, freq = 60)\n",
    "gr_freq_table_10 = pd.Series([0 for _ in range(10)], index = intervals)\n",
    "\n",
    "for value in wnba['PTS']:\n",
    "    for interval in intervals:\n",
    "        if value in interval:\n",
    "            gr_freq_table_10.loc[interval] += 1\n",
    "            break"
   ]
  },
  {
   "cell_type": "code",
   "execution_count": 6,
   "metadata": {},
   "outputs": [
    {
     "data": {
      "text/plain": [
       "<AxesSubplot:>"
      ]
     },
     "execution_count": 6,
     "metadata": {},
     "output_type": "execute_result"
    },
    {
     "data": {
      "image/png": "[encoded data removed]",
      "text/plain": [
       "<Figure size 432x288 with 1 Axes>"
      ]
     },
     "metadata": {
      "needs_background": "light"
     },
     "output_type": "display_data"
    }
   ],
   "source": [
    "wnba['Experience'].value_counts().iloc[[3,0,2,1,4]].plot.bar()"
   ]
  },
  {
   "cell_type": "code",
   "execution_count": null,
   "metadata": {},
   "outputs": [],
   "source": [
    "wnba['Exp_ordinal'].value_counts().iloc[[3,0,2,1,4]].plot.barh(\n",
    "    title = 'Number of players in WNBA by level of experience')\n",
    "wnba['Exp_ordinal'].value_counts().plot.pie()\n",
    "wnba['Exp_ordinal'].value_counts().plot.pie(figsize = (6,6), autopct = '%.2f%%',\n",
    "                                    title = 'Percentage of players in WNBA by level of experience')\n",
    "plt.ylabel('')"
   ]
  },
  {
   "cell_type": "code",
   "execution_count": null,
   "metadata": {},
   "outputs": [],
   "source": [
    "wnba['PTS'].plot.hist()"
   ]
  },
  {
   "cell_type": "code",
   "execution_count": null,
   "metadata": {},
   "outputs": [],
   "source": [
    "wnba['Games Played'].plot.hist()"
   ]
  },
  {
   "cell_type": "code",
   "execution_count": null,
   "metadata": {},
   "outputs": [],
   "source": [
    "wnba['Games Played'].plot.hist(range = (1,32), bins = 8,\n",
    "                               title = 'The distribution of players by games played')\n",
    "plt.xlabel('Games played')"
   ]
  },
  {
   "cell_type": "code",
   "execution_count": null,
   "metadata": {},
   "outputs": [],
   "source": [
    "assists_distro = 'right skewed'\n",
    "ft_percent_distro = 'left skewed'\n",
    "normal_distribution = 'Height'"
   ]
  },
  {
   "cell_type": "code",
   "execution_count": null,
   "metadata": {},
   "outputs": [],
   "source": [
    "rookies = wnba[wnba['Exp_ordinal'] == 'Rookie']\n",
    "little_xp = wnba[wnba['Exp_ordinal'] == 'Little experience']\n",
    "experienced = wnba[wnba['Exp_ordinal'] == 'Experienced']\n",
    "very_xp = wnba[wnba['Exp_ordinal'] == 'Very experienced']\n",
    "veterans =  wnba[wnba['Exp_ordinal'] == 'Veteran']\n",
    "rookie_distro = rookies['Pos'].value_counts()\n",
    "little_xp_distro = little_xp['Pos'].value_counts()\n",
    "experienced_distro = experienced['Pos'].value_counts()\n",
    "very_xp_distro = very_xp['Pos'].value_counts()\n",
    "veteran_distro = veterans['Pos'].value_counts()\n",
    "\n",
    "print(rookie_distro, '\\n\\n', little_xp_distro, '\\n\\n', experienced_distro, '\\n\\n',\n",
    "      very_xp_distro, '\\n\\n', veteran_distro)"
   ]
  },
  {
   "cell_type": "code",
   "execution_count": null,
   "metadata": {},
   "outputs": [],
   "source": [
    "import seaborn as sns\n",
    "sns.countplot(x = 'Exp_ordinal', hue = 'Pos', data = wnba,\n",
    "              order = ['Rookie', 'Little experience', 'Experienced', 'Very experienced', 'Veteran'],\n",
    "              hue_order = ['C', 'F', 'F/C', 'G', 'G/F']\n",
    "             )"
   ]
  },
  {
   "cell_type": "code",
   "execution_count": null,
   "metadata": {},
   "outputs": [],
   "source": [
    "sns.countplot(x = 'age_mean_relative', hue = 'min_mean_relative', data = wnba)\n",
    "result = 'rejection'"
   ]
  },
  {
   "cell_type": "code",
   "execution_count": null,
   "metadata": {},
   "outputs": [],
   "source": [
    "import matplotlib.pyplot as plt\n",
    "wnba[wnba.Age >= 27]['MIN'].plot.hist(histtype = 'step', label = 'Old', legend = True)\n",
    "wnba[wnba.Age < 27]['MIN'].plot.hist(histtype = 'step', label = 'Young', legend = True)\n",
    "plt.axvline(497, label = 'Average')\n",
    "plt.legend()\n",
    "plt.show()"
   ]
  },
  {
   "cell_type": "code",
   "execution_count": null,
   "metadata": {},
   "outputs": [],
   "source": [
    "wnba[wnba.Age >= 27]['MIN'].plot.kde(label = 'Old', legend = True)\n",
    "wnba[wnba.Age < 27]['MIN'].plot.kde(label = 'Young', legend = True)\n",
    "plt.axvline(497, label = 'Average')\n",
    "plt.legend()\n",
    "plt.show()\n",
    "\n",
    "'''We can still observe that most of the old players that belong to the \"average or above\"\n",
    "category play significantly more than average. With the help of the vertical line, the pattern\n",
    "is very easy to notice. Because the graph looks much cleaner than the one with step-type\n",
    "histograms, we can easily argue that the pattern is much more obvious in the case of kernel density\n",
    "plots.'''"
   ]
  },
  {
   "cell_type": "code",
   "execution_count": null,
   "metadata": {},
   "outputs": [],
   "source": [
    "sns.stripplot(x = 'Pos', y = 'Weight', data = wnba, jitter = True)\n",
    "plt.show()\n",
    "\n",
    "'''The patterns we see are strikingly similar to those we saw for heights. This can be easily\n",
    "explained by the fact that there's a strong positive relation between a player's height and her\n",
    "weight: the taller the player, the heavier she is; the shorter the player, the lighter she is.'''"
   ]
  },
  {
   "cell_type": "code",
   "execution_count": null,
   "metadata": {},
   "outputs": [],
   "source": [
    "sns.boxplot(x = 'Pos', y = 'Weight', data = wnba)\n",
    "plt.show()"
   ]
  },
  {
   "cell_type": "code",
   "execution_count": null,
   "metadata": {},
   "outputs": [],
   "source": [
    "iqr = 29 - 22\n",
    "lower_bound = 22 - (1.5 * iqr)\n",
    "upper_bound = 29 + (1.5 * iqr)\n",
    "outliers_low = sum(wnba['Games Played'] < lower_bound) # True values will count as 1 in the summation\n",
    "outliers_high = sum(wnba['Games Played'] > upper_bound)\n",
    "\n",
    "sns.boxplot(wnba['Games Played'])\n",
    "plt.show()"
   ]
  },
  {
   "cell_type": "code",
   "execution_count": null,
   "metadata": {},
   "outputs": [],
   "source": [
    "import pandas as pd\n",
    "pd.options.display.max_columns = 100  # Avoid having displayed truncated output\n",
    "\n",
    "previous = pd.read_csv('fandango_score_comparison.csv')\n",
    "after = pd.read_csv('movie_ratings_16_17.csv')\n",
    "\n",
    "previous.head(3)"
   ]
  },
  {
   "cell_type": "code",
   "execution_count": null,
   "metadata": {},
   "outputs": [],
   "source": [
    "after.head(3)"
   ]
  },
  {
   "cell_type": "code",
   "execution_count": null,
   "metadata": {},
   "outputs": [],
   "source": [
    "fandango_previous = previous[['FILM', 'Fandango_Stars', 'Fandango_Ratingvalue', 'Fandango_votes',\n",
    "                             'Fandango_Difference']].copy()\n",
    "fandango_after = after[['movie', 'year', 'fandango']].copy()\n",
    "\n",
    "fandango_previous.head(3)"
   ]
  },
  {
   "cell_type": "code",
   "execution_count": null,
   "metadata": {},
   "outputs": [],
   "source": [
    "fandango_after.head(3)"
   ]
  },
  {
   "cell_type": "code",
   "execution_count": null,
   "metadata": {},
   "outputs": [],
   "source": [
    "fandango_after.sample(10, random_state = 1)"
   ]
  },
  {
   "cell_type": "code",
   "execution_count": null,
   "metadata": {},
   "outputs": [],
   "source": [
    "sum(fandango_previous['Fandango_votes'] < 30)"
   ]
  },
  {
   "cell_type": "code",
   "execution_count": null,
   "metadata": {},
   "outputs": [],
   "source": [
    "fandango_previous.head(2)"
   ]
  },
  {
   "cell_type": "code",
   "execution_count": null,
   "metadata": {},
   "outputs": [],
   "source": [
    "fandango_previous['Year'] = fandango_previous['FILM'].str[-5:-1]\n",
    "fandango_previous.head(2)"
   ]
  },
  {
   "cell_type": "code",
   "execution_count": null,
   "metadata": {},
   "outputs": [],
   "source": [
    "fandango_previous['Year'].value_counts()"
   ]
  },
  {
   "cell_type": "code",
   "execution_count": null,
   "metadata": {},
   "outputs": [],
   "source": [
    "fandango_2015 = fandango_previous[fandango_previous['Year'] == '2015'].copy()\n",
    "fandango_2015['Year'].value_counts()"
   ]
  },
  {
   "cell_type": "code",
   "execution_count": null,
   "metadata": {},
   "outputs": [],
   "source": [
    "fandango_after.head(2)"
   ]
  },
  {
   "cell_type": "code",
   "execution_count": null,
   "metadata": {},
   "outputs": [],
   "source": [
    "fandango_after['year'].value_counts()"
   ]
  },
  {
   "cell_type": "code",
   "execution_count": null,
   "metadata": {},
   "outputs": [],
   "source": [
    "fandango_2016 = fandango_after[fandango_after['year'] == 2016].copy()\n",
    "fandango_2016['year'].value_counts()"
   ]
  },
  {
   "cell_type": "code",
   "execution_count": null,
   "metadata": {},
   "outputs": [],
   "source": [
    "import matplotlib.pyplot as plt\n",
    "from numpy import arange\n",
    "%matplotlib inline\n",
    "plt.style.use('fivethirtyeight')\n",
    "\n",
    "fandango_2015['Fandango_Stars'].plot.kde(label = '2015', legend = True, figsize = (8,5.5))\n",
    "fandango_2016['fandango'].plot.kde(label = '2016', legend = True)\n",
    "\n",
    "plt.title(\"Comparing distribution shapes for Fandango's ratings\\n(2015 vs 2016)\",\n",
    "          y = 1.07) # the `y` parameter pads the title upward\n",
    "plt.xlabel('Stars')\n",
    "plt.xlim(0,5) # because ratings start at 0 and end at 5\n",
    "plt.xticks(arange(0,5.1,.5))\n",
    "plt.show()"
   ]
  },
  {
   "cell_type": "code",
   "execution_count": null,
   "metadata": {},
   "outputs": [],
   "source": [
    "print('2015' + '\\n' + '-' * 16) # To help us distinguish between the two tables immediately and\n",
    "                                # avoid silly mistakes as we read to and fro\n",
    "fandango_2015['Fandango_Stars'].value_counts(normalize = True).sort_index() * 100"
   ]
  },
  {
   "cell_type": "code",
   "execution_count": null,
   "metadata": {},
   "outputs": [],
   "source": [
    "print('2016' + '\\n' + '-' * 16)\n",
    "fandango_2016['fandango'].value_counts(normalize = True).sort_index() * 100"
   ]
  },
  {
   "cell_type": "code",
   "execution_count": null,
   "metadata": {},
   "outputs": [],
   "source": [
    "mean_2015 = fandango_2015['Fandango_Stars'].mean()\n",
    "mean_2016 = fandango_2016['fandango'].mean()\n",
    "\n",
    "median_2015 = fandango_2015['Fandango_Stars'].median()\n",
    "median_2016 = fandango_2016['fandango'].median()\n",
    "\n",
    "mode_2015 = fandango_2015['Fandango_Stars'].mode()[0] # the output of Series.mode() is a bit uncommon\n",
    "mode_2016 = fandango_2016['fandango'].mode()[0]\n",
    "\n",
    "summary = pd.DataFrame()\n",
    "summary['2015'] = [mean_2015, median_2015, mode_2015]\n",
    "summary['2016'] = [mean_2016, median_2016, mode_2016]\n",
    "summary.index = ['mean', 'median', 'mode']\n",
    "summary"
   ]
  },
  {
   "cell_type": "code",
   "execution_count": null,
   "metadata": {},
   "outputs": [],
   "source": [
    "plt.style.use('fivethirtyeight')\n",
    "summary['2015'].plot.bar(color = '#0066FF', align = 'center', label = '2015', width = .25)\n",
    "summary['2016'].plot.bar(color = '#CC0000', align = 'edge', label = '2016', width = .25,\n",
    "                         rot = 0, figsize = (8,5))\n",
    "\n",
    "plt.title('Comparing summary statistics: 2015 vs 2016', y = 1.07)\n",
    "plt.ylim(0,5.5)\n",
    "plt.yticks(arange(0,5.1,.5))\n",
    "plt.ylabel('Stars')\n",
    "plt.legend(framealpha = 0, loc = 'upper center')\n",
    "plt.show()"
   ]
  },
  {
   "cell_type": "code",
   "execution_count": null,
   "metadata": {},
   "outputs": [],
   "source": [
    "(summary.loc['mean'][0] - summary.loc['mean'][1]) / summary.loc['mean'][0]"
   ]
  },
  {
   "cell_type": "code",
   "execution_count": null,
   "metadata": {},
   "outputs": [],
   "source": []
  }
 ],
 "metadata": {
  "kernelspec": {
   "display_name": "Python 3",
   "language": "python",
   "name": "python3"
  },
  "language_info": {
   "codemirror_mode": {
    "name": "ipython",
    "version": 3
   },
   "file_extension": ".py",
   "mimetype": "text/x-python",
   "name": "python",
   "nbconvert_exporter": "python",
   "pygments_lexer": "ipython3",
   "version": "3.8.3"
  }
 },
 "nbformat": 4,
 "nbformat_minor": 4
}
