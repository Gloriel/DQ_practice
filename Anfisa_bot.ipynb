{
 "cells": [
  {
   "cell_type": "markdown",
   "metadata": {},
   "source": [
    "синтаксис Python;\n",
    "основы HTML и CSS;\n",
    "базы данных: SQL, SQLite, PostgreSQL;\n",
    "Django, Django ORM;\n",
    "тестирование;\n",
    "работа с API;\n",
    "инфраструктура: Docker, Nginx, Яндекс.Облако;\n",
    "алгоритмы."
   ]
  },
  {
   "cell_type": "markdown",
   "metadata": {},
   "source": [
    "социальную сеть и телеграм-бота, вволю пообщаетесь с базами данных и с API, узнаете, как работать с серверами, получите опыт командной работы;"
   ]
  },
  {
   "cell_type": "markdown",
   "metadata": {},
   "source": [
    "https://practicum.yandex.ru/profile/backend-developer/"
   ]
  },
  {
   "cell_type": "code",
   "execution_count": 1,
   "metadata": {
    "ExecuteTime": {
     "end_time": "2021-08-15T09:50:52.977329Z",
     "start_time": "2021-08-15T09:50:52.103863Z"
    }
   },
   "outputs": [],
   "source": [
    "import numpy as np\n",
    "from scipy import stats\n",
    "import datetime as dt\n",
    "import requests"
   ]
  },
  {
   "cell_type": "code",
   "execution_count": 2,
   "metadata": {
    "ExecuteTime": {
     "end_time": "2021-08-15T09:50:53.672285Z",
     "start_time": "2021-08-15T09:50:53.215963Z"
    }
   },
   "outputs": [
    {
     "name": "stdout",
     "output_type": "stream",
     "text": [
      "Анфиса, сколько у меня друзей? - У тебя 10 друзей\n",
      "Анфиса, кто все мои друзья? - Твои друзья: Сергей, Соня, Алексей, Миша, Дима, Алина, Егор, Коля, Артём, Петя\n",
      "Анфиса, где все мои друзья? - Твои друзья в городах: Владивосток, Москва, Челябинск, Калининград, Красноярск, Пермь, Михайловка, Омск\n",
      "Анфиса, кто виноват? - <неизвестный запрос>\n",
      "Коля, ты где? - Коля в городе Красноярск\n",
      "Соня, что делать? - <неизвестный запрос>\n",
      "Антон, ты где? - У тебя нет друга по имени Антон\n",
      "Алексей, который час? - Там сейчас 11:50\n",
      "Артём, который час? - Там сейчас 19:50\n",
      "Антон, который час? - У тебя нет друга по имени Антон\n",
      "Петя, который час? - <не могу определить время в городе Михайловка>\n",
      "Коля, как погода? - У нас сейчас ☀️ 🌡️+20°C 🌬️↘3.1m/s\n",
      "Соня, как погода? - У нас сейчас ☀️ 🌡️+24°C 🌬️↑6.1m/s\n",
      "Антон, как погода? - У тебя нет друга по имени Антон\n"
     ]
    }
   ],
   "source": [
    "DATABASE = {\n",
    "    'Сергей': 'Омск',\n",
    "    'Соня': 'Москва',\n",
    "    'Алексей': 'Калининград',\n",
    "    'Миша': 'Москва',\n",
    "    'Дима': 'Челябинск',\n",
    "    'Алина': 'Красноярск',\n",
    "    'Егор': 'Пермь',\n",
    "    'Коля': 'Красноярск',\n",
    "    'Артём': 'Владивосток',\n",
    "    'Петя': 'Михайловка'\n",
    "}\n",
    "\n",
    "UTC_OFFSET = {\n",
    "    'Москва': 3,\n",
    "    'Санкт-Петербург': 3,\n",
    "    'Новосибирск': 7,\n",
    "    'Екатеринбург': 5,\n",
    "    'Нижний Новгород': 3,\n",
    "    'Казань': 3,\n",
    "    'Челябинск': 5,\n",
    "    'Омск': 6,\n",
    "    'Самара': 4,\n",
    "    'Ростов-на-Дону': 3,\n",
    "    'Уфа': 5,\n",
    "    'Красноярск': 7,\n",
    "    'Воронеж': 3,\n",
    "    'Пермь': 5,\n",
    "    'Волгоград': 3,\n",
    "    'Краснодар': 3,\n",
    "    'Калининград': 2,\n",
    "    'Владивосток': 10\n",
    "}\n",
    "\n",
    "\n",
    "def format_count_friends(count_friends):\n",
    "    if count_friends == 1:\n",
    "        return '1 друг'\n",
    "    elif 2 <= count_friends <= 4:\n",
    "        return f'{count_friends} друга'\n",
    "    else:\n",
    "        return f'{count_friends} друзей'\n",
    "\n",
    "\n",
    "def what_time(city):\n",
    "    offset = UTC_OFFSET[city]\n",
    "    city_time = dt.datetime.utcnow() + dt.timedelta(hours=offset)\n",
    "    f_time = city_time.strftime(\"%H:%M\")\n",
    "    return f_time\n",
    "\n",
    "\n",
    "def what_weather(city):\n",
    "    url = f'http://wttr.in/{city}'\n",
    "    weather_parameters = {\n",
    "        'format': 2,\n",
    "        'M': ''\n",
    "    }\n",
    "    try:\n",
    "        response = requests.get(url, params=weather_parameters)\n",
    "    except requests.ConnectionError:\n",
    "        return '<сетевая ошибка>'\n",
    "    if response.status_code == 200:\n",
    "        return response.text.strip()\n",
    "    else:\n",
    "        return '<ошибка на сервере погоды>'\n",
    "\n",
    "\n",
    "def process_anfisa(query):\n",
    "    if query == 'сколько у меня друзей?':\n",
    "        count_string = format_count_friends(len(DATABASE))\n",
    "        return f'У тебя {count_string}'\n",
    "    elif query == 'кто все мои друзья?':\n",
    "        friends_string = ', '.join(DATABASE.keys())\n",
    "        return f'Твои друзья: {friends_string}'\n",
    "    elif query == 'где все мои друзья?':\n",
    "        unique_cities = set(DATABASE.values())\n",
    "        cities_string = ', '.join(unique_cities)\n",
    "        return f'Твои друзья в городах: {cities_string}'\n",
    "    else:\n",
    "        return '<неизвестный запрос>'\n",
    "\n",
    "\n",
    "def process_friend(name, query):\n",
    "    if name in DATABASE:\n",
    "        city = DATABASE[name]\n",
    "        if query == 'ты где?':\n",
    "            return f'{name} в городе {city}'\n",
    "        elif query == 'который час?':\n",
    "            if city not in UTC_OFFSET:\n",
    "                return f'<не могу определить время в городе {city}>'\n",
    "            time = what_time(city)\n",
    "            return f'Там сейчас {time}'\n",
    "        elif query == 'как погода?':\n",
    "            weather = what_weather(city)\n",
    "            return f'У нас сейчас {weather}'\n",
    "        else:\n",
    "            return '<неизвестный запрос>'\n",
    "    else:\n",
    "        return f'У тебя нет друга по имени {name}'\n",
    "\n",
    "\n",
    "def process_query(query):\n",
    "    tokens = query.split(', ')\n",
    "    name = tokens[0]\n",
    "    if name == 'Анфиса':\n",
    "        return process_anfisa(tokens[1])\n",
    "    else:\n",
    "        return process_friend(name, tokens[1])\n",
    "\n",
    "\n",
    "def runner():\n",
    "    queries = [\n",
    "        'Анфиса, сколько у меня друзей?',\n",
    "        'Анфиса, кто все мои друзья?',\n",
    "        'Анфиса, где все мои друзья?',\n",
    "        'Анфиса, кто виноват?',\n",
    "        'Коля, ты где?',\n",
    "        'Соня, что делать?',\n",
    "        'Антон, ты где?',\n",
    "        'Алексей, который час?',\n",
    "        'Артём, который час?',\n",
    "        'Антон, который час?',\n",
    "        'Петя, который час?',\n",
    "        'Коля, как погода?',\n",
    "        'Соня, как погода?',\n",
    "        'Антон, как погода?'\n",
    "    ]\n",
    "    for query in queries:\n",
    "        print(query, '-', process_query(query))\n",
    "\n",
    "runner()"
   ]
  },
  {
   "cell_type": "code",
   "execution_count": null,
   "metadata": {},
   "outputs": [],
   "source": []
  },
  {
   "cell_type": "code",
   "execution_count": null,
   "metadata": {},
   "outputs": [],
   "source": []
  }
 ],
 "metadata": {
  "hide_input": false,
  "kernelspec": {
   "display_name": "Python 3",
   "language": "python",
   "name": "python3"
  },
  "language_info": {
   "codemirror_mode": {
    "name": "ipython",
    "version": 3
   },
   "file_extension": ".py",
   "mimetype": "text/x-python",
   "name": "python",
   "nbconvert_exporter": "python",
   "pygments_lexer": "ipython3",
   "version": "3.8.3"
  },
  "latex_envs": {
   "LaTeX_envs_menu_present": true,
   "autoclose": false,
   "autocomplete": true,
   "bibliofile": "biblio.bib",
   "cite_by": "apalike",
   "current_citInitial": 1,
   "eqLabelWithNumbers": true,
   "eqNumInitial": 1,
   "hotkeys": {
    "equation": "Ctrl-E",
    "itemize": "Ctrl-I"
   },
   "labels_anchors": false,
   "latex_user_defs": false,
   "report_style_numbering": false,
   "user_envs_cfg": false
  },
  "nbTranslate": {
   "displayLangs": [
    "*"
   ],
   "hotkey": "alt-t",
   "langInMainMenu": true,
   "sourceLang": "en",
   "targetLang": "fr",
   "useGoogleTranslate": true
  },
  "toc": {
   "base_numbering": 1,
   "nav_menu": {},
   "number_sections": true,
   "sideBar": true,
   "skip_h1_title": false,
   "title_cell": "Table of Contents",
   "title_sidebar": "Contents",
   "toc_cell": false,
   "toc_position": {},
   "toc_section_display": true,
   "toc_window_display": false
  },
  "varInspector": {
   "cols": {
    "lenName": 16,
    "lenType": 16,
    "lenVar": 40
   },
   "kernels_config": {
    "python": {
     "delete_cmd_postfix": "",
     "delete_cmd_prefix": "del ",
     "library": "var_list.py",
     "varRefreshCmd": "print(var_dic_list())"
    },
    "r": {
     "delete_cmd_postfix": ") ",
     "delete_cmd_prefix": "rm(",
     "library": "var_list.r",
     "varRefreshCmd": "cat(var_dic_list()) "
    }
   },
   "types_to_exclude": [
    "module",
    "function",
    "builtin_function_or_method",
    "instance",
    "_Feature"
   ],
   "window_display": false
  }
 },
 "nbformat": 4,
 "nbformat_minor": 4
}
